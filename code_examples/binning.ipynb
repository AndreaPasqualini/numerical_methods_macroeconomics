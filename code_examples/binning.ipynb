{
 "cells": [
  {
   "cell_type": "markdown",
   "metadata": {},
   "source": [
    "# Binning\n",
    "\n",
    "This notebook shows the code to implement binning.\n",
    "The details of how this works are provided by Professor Maffezzoli's slides.\n",
    "Here, we take a look at the main problem the technique addresses and we see how the procedure works, graphically."
   ]
  },
  {
   "cell_type": "code",
   "execution_count": 1,
   "metadata": {},
   "outputs": [],
   "source": [
    "import pickle  # saving Python objects in binary form\n",
    "import numpy as np\n",
    "from scipy import sparse as sp\n",
    "from scipy.sparse import linalg as spla\n",
    "from matplotlib import pyplot as plt"
   ]
  },
  {
   "cell_type": "markdown",
   "metadata": {},
   "source": [
    "In short, what is binning?\n",
    "Let's take the Aiyagari model as a framework.\n",
    "Every agent is subject to labor endowment shocks and they can accumulate capital.\n",
    "Suppose we solve an individual's problem and we obtain a policy function $k'(k, l)$.\n",
    "In solving this, we have used a grid $\\mathcal{K} \\in \\{k_0, k_1, \\ldots, k_{n-1} \\}$.\n",
    "Let $k^* \\equiv k'(k_i, l_j)$ denote the optimal action for some value of $k_i$ and $l_j$ on the discretized state space.\n",
    "Assume that $k^* \\notin \\mathcal{K}$.\n",
    "For simplicity, assume that there exists an index $q$ such that $k_q \\leq k^* \\leq k_{q+1}$.\n",
    "In laymen terms, the policy function is commanding that the agent accumulates capital for a value that is not on the grid, but whose closest points on the grid are $k_q$ and $k_{q+1}$.\n",
    "\n",
    "Assume that a positive mass $\\nu$ of agents happens to require $k^*$.\n",
    "Then we can divide $\\nu$ in fractions $\\omega$ and $1 - \\omega$ and assign those fractions to grid points $k_q$ and $k_{q+1}$.\n",
    "However, we have to be careful in doing so.\n",
    "Remember that the policy function, together with the exogenous processes and the endogenous unconditional distribution over the state space induce an endogenous law of motion for the conditional distribution over the state space.\n",
    "When we pin down the fractions $\\omega$, we must be careful not to affect this law of motion.\n",
    "This is because we are in a rational expectations setting: endogenous law of motions known to the modelist are also known to the agents in the model.\n",
    "Those expectations do affect their policy functions.\n",
    "\n",
    "[Young (2010)](https://doi.org/10.1016/j.jedc.2008.11.010) suggests a simple way of forming $\\omega$.\n",
    "The intution is simple: how big $\\omega$ is depends on how far apart $k^*$ is from $k_q$.\n",
    "The farther away, the higher $\\omega$.\n",
    "In particular, $\\omega$ will be proportional (actually, equal) to the distance between $k^*$ and $k_q$ relative to the distance between $k_q$ and $k_{q+1}$.\n",
    "This works if the grid over which the problem arises is _linearly spaced_."
   ]
  },
  {
   "cell_type": "markdown",
   "metadata": {},
   "source": [
    "## The algorithm, in code\n",
    "\n",
    "The algorithm is relatively simple.\n",
    "Based on the explanation above (based on the Aiyagari model), we need three ingredients: the grid $\\mathcal{K}$, the value (scalar) $k^*$ and the exogenous transition matrix.\n",
    "As we arbitrarily picked $k_i$ and $l_j$, we need to compute weights for every point on the state space grid.\n",
    "\n",
    "As we can imagine, we are going to build quite big sparse matrices.\n",
    "Hence, we can leverage the module `scipy.sparse`.\n",
    "Note one (big) limitation of `numpy`: **functions in Numpy are generally unaware of sparse matrices** and hence cannot operate efficiently ([Scipy even warns users](https://docs.scipy.org/doc/scipy/reference/sparse.html#usage-information) that using Numpy on sparse matrices may lead to entirely unpredictable results!).\n",
    "Hence, we should try to find functions in the `scipy.sparse` library, which are assured to make efficient use of sparse arrays.\n",
    "In the function `sparse_ergodic_distribution` we use the function [`scipy.sparse.linalg.spsolve`](https://docs.scipy.org/doc/scipy/reference/generated/scipy.sparse.linalg.spsolve.html) to compute the stationary distribution implied by $\\Pi$ by solving the system of equations $( I - \\Pi' + A ) \\pi = b$, where $A$ is a matrix of zeros except for the first row (containing all ones) and $b$ is a vector of zeros except for the first element (that is a one)."
   ]
  },
  {
   "cell_type": "code",
   "execution_count": 2,
   "metadata": {},
   "outputs": [],
   "source": [
    "def sparse_ergodic_distribution(PiSparse, tol=1e-8):\n",
    "    n = PiSparse.shape[0]\n",
    "    A = sp.lil_matrix((n, n), dtype=float)\n",
    "    A[0,:] = np.ones((1, n))\n",
    "    I = sp.eye(n)\n",
    "    b = np.zeros(n, dtype=float)\n",
    "    b[0] += 1.0\n",
    "    pi = spla.spsolve(I - PiSparse.T + A, b)\n",
    "    return pi"
   ]
  },
  {
   "cell_type": "markdown",
   "metadata": {},
   "source": [
    "Next, we need to write a function that tries to find the index $q$ such that $k_q \\leq k^* \\leq k_{q+1}$.\n",
    "In doing this, we must be careful not to hit the boundaries of the grid $\\mathcal{K}$.\n",
    "Additionally, given that we will find such index, we can also compute the weight $\\omega$."
   ]
  },
  {
   "cell_type": "code",
   "execution_count": 3,
   "metadata": {},
   "outputs": [],
   "source": [
    "def locate(grid, value):\n",
    "    sGrid = grid.squeeze()\n",
    "    n = sGrid.size\n",
    "    if value >= np.max(sGrid):\n",
    "        q = n - 2  # -1 because 0-based counting, -1 because [omega, 1-omega]\n",
    "        omega = 0.0\n",
    "    elif value <= np.min(sGrid):\n",
    "        q = 0\n",
    "        omega = 1.0\n",
    "    else:\n",
    "        q = np.nonzero( value >= sGrid )[0][-1]\n",
    "        omega = 1 - ( value - sGrid[q] ) / ( sGrid[q+1] - sGrid[q] )\n",
    "    return q, omega"
   ]
  },
  {
   "cell_type": "markdown",
   "metadata": {},
   "source": [
    "Finally, we can move on to construct the (enormous) sparse matrix that regulates the transition probabilities taking into account that some agents are going to points not-on-grid.\n",
    "Here we follow the notation in Maffezzoli's slides, where `g` corresponds to a representation of the block-diagonal matrix $G$ that governs the transition between one unconditional distribution $\\lambda_t$ to the next one $\\lambda_{t+1}$."
   ]
  },
  {
   "cell_type": "code",
   "execution_count": 4,
   "metadata": {},
   "outputs": [],
   "source": [
    "def qMatrix(k, kOpt, Pi):\n",
    "    n, m = kOpt.shape\n",
    "    g = []\n",
    "    for j in range(m):\n",
    "        w = sp.lil_matrix((n, n), dtype=float)\n",
    "        for i in range(n):\n",
    "            q, omega = locate(k, kOpt[i, j])\n",
    "            w[i, q] = omega\n",
    "            w[i, q+1] = 1 - omega\n",
    "        g.append(w.tocsr())\n",
    "    I = sp.eye(n)\n",
    "    q = sp.kron(Pi, I).dot(sp.block_diag(g))\n",
    "    return q"
   ]
  },
  {
   "cell_type": "markdown",
   "metadata": {},
   "source": [
    "In the last TA session we solved the Aiyagari model.\n",
    "This gave back a policy function and a transition matrix for the exogenous process, among other things.\n",
    "To test the code above, we will borrow that policy function, without recomputing everything.\n",
    "We can do so with the `pickle` module, which essentially allows us to save files like `.mat`, `.RData` and `.dta` that contain Python objects."
   ]
  },
  {
   "cell_type": "code",
   "execution_count": 5,
   "metadata": {},
   "outputs": [],
   "source": [
    "with open('./aiyagari_polfun.pkl', mode='rb') as rick:\n",
    "    stuffFromAiyagari = pickle.load(rick)\n",
    "    l = stuffFromAiyagari['labor'].squeeze()\n",
    "    k = stuffFromAiyagari['capital'].squeeze()\n",
    "    Pi = stuffFromAiyagari['exoTrans']\n",
    "    k1 = stuffFromAiyagari['polFun'].T"
   ]
  },
  {
   "cell_type": "markdown",
   "metadata": {},
   "source": [
    "What we do now is simply test our binning algorithm.\n",
    "Given the policy function and the transition matrix for the exogeonous process, we have a sense of what the endogeonous distribution evolves over time.\n",
    "Adding an initial condition (hidden in `sparse_ergodic_distribution`) is sufficient to generate an ergodic distribution.\n",
    "The code we wrote above should yield the endogenous distribution of agents across states."
   ]
  },
  {
   "cell_type": "code",
   "execution_count": 6,
   "metadata": {},
   "outputs": [],
   "source": [
    "Q = qMatrix(k, k1, Pi)\n",
    "ergoDist = sparse_ergodic_distribution(Q).reshape(k1.shape)"
   ]
  },
  {
   "cell_type": "markdown",
   "metadata": {},
   "source": [
    "As we can see, the matrix `Q` is quite sparse."
   ]
  },
  {
   "cell_type": "code",
   "execution_count": 7,
   "metadata": {},
   "outputs": [
    {
     "data": {
      "text/plain": [
       "<matplotlib.image.AxesImage at 0x19ab09ba1d0>"
      ]
     },
     "execution_count": 7,
     "metadata": {},
     "output_type": "execute_result"
    },
    {
     "data": {
      "image/png": "[encoded data removed]",
      "text/plain": [
       "<Figure size 864x864 with 1 Axes>"
      ]
     },
     "metadata": {
      "needs_background": "light"
     },
     "output_type": "display_data"
    }
   ],
   "source": [
    "fig0, ax0 = plt.subplots(figsize=(12,12))\n",
    "ax0.spy(Q.toarray())"
   ]
  },
  {
   "cell_type": "markdown",
   "metadata": {},
   "source": [
    "The dimensions of the matrix correspond to $\\text{vec}(\\lambda(k, l))$.\n",
    "In this case, the state space has two dimensions, one for the grid of capital and one for the grid of labor endowments.\n",
    "The matrix `Q` is right-stochastic (its rows sum to one) and the ergodic distribution associated to the Markov Chain with transition matrix `Q` is the ergodic distribution over the state space."
   ]
  },
  {
   "cell_type": "code",
   "execution_count": 8,
   "metadata": {},
   "outputs": [
    {
     "data": {
      "text/plain": [
       "[<matplotlib.lines.Line2D at 0x19ab0e351d0>]"
      ]
     },
     "execution_count": 8,
     "metadata": {},
     "output_type": "execute_result"
    },
    {
     "data": {
      "image/png": "[encoded data removed]",
      "text/plain": [
       "<Figure size 864x360 with 1 Axes>"
      ]
     },
     "metadata": {
      "needs_background": "light"
     },
     "output_type": "display_data"
    }
   ],
   "source": [
    "fig1, ax1 = plt.subplots(figsize=(12, 5))\n",
    "ax1.plot(k, ergoDist[:, 0])"
   ]
  }
 ],
 "metadata": {
  "kernelspec": {
   "display_name": "Python 3",
   "language": "python",
   "name": "python3"
  },
  "language_info": {
   "codemirror_mode": {
    "name": "ipython",
    "version": 3
   },
   "file_extension": ".py",
   "mimetype": "text/x-python",
   "name": "python",
   "nbconvert_exporter": "python",
   "pygments_lexer": "ipython3",
   "version": "3.7.2"
  }
 },
 "nbformat": 4,
 "nbformat_minor": 2
}
