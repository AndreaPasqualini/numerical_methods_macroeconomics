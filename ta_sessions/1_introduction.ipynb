{
 "cells": [
  {
   "cell_type": "markdown",
   "metadata": {},
   "source": [
    "# Introduction to Numerical Methods in Macroeconomics and Python"
   ]
  },
  {
   "cell_type": "markdown",
   "metadata": {},
   "source": [
    "**Table of Contents:**\n",
    "\n",
    "- [Numerical Methods: what are they and why do we need them](#Numerical-Methods:-what-are-they-and-why-do-we-need-them)\n",
    "    - [Perturbation methods](#Perturbation-methods)\n",
    "    - [Projection methods](#Projection-methods)\n",
    "- [Python](#Python)\n",
    "    - [Introduction](#Introduction)\n",
    "    - [The need for modules](#The-need-for-modules)\n",
    "    - [Numpy](#Numpy)\n",
    "    - [Scipy](#Scipy)\n",
    "    - [Matplotlib](#Matplotlib)"
   ]
  },
  {
   "cell_type": "markdown",
   "metadata": {},
   "source": [
    "## Numerical Methods: what are they and why do we need them"
   ]
  },
  {
   "cell_type": "markdown",
   "metadata": {},
   "source": [
    "In Macroeconomics we are often asked to solve for the equilibrium of a model.\n",
    "A model consists of a system of (often nonlinear) equations in some unknowns.\n",
    "Because of nonlinearities, it is often difficult or impossible to obtain closed-form solutions.\n",
    "We do not want to keep talking about models we can solve analytically, because that would be quite a restricted set of models.\n",
    "Therefore, we need numerical methods to explore the solutions to complicated models.\n",
    "\n",
    "These TA sessions focus on exploring some popular numerical methods that are useful in Macroeconomics.\n",
    "We will focus on discrete-time models, as these present non-trivial challenges relative to models in continuous-time.\n",
    "\n",
    "Broadly speaking, we can categorize solutions methods in two families:\n",
    "\n",
    "- perturbation methods; and\n",
    "- projection methods."
   ]
  },
  {
   "cell_type": "markdown",
   "metadata": {},
   "source": [
    "### Perturbation methods"
   ]
  },
  {
   "cell_type": "markdown",
   "metadata": {},
   "source": [
    "For nonlinear models that feature smooth functions, we can get fast and efficient solutions by approximating the system of equations around some specific point.\n",
    "We can write any rational-expectations model in the following way:\n",
    "$$\n",
    "f \\left( X_{t-1}, X_{t}, X_{t+1} \\right) = 0,\n",
    "$$\n",
    "where I assumed that the model is deterministic.\n",
    "Stochastic models with rational expectations are similarly written (notably with an expectation operator), and are similarly treated.\n",
    "The solution to such a system of equations (assuming it exists and it is unique) is written as\n",
    "$$\n",
    "X_{t+1} = g \\left( X_{t}, X_{t-1} \\right),\n",
    "$$\n",
    "where $g(\\cdot)$ is a set of policy functions.\n",
    "\n",
    "What we can do with such a system is to take a Taylor expansion of $f(\\cdot)$ around a point.\n",
    "It is common to consider the first-order approximation (denote it with $\\hat{f}$) around the deterministic steady state of the model.\n",
    "Instead of solving $f=0$, we can solve $\\hat{f}=0$.\n",
    "As this new system is linear, we know we can easily solve it: the solution will be a linear policy function $\\hat{g}$ that will hold only in an arbitrary (small) neighborhood of the steady state.\n",
    "\n",
    "For example, we know how to analytically solve the textbook version of the RBC model with full capital depreciation (i.e., $\\delta=1$).\n",
    "If $\\delta \\neq 1$, then we need to use numerical methods.\n",
    "\n",
    "In this course, we will not deal with perturbation methods.\n",
    "We will go hands-on with them in the next Macro course.\n",
    "\n",
    "If we introduce discontinuities or non-differentiable equations in the model (e.g., borrowing constraints or discrete control variables), we cannot reliably take the Taylor expansion of a model.\n",
    "This justifies the interest in projection methods to solve models."
   ]
  },
  {
   "cell_type": "markdown",
   "metadata": {},
   "source": [
    "### Projection methods"
   ]
  },
  {
   "cell_type": "markdown",
   "metadata": {},
   "source": [
    "Projection methods try to force their way through a solution, mostly through a trial-and-error procedure.\n",
    "The intuition is very similar to the [Newton algorithm](https://en.wikipedia.org/wiki/Newton%27s_method) to find roots of a function: you start with a proposal for the solution and you check if it works.\n",
    "If it does not, then you use some (educated) criterion to create a new proposal.\n",
    "You repeat the procedure until you arrive to the solution.\n",
    "\n",
    "The difficulty in the case of Macroeconomics is that the proposals we are dealing with are not points in a space of scalars, but are points in a space of functions.\n",
    "This might not be clear at first, as we are going to work with numerical representations of functions.\n",
    "\n",
    "The clearest application of the projection method is probably the Aiyagari (1994) model.\n",
    "In such model, we should find a capital-remuneration rate $r_t$ such that all markets (goods, labor, capital) are in equilibrium.\n",
    "We will see the details in a dedicated TA session, but here is the gist of it.\n",
    "We enter the $n$-th iteration with a proposal $r_{t}^{(n)}$.\n",
    "We check if it clears the capital market: \n",
    "- if it does not because there is excess demand, we know we should have $r_{t}^{(n+1)} > r_{t}^{(n)}$.\n",
    "- if it does not because there is excess supply, we know we should have $r_{t}^{(n+1)} < r_{t}^{(n)}$.\n",
    "\n",
    "A common critique to projection methods is the following: it is often the case that we cannot verify the solution we reach is unique (e.g., sunspots).\n",
    "So it might happen that you have models where the procedure never converges anywhere, or where the procedure converges to \"weird\" solutions.\n",
    "A way to deal with this is to carry out extensive (and sometimes painful) sensitivity analysis."
   ]
  },
  {
   "cell_type": "markdown",
   "metadata": {},
   "source": [
    "### Notable, classical examples"
   ]
  },
  {
   "cell_type": "markdown",
   "metadata": {},
   "source": [
    "- The deterministic Neoclassical Growth Model\n",
    "- The stochastic Neoclassical Growth Model\n",
    "- [Huggett (1993)](https://doi.org/10.1016/0165-1889(93)90024-M)\n",
    "- [Aiyagari (1994)](https://doi.org/10.2307/2118417)\n",
    "- [Krussell and Smith (1998)](https://doi.org/10.1086/250034)\n",
    "- [Reiter (2009)](https://doi.org/10.1016/j.jedc.2008.08.010)"
   ]
  },
  {
   "cell_type": "markdown",
   "metadata": {},
   "source": [
    "## Python"
   ]
  },
  {
   "cell_type": "markdown",
   "metadata": {},
   "source": [
    "### Introduction"
   ]
  },
  {
   "cell_type": "markdown",
   "metadata": {},
   "source": [
    "Python is a programming language.\n",
    "It is not a mathematics-oriented language in and of itself.\n",
    "It is a general-purpose language, meaning we can do pretty much what we want with it.\n",
    "Here is a list of what humanity did with Python:\n",
    "\n",
    "- Dropbox (Source: [Dropbox Blog](https://blogs.dropbox.com/tech/2018/09/how-we-rolled-out-one-of-the-largest-python-3-migrations-ever/))\n",
    "- Image editing ([The GNU Image Manipulation Program](https://www.gimp.org/))\n",
    "- Vector graphics ([Inkscape](https://inkscape.org/))\n",
    "- 3D modeling ([Blender](https://www.blender.org/))\n",
    "- Desktop publishing ([Scribus](https://www.scribus.net/))\n",
    "- Web pages ([Reddit](https://www.reddit.com/), Source: [Reddit Blog](https://redditblog.com/2005/12/05/on-lisp/))\n",
    "\n",
    "We could spend ages trying to understand all the details on how Python works, and it is very easy for me to get lost in technical explanations.\n",
    "Instead, let's have a look at the very simple things Python allows us to do."
   ]
  },
  {
   "cell_type": "code",
   "execution_count": 2,
   "metadata": {},
   "outputs": [
    {
     "data": {
      "text/plain": [
       "-4"
      ]
     },
     "execution_count": 2,
     "metadata": {},
     "output_type": "execute_result"
    }
   ],
   "source": [
    "2 + 1 - 7"
   ]
  },
  {
   "cell_type": "code",
   "execution_count": 3,
   "metadata": {},
   "outputs": [
    {
     "data": {
      "text/plain": [
       "1.5"
      ]
     },
     "execution_count": 3,
     "metadata": {},
     "output_type": "execute_result"
    }
   ],
   "source": [
    "3 * 2 / 4"
   ]
  },
  {
   "cell_type": "code",
   "execution_count": 4,
   "metadata": {},
   "outputs": [
    {
     "name": "stdout",
     "output_type": "stream",
     "text": [
      "Hello world!\n"
     ]
    }
   ],
   "source": [
    "print('Hello world!')"
   ]
  },
  {
   "cell_type": "code",
   "execution_count": 5,
   "metadata": {},
   "outputs": [
    {
     "name": "stdout",
     "output_type": "stream",
     "text": [
      "'This' is a string\n"
     ]
    }
   ],
   "source": [
    "print(\"'This' is a string\")"
   ]
  },
  {
   "cell_type": "code",
   "execution_count": 6,
   "metadata": {},
   "outputs": [
    {
     "name": "stdout",
     "output_type": "stream",
     "text": [
      "The Answer to the Ultimate Question of Life, The Universe, and Everything is 6 * 9 = 42 (although 6 * 9 = 54)\n"
     ]
    }
   ],
   "source": [
    "print('The Answer to the Ultimate Question of Life, The Universe, and Everything is 6 * 9 = 42 (although 6 * 9 = {})'.format(6*9))"
   ]
  },
  {
   "cell_type": "code",
   "execution_count": 7,
   "metadata": {},
   "outputs": [
    {
     "name": "stdout",
     "output_type": "stream",
     "text": [
      "This ---> ['a', 'b', 'c']\n",
      "is a list\n"
     ]
    }
   ],
   "source": [
    "print('This ---> {}\\nis a list'.format(['a', 'b', 'c']))"
   ]
  },
  {
   "cell_type": "code",
   "execution_count": 10,
   "metadata": {},
   "outputs": [
    {
     "name": "stdout",
     "output_type": "stream",
     "text": [
      "This ---> ('a', 'b', 'c')\n",
      "is a tuple\n"
     ]
    }
   ],
   "source": [
    "print('This ---> {}\\nis a tuple'.format(('a', 'b', 'c')))"
   ]
  },
  {
   "cell_type": "code",
   "execution_count": 12,
   "metadata": {},
   "outputs": [
    {
     "name": "stdout",
     "output_type": "stream",
     "text": [
      "This ---> {'a': 1, 'b': 2, 'c': 3}\n",
      "is a dictionary\n"
     ]
    }
   ],
   "source": [
    "print('This ---> {}\\nis a dictionary'.format({'a': 1, 'b': 2, 'c': 3}))"
   ]
  },
  {
   "cell_type": "markdown",
   "metadata": {},
   "source": [
    "### The need for modules"
   ]
  },
  {
   "cell_type": "markdown",
   "metadata": {},
   "source": [
    "Modules are sets of functions and classes that are oriented towards a given goal.\n",
    "Say you have a bunch of functions that altogether serve one purpose (e.g., connect to a website and download stuff acccording to some criteria).\n",
    "Then your bunch may be collected into a module.\n",
    "Packages are sets of modules.\n",
    "\n",
    "Here are some packages we, as economists, will encounter most often:\n",
    "\n",
    "- `numpy` (N-dimensional arrays)\n",
    "- `scipy` (mathematics and statistics)\n",
    "- `pandas` (dataframes, as in R or Stata)\n",
    "- `matplotlib` (2D plotting)\n",
    "- `beautifulsoup4` (HTML web scraping)\n",
    "- `selenium` (Chrome-driven web scraping)\n",
    "- `bokeh` (interactive data visualization)\n",
    "\n",
    "How you install these packages in your computer depends on your Operating System.\n",
    "If you have a Windows or macOS machine, then you are most likely using the Anaconda distribution, which bundles most packages and hence they should already be on your computer.\n",
    "If you use a Debian-based Linux distribution, you may want to check out your package manager for these modules.\n",
    "\n",
    "If your package distribution (e.g., Anaconda, APT) does not give you access to a given module, you can use `pip`, which is Python's integrated package manager."
   ]
  },
  {
   "cell_type": "markdown",
   "metadata": {},
   "source": [
    "#### How do we use modules/packages?"
   ]
  },
  {
   "cell_type": "markdown",
   "metadata": {},
   "source": [
    "At the very beginning of your `.py` file, you should include `import` statements.\n",
    "These statements instruct the Python interpreter to use definitions that are found in those packages.\n",
    "Note that you can also use shorthands for accessing functions inside modules.\n",
    "\n",
    "In what follows, we see some notable packages and some of their functions.\n",
    "The point here is not to teach everything you need about all the packages.\n",
    "This is just to show minimal working examples, so to get familiar with syntax and some basic functions."
   ]
  },
  {
   "cell_type": "markdown",
   "metadata": {},
   "source": [
    "### NumPy"
   ]
  },
  {
   "cell_type": "markdown",
   "metadata": {},
   "source": [
    "Python does not know what a vector or a matrix are.\n",
    "The goal of NumPy is to add support for multi-dimensional arrays, together with basic mathematical functions.\n",
    "In other words, NumPy brings basic Matlab-like functionality to Python.\n",
    "\n",
    "Here are a few examples of how to use NumPy.\n",
    "\n",
    "First, we have to tell Python that it has to load the package using an `import` statement.\n",
    "We also use a shorthand to refer to NumPy functions in upcoming calls."
   ]
  },
  {
   "cell_type": "code",
   "execution_count": 1,
   "metadata": {},
   "outputs": [],
   "source": [
    "import numpy as np"
   ]
  },
  {
   "cell_type": "markdown",
   "metadata": {},
   "source": [
    "Next, we create some arrays from scratch, using the `list` datatype as closest representation to what we want."
   ]
  },
  {
   "cell_type": "code",
   "execution_count": 3,
   "metadata": {},
   "outputs": [
    {
     "data": {
      "text/plain": [
       "array([1, 2, 3])"
      ]
     },
     "execution_count": 3,
     "metadata": {},
     "output_type": "execute_result"
    }
   ],
   "source": [
    "a = np.array([1, 2, 3])\n",
    "a"
   ]
  },
  {
   "cell_type": "markdown",
   "metadata": {},
   "source": [
    "This is a one-dimensional vector in NumPy.\n",
    "It has no concept of row or column."
   ]
  },
  {
   "cell_type": "code",
   "execution_count": 4,
   "metadata": {},
   "outputs": [
    {
     "data": {
      "text/plain": [
       "(3,)"
      ]
     },
     "execution_count": 4,
     "metadata": {},
     "output_type": "execute_result"
    }
   ],
   "source": [
    "a.shape"
   ]
  },
  {
   "cell_type": "markdown",
   "metadata": {},
   "source": [
    "We can create two-dimensional arrays where one of the dimensions has size one in order to create row- or column-oriented vectors."
   ]
  },
  {
   "cell_type": "code",
   "execution_count": 7,
   "metadata": {},
   "outputs": [
    {
     "data": {
      "text/plain": [
       "array([[1],\n",
       "       [2],\n",
       "       [3]])"
      ]
     },
     "execution_count": 7,
     "metadata": {},
     "output_type": "execute_result"
    }
   ],
   "source": [
    "a.reshape([3, 1])"
   ]
  },
  {
   "cell_type": "code",
   "execution_count": 9,
   "metadata": {},
   "outputs": [
    {
     "data": {
      "text/plain": [
       "array([[1, 2, 3]])"
      ]
     },
     "execution_count": 9,
     "metadata": {},
     "output_type": "execute_result"
    }
   ],
   "source": [
    "a.reshape([1, 3])"
   ]
  },
  {
   "cell_type": "markdown",
   "metadata": {},
   "source": [
    "Here we also see how a matrix can be constructed starting from lists.\n",
    "We do this by nesting lists: the \"outermost\" list groups rows in the matrix, while the \"innermost\" list groups elements in each row (effectively characterizing columns)."
   ]
  },
  {
   "cell_type": "code",
   "execution_count": 15,
   "metadata": {},
   "outputs": [
    {
     "data": {
      "text/plain": [
       "array([[100., 200., 300., 400.],\n",
       "       [ 50.,  75., -10., -15.],\n",
       "       [  9.,   8.,   7.,   6.]])"
      ]
     },
     "execution_count": 15,
     "metadata": {},
     "output_type": "execute_result"
    }
   ],
   "source": [
    "A = np.array([[100, 200, 300, 400],\n",
    "              [ 50,  75,- 10,- 15],\n",
    "              [  9,   8,   7,   6]], dtype=float)\n",
    "A"
   ]
  },
  {
   "cell_type": "markdown",
   "metadata": {},
   "source": [
    "Note that I specified the datatype (`dtype`) of all entries of the matrix `A` to be floating point numbers (as opposed to integers).\n",
    "We can add static typing to our variables to improve performance of our algorithms, so that Python will not have to spend CPU cycles trying to infer the type of objects it is working with."
   ]
  },
  {
   "cell_type": "code",
   "execution_count": 16,
   "metadata": {},
   "outputs": [
    {
     "data": {
      "text/plain": [
       "(3, 4)"
      ]
     },
     "execution_count": 16,
     "metadata": {},
     "output_type": "execute_result"
    }
   ],
   "source": [
    "A.shape"
   ]
  },
  {
   "cell_type": "markdown",
   "metadata": {},
   "source": [
    "To access elements within a matrix we use the square brackets."
   ]
  },
  {
   "cell_type": "code",
   "execution_count": 17,
   "metadata": {},
   "outputs": [
    {
     "data": {
      "text/plain": [
       "array([[100., 200., 300.,  nan],\n",
       "       [ 50.,  75., -10., -15.],\n",
       "       [  9.,   8.,   7.,   6.]])"
      ]
     },
     "execution_count": 17,
     "metadata": {},
     "output_type": "execute_result"
    }
   ],
   "source": [
    "A[0, 3] = np.nan\n",
    "A"
   ]
  },
  {
   "cell_type": "markdown",
   "metadata": {},
   "source": [
    "Note that indexing in Python is `0`-based: the number `0` represents the first element in an iterable object (e.g., a list, a matrix, etc.).\n",
    "This means that for a matrix with dimensions `N`-by-`M`, we can refer to specific items using integers ranging from `0` to `N-1` for the rows, from `0` to `M-1` for the columns.\n",
    "\n",
    "Note that Python supports \"backward\" indexing:"
   ]
  },
  {
   "cell_type": "code",
   "execution_count": 30,
   "metadata": {},
   "outputs": [
    {
     "data": {
      "text/plain": [
       "7.0"
      ]
     },
     "execution_count": 30,
     "metadata": {},
     "output_type": "execute_result"
    }
   ],
   "source": [
    "A[-1, -2]"
   ]
  },
  {
   "cell_type": "markdown",
   "metadata": {},
   "source": [
    "The previous command looks for the element in the _last_ row, _second-to-last_ column of `A`."
   ]
  },
  {
   "cell_type": "markdown",
   "metadata": {},
   "source": [
    "NumPy supports a number of standard functions to create arrays that are somewhat regular.\n",
    "Notable examples are empty matrices (`np.empty`), arrays full of zeros (`np.zeros`), arrays full of ones (`np.ones`), linearly, of logarithmically-spaced vectors (`np.linspace` and `np.logspace`), mesh grids (`np.mesh`) and so on."
   ]
  },
  {
   "cell_type": "code",
   "execution_count": 27,
   "metadata": {},
   "outputs": [
    {
     "data": {
      "text/plain": [
       "array([0. , 0.2, 0.4, 0.6, 0.8, 1. , 1.2, 1.4, 1.6, 1.8, 2. ])"
      ]
     },
     "execution_count": 27,
     "metadata": {},
     "output_type": "execute_result"
    }
   ],
   "source": [
    "n = 10+1\n",
    "xLo = 0\n",
    "xHi = 2\n",
    "X = np.linspace(xLo, xHi, n)\n",
    "X"
   ]
  },
  {
   "cell_type": "markdown",
   "metadata": {},
   "source": [
    "It also provides mathematical functions that Python does not know, such as `np.sqrt`, `np.sin`, `np.log`, etc."
   ]
  },
  {
   "cell_type": "code",
   "execution_count": 28,
   "metadata": {},
   "outputs": [
    {
     "data": {
      "text/plain": [
       "array([[0.        , 0.        ],\n",
       "       [0.2       , 0.4472136 ],\n",
       "       [0.4       , 0.63245553],\n",
       "       [0.6       , 0.77459667],\n",
       "       [0.8       , 0.89442719],\n",
       "       [1.        , 1.        ],\n",
       "       [1.2       , 1.09544512],\n",
       "       [1.4       , 1.18321596],\n",
       "       [1.6       , 1.26491106],\n",
       "       [1.8       , 1.34164079],\n",
       "       [2.        , 1.41421356]])"
      ]
     },
     "execution_count": 28,
     "metadata": {},
     "output_type": "execute_result"
    }
   ],
   "source": [
    "Y = np.sqrt(X)\n",
    "np.hstack( [ X.reshape([-1, 1]), Y.reshape([-1, 1]) ] )"
   ]
  },
  {
   "cell_type": "markdown",
   "metadata": {},
   "source": [
    "For now, this is all we need to know: NumPy brings multidimensional arrays and basic mathematical functions to Python, essentially approximating what Matlab can do (without its toolboxes).\n",
    "\n",
    "However, we're missing mathematical and statistical routines (e.g., root-finding solver, sampler for known random variables).\n",
    "This is where SciPy comes in."
   ]
  },
  {
   "cell_type": "markdown",
   "metadata": {},
   "source": [
    "### SciPy"
   ]
  },
  {
   "cell_type": "markdown",
   "metadata": {},
   "source": [
    "    incomplete"
   ]
  },
  {
   "cell_type": "markdown",
   "metadata": {},
   "source": [
    "### Matplotlib"
   ]
  },
  {
   "cell_type": "markdown",
   "metadata": {},
   "source": [
    "    incomplete"
   ]
  }
 ],
 "metadata": {
  "kernelspec": {
   "display_name": "Python 3",
   "language": "python",
   "name": "python3"
  },
  "language_info": {
   "codemirror_mode": {
    "name": "ipython",
    "version": 3
   },
   "file_extension": ".py",
   "mimetype": "text/x-python",
   "name": "python",
   "nbconvert_exporter": "python",
   "pygments_lexer": "ipython3",
   "version": "3.6.8"
  }
 },
 "nbformat": 4,
 "nbformat_minor": 2
}
