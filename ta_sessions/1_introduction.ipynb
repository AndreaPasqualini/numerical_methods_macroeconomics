{
 "cells": [
  {
   "cell_type": "markdown",
   "metadata": {},
   "source": [
    "# Introduction to Numerical Methods in Macroeconomics and Python"
   ]
  },
  {
   "cell_type": "markdown",
   "metadata": {},
   "source": [
    "## Numerical Methods: what are they and why do we need them"
   ]
  },
  {
   "cell_type": "markdown",
   "metadata": {},
   "source": [
    "In Macroeconomics we are often asked to solve for the equilibrium of a model.\n",
    "A model consists of a system of (often nonlinear) equations in some unknowns.\n",
    "Because of nonlinearities, it is often difficult or impossible to obtain closed-form solutions.\n",
    "We do not want to keep talking about models we can solve analytically, because that would be quite a restricted set of models.\n",
    "Therefore, we need numerical methods to explore the solutions to complicated models.\n",
    "\n",
    "These TA sessions focus on exploring some popular numerical methods that are useful in Macroeconomics.\n",
    "We will focus on discrete-time models, as these present non-trivial challenges relative to models in continuous-time.\n",
    "\n",
    "Broadly speaking, we can categorize solutions methods in two families:\n",
    "\n",
    "- perturbation methods; and\n",
    "- projection methods."
   ]
  },
  {
   "cell_type": "markdown",
   "metadata": {},
   "source": [
    "### Perturbation methods"
   ]
  },
  {
   "cell_type": "markdown",
   "metadata": {},
   "source": [
    "For nonlinear models that feature smooth functions, we can get fast and efficient solutions by approximating the system of equations around some specific point.\n",
    "We can write any rational-expectations model in the following way:\n",
    "$$\n",
    "\\mathbf{E}_t \\left( f \\left( X_{t-1}, X_{t}, X_{t+1} \\right) \\vphantom{\\sum}\\right) = 0,\n",
    "$$\n",
    "The solution to such a system of equations (assuming it exists and it is unique) is written as\n",
    "$$\n",
    "X_{t+1} = g \\left( X_{t}, X_{t-1} \\right),\n",
    "$$\n",
    "where $g(\\cdot)$ is a set of policy functions.\n",
    "\n",
    "What we can do with such a system is to take a Taylor expansion of $f(\\cdot)$ around a point.\n",
    "It is common to consider the first-order approximation (denote it with $\\hat{f}$) around the deterministic steady state of the model.\n",
    "Instead of solving $f=0$, we can solve $\\hat{f}=0$.\n",
    "As this new system is linear, we know we can easily solve it: the solution will be a linear policy function $\\hat{g}$ that will hold only in an arbitrary (small) neighborhood of the steady state.\n",
    "\n",
    "For example, we know how to analytically solve the textbook version of the RBC model with full capital depreciation (i.e., $\\delta=1$).\n",
    "If $\\delta \\neq 1$, then we need to use numerical methods.\n",
    "\n",
    "In this course, we will not deal with perturbation methods.\n",
    "We will go hands-on with them in the next Macro course.\n",
    "\n",
    "If we introduce discontinuities or non-differentiable equations in the model (e.g., borrowing constraints or discrete control variables), we cannot reliably take the Taylor expansion of a model.\n",
    "This justifies the interest in projection methods to solve models."
   ]
  },
  {
   "cell_type": "markdown",
   "metadata": {},
   "source": [
    "### Projection methods"
   ]
  },
  {
   "cell_type": "markdown",
   "metadata": {},
   "source": [
    "Projection methods try to force their way through a solution, mostly through a trial-and-error procedure.\n",
    "The intuition is very similar to the [Newton algorithm](https://en.wikipedia.org/wiki/Newton%27s_method) to find roots of a function: you start with a proposal for the solution and you check if it works.\n",
    "If it does not, then you use some (educated) criterion to create a new proposal.\n",
    "You repeat the procedure until you arrive to the solution.\n",
    "\n",
    "The difficulty in the case of Macroeconomics is that the proposals we are dealing with are not points in a space of scalars, but are points in a space of functions.\n",
    "This might not be clear at first, as we are going to work with numerical representations of functions.\n",
    "\n",
    "The clearest application of the projection method is probably the Aiyagari (1994) model.\n",
    "In such model, we should find a capital-remuneration rate $r_t$ such that all markets (goods, labor, capital) are in equilibrium.\n",
    "We will see the details in a dedicated TA session, but here is the gist of it.\n",
    "We enter the $n$-th iteration with a proposal $r_{t}^{(n)}$.\n",
    "We check if it clears the capital market: \n",
    "- if it does not because there is excess demand, we know we should have $r_{t}^{(n+1)} > r_{t}^{(n)}$.\n",
    "- if it does not because there is excess supply, we know we should have $r_{t}^{(n+1)} < r_{t}^{(n)}$.\n",
    "\n",
    "A common critique to projection methods is the following: it is often the case that we cannot verify the solution we reach is unique (e.g., sunspots).\n",
    "So it might happen that you have models where the procedure never converges anywhere, or where the procedure converges to \"weird\" solutions.\n",
    "A way to deal with this is to carry out extensive (and sometimes painful) sensitivity analysis."
   ]
  },
  {
   "cell_type": "markdown",
   "metadata": {},
   "source": [
    "### Notable, classical examples"
   ]
  },
  {
   "cell_type": "markdown",
   "metadata": {},
   "source": [
    "- The deterministic Neoclassical Growth Model\n",
    "- The stochastic Neoclassical Growth Model\n",
    "- <a href=\"https://doi.org/10.1016/0165-1889(93)90024-M\">Huggett (1993)</a>\n",
    "- [Aiyagari (1994)](https://doi.org/10.2307/2118417)\n",
    "- [Krussell and Smith (1998)](https://doi.org/10.1086/250034)\n",
    "- [Reiter (2009)](https://doi.org/10.1016/j.jedc.2008.08.010)"
   ]
  },
  {
   "cell_type": "markdown",
   "metadata": {},
   "source": [
    "## Python"
   ]
  },
  {
   "cell_type": "markdown",
   "metadata": {},
   "source": [
    "### Introduction"
   ]
  },
  {
   "cell_type": "markdown",
   "metadata": {},
   "source": [
    "Python is a programming language.\n",
    "It is not a mathematics-oriented language in and of itself.\n",
    "It is a general-purpose language, meaning we can do pretty much what we want with it.\n",
    "Here is a list of what humanity did with Python:\n",
    "\n",
    "- Dropbox (Source: [Dropbox Blog](https://blogs.dropbox.com/tech/2018/09/how-we-rolled-out-one-of-the-largest-python-3-migrations-ever/))\n",
    "- Image editing ([The GNU Image Manipulation Program](https://www.gimp.org/))\n",
    "- Vector graphics ([Inkscape](https://inkscape.org/))\n",
    "- 3D modeling ([Blender](https://www.blender.org/))\n",
    "- Desktop publishing ([Scribus](https://www.scribus.net/))\n",
    "- Web pages ([Reddit](https://www.reddit.com/), Source: [Reddit Blog](https://redditblog.com/2005/12/05/on-lisp/))\n",
    "\n",
    "We could spend ages trying to understand all the details on how Python works, and it is very easy for me to get lost in technical explanations.\n",
    "Instead, let's have a look at the very simple things Python allows us to do."
   ]
  },
  {
   "cell_type": "code",
   "execution_count": null,
   "metadata": {},
   "outputs": [],
   "source": [
    "2 + 1 - 7"
   ]
  },
  {
   "cell_type": "code",
   "execution_count": null,
   "metadata": {},
   "outputs": [],
   "source": [
    "3 * 2 / 4"
   ]
  },
  {
   "cell_type": "code",
   "execution_count": null,
   "metadata": {},
   "outputs": [],
   "source": [
    "print('Hello world!')"
   ]
  },
  {
   "cell_type": "code",
   "execution_count": null,
   "metadata": {},
   "outputs": [],
   "source": [
    "print(\"'This' is a string\")"
   ]
  },
  {
   "cell_type": "code",
   "execution_count": null,
   "metadata": {},
   "outputs": [],
   "source": [
    "print('The Answer to the Ultimate Question of Life, The Universe, and Everything is 6 * 9 = 42 (although 6 * 9 = {})'.format(6*9))"
   ]
  },
  {
   "cell_type": "code",
   "execution_count": null,
   "metadata": {},
   "outputs": [],
   "source": [
    "print('This ---> {}\\nis a list'.format(['a', 'b', 'c']))"
   ]
  },
  {
   "cell_type": "code",
   "execution_count": null,
   "metadata": {},
   "outputs": [],
   "source": [
    "print('This ---> {}\\nis a tuple'.format(('a', 'b', 'c')))"
   ]
  },
  {
   "cell_type": "code",
   "execution_count": null,
   "metadata": {},
   "outputs": [],
   "source": [
    "print('This ---> {}\\nis a dictionary'.format({'a': 1, 'b': 2, 'c': 3}))"
   ]
  },
  {
   "cell_type": "markdown",
   "metadata": {},
   "source": [
    "### Data types"
   ]
  },
  {
   "cell_type": "markdown",
   "metadata": {},
   "source": [
    "Python comes with some basic data types.\n",
    "Among those, notable ones are:\n",
    "\n",
    "- integer number (`int`)\n",
    "- floating point number (`float`)\n",
    "- complex number (`complex`)\n",
    "- boolean value (`bool`)\n",
    "- string (`str`)\n",
    "- list (`list`)\n",
    "- tuple (`tuple`)\n",
    "- dictionary (`dict`)\n",
    "\n",
    "There are many other data types, but these are the most prominent ones and share much in common with others that we do not mention here"
   ]
  },
  {
   "cell_type": "markdown",
   "metadata": {},
   "source": [
    "Integers, floating point number and complex numbers are the only representation of numbers Python is aware of.\n",
    "Vectors and matrices are not defined in \"core\" Python."
   ]
  },
  {
   "cell_type": "code",
   "execution_count": null,
   "metadata": {},
   "outputs": [],
   "source": [
    "a = -2      # int\n",
    "b = 5.2     # float\n",
    "c = 1 + 3j  # complex"
   ]
  },
  {
   "cell_type": "markdown",
   "metadata": {},
   "source": [
    "Note that whenever we enter a value with a dot (`.`), Python interprets it as a floating point number.\n",
    "For example:"
   ]
  },
  {
   "cell_type": "code",
   "execution_count": null,
   "metadata": {},
   "outputs": [],
   "source": [
    "type(1.)"
   ]
  },
  {
   "cell_type": "code",
   "execution_count": null,
   "metadata": {},
   "outputs": [],
   "source": [
    "type(1)"
   ]
  },
  {
   "cell_type": "markdown",
   "metadata": {},
   "source": [
    "We have already seen strings.\n",
    "These are either denoted with a single quote (`'`) or with a double quote (`\"`).\n",
    "We can use both, as long as we are consistent with them.\n",
    "This means that a single (double) quote can only close a matching single (double) quote.\n",
    "We can also mix them."
   ]
  },
  {
   "cell_type": "code",
   "execution_count": null,
   "metadata": {},
   "outputs": [],
   "source": [
    "print(\"This is string using 'single quotes' as characters and not delimiters.\")\n",
    "print('This instead is a string using \"double quotes\" as characters and not delimiters.')"
   ]
  },
  {
   "cell_type": "markdown",
   "metadata": {},
   "source": [
    "Finally, lists, tuples and dictionaries are collections of other objects.\n",
    "We can nest them as we like.\n",
    "These are also referred to as _iterables_, because we can \"walk\" them with a `for` loop (see _control flow_ below)."
   ]
  },
  {
   "cell_type": "code",
   "execution_count": null,
   "metadata": {},
   "outputs": [],
   "source": [
    "l = [a, 'a', 'ciao']                 # list with square brackets\n",
    "t = (a, 'a', 'ciao')                 # tuple with round parentheses\n",
    "d = {'x': a, 'y': 'a', 'z': 'ciao'}  # dict with curly braces"
   ]
  },
  {
   "cell_type": "markdown",
   "metadata": {},
   "source": [
    "The difference bewteen a `list` and a `tuple` is that the former supports item assignment, while the latter does not.\n",
    "This means that we cannot modify a single element in tuples without having to recreate the tuple from scratch."
   ]
  },
  {
   "cell_type": "code",
   "execution_count": null,
   "metadata": {},
   "outputs": [],
   "source": [
    "l[0] = b\n",
    "l"
   ]
  },
  {
   "cell_type": "code",
   "execution_count": null,
   "metadata": {},
   "outputs": [],
   "source": [
    "t[0] = b"
   ]
  },
  {
   "cell_type": "markdown",
   "metadata": {},
   "source": [
    "Finally, a dictionary is just like a list, except that we can reference its items by using their _key_ instead of using an index.\n",
    "Dictionaries are also referred to as _key-value_ or _name-value_ pairs, because each value is attached to a key/name."
   ]
  },
  {
   "cell_type": "code",
   "execution_count": null,
   "metadata": {},
   "outputs": [],
   "source": [
    "d['x']"
   ]
  },
  {
   "cell_type": "markdown",
   "metadata": {},
   "source": [
    "The most common use-case for tuples (as opposed to lists) is for collections that are semantically ordered.\n",
    "For example, the set of indexes for a matrix lends itself to being represented with a tuple, because the first element semantically represents a row index, while the second semantically represents a column index."
   ]
  },
  {
   "cell_type": "markdown",
   "metadata": {},
   "source": [
    "Finally, we have boolean values, representing truth (`True`) or otherwise (`False`).\n",
    "Important operators for boolean values are `and`, `or` and `not`."
   ]
  },
  {
   "cell_type": "code",
   "execution_count": 8,
   "metadata": {},
   "outputs": [
    {
     "data": {
      "text/plain": [
       "True"
      ]
     },
     "execution_count": 8,
     "metadata": {},
     "output_type": "execute_result"
    }
   ],
   "source": [
    "True"
   ]
  },
  {
   "cell_type": "code",
   "execution_count": 9,
   "metadata": {},
   "outputs": [
    {
     "data": {
      "text/plain": [
       "False"
      ]
     },
     "execution_count": 9,
     "metadata": {},
     "output_type": "execute_result"
    }
   ],
   "source": [
    "False"
   ]
  },
  {
   "cell_type": "markdown",
   "metadata": {},
   "source": [
    "Integers and floating point numbers are objects representing numerical values.\n",
    "Their difference goes back to their technical representation in the system memory.\n",
    "Unsigned integers (that are not too big) are simply represented using their binary representation (i.e., a simple change of base), while unsigned floating point numbers are represented in three parts: a significand, a base and an exponent.\n",
    "More info on this at the [Wikipedia page](https://en.wikipedia.org/wiki/Double-precision_floating-point_format).\n",
    "\n",
    "Using the right data type is not fundamental.\n",
    "If an operation needs to turn an integer into its floating point representation, Python will take care of this for us under the hood.\n",
    "However, choosing the right data type might provide a speed improvement when _many_ numbers need to be _casted_ into another type."
   ]
  },
  {
   "cell_type": "markdown",
   "metadata": {},
   "source": [
    "#### Strongly typed and weakly typed languages"
   ]
  },
  {
   "cell_type": "markdown",
   "metadata": {},
   "source": [
    "Python uses weak typing, as opposed to strong typing.\n",
    "This means that Python will try to figure out that type each variable is based on context.\n",
    "For example, writing `a = 1` implies that `a` is of type `int`.\n",
    "Writing `b = 1.0` implies that `b` is of type `float`.\n",
    "This is handy because we do not have to declare the type of the variable before assigning a value to it.\n",
    "Languages like C are strongly typed, meaning that first you declare what type the variable is.\n",
    "Only then you can assign a value to it.\n",
    "\n",
    "However, weak typing has its drawbacks.\n",
    "It can backfire because certain operators perform different actions depending on the type of the variable.\n",
    "A classical example is the `+` operator.\n",
    "If you feed it with two numeric values, then the result will be the algebraic sum of those numbers.\n",
    "If you feed it with two strings, then it performs string concatenation.\n",
    "If you feed the `+` operator with mixed types, then it may be ambiguous what the result should be.\n",
    "In this case, Python will complain."
   ]
  },
  {
   "cell_type": "code",
   "execution_count": 1,
   "metadata": {},
   "outputs": [
    {
     "data": {
      "text/plain": [
       "2"
      ]
     },
     "execution_count": 1,
     "metadata": {},
     "output_type": "execute_result"
    }
   ],
   "source": [
    "1 + 1"
   ]
  },
  {
   "cell_type": "code",
   "execution_count": 2,
   "metadata": {},
   "outputs": [
    {
     "data": {
      "text/plain": [
       "2.0"
      ]
     },
     "execution_count": 2,
     "metadata": {},
     "output_type": "execute_result"
    }
   ],
   "source": [
    "1 + 1.0  # mixing numeric types is ok"
   ]
  },
  {
   "cell_type": "code",
   "execution_count": 4,
   "metadata": {},
   "outputs": [
    {
     "data": {
      "text/plain": [
       "'ab'"
      ]
     },
     "execution_count": 4,
     "metadata": {},
     "output_type": "execute_result"
    }
   ],
   "source": [
    "\"a\" + \"b\""
   ]
  },
  {
   "cell_type": "code",
   "execution_count": 3,
   "metadata": {},
   "outputs": [
    {
     "ename": "TypeError",
     "evalue": "unsupported operand type(s) for +: 'int' and 'str'",
     "output_type": "error",
     "traceback": [
      "\u001b[0;31m---------------------------------------------------------------------------\u001b[0m",
      "\u001b[0;31mTypeError\u001b[0m                                 Traceback (most recent call last)",
      "\u001b[0;32m<ipython-input-3-b780703cc5f9>\u001b[0m in \u001b[0;36m<module>\u001b[0;34m\u001b[0m\n\u001b[0;32m----> 1\u001b[0;31m \u001b[0;36m1\u001b[0m \u001b[0;34m+\u001b[0m \u001b[0;34m\"1\"\u001b[0m\u001b[0;34m\u001b[0m\u001b[0;34m\u001b[0m\u001b[0m\n\u001b[0m",
      "\u001b[0;31mTypeError\u001b[0m: unsupported operand type(s) for +: 'int' and 'str'"
     ]
    }
   ],
   "source": [
    "1 + \"1\""
   ]
  },
  {
   "cell_type": "code",
   "execution_count": 6,
   "metadata": {},
   "outputs": [
    {
     "data": {
      "text/plain": [
       "['a', 'b', 'c']"
      ]
     },
     "execution_count": 6,
     "metadata": {},
     "output_type": "execute_result"
    }
   ],
   "source": [
    "['a', 'b'] + ['c']  # can concatenate two lists"
   ]
  },
  {
   "cell_type": "code",
   "execution_count": 7,
   "metadata": {},
   "outputs": [
    {
     "ename": "TypeError",
     "evalue": "can only concatenate list (not \"str\") to list",
     "output_type": "error",
     "traceback": [
      "\u001b[0;31m---------------------------------------------------------------------------\u001b[0m",
      "\u001b[0;31mTypeError\u001b[0m                                 Traceback (most recent call last)",
      "\u001b[0;32m<ipython-input-7-0650b912a8a2>\u001b[0m in \u001b[0;36m<module>\u001b[0;34m\u001b[0m\n\u001b[0;32m----> 1\u001b[0;31m \u001b[0;34m[\u001b[0m\u001b[0;34m'a'\u001b[0m\u001b[0;34m,\u001b[0m \u001b[0;34m'b'\u001b[0m\u001b[0;34m]\u001b[0m \u001b[0;34m+\u001b[0m \u001b[0;34m'c'\u001b[0m\u001b[0;34m\u001b[0m\u001b[0;34m\u001b[0m\u001b[0m\n\u001b[0m",
      "\u001b[0;31mTypeError\u001b[0m: can only concatenate list (not \"str\") to list"
     ]
    }
   ],
   "source": [
    "['a', 'b'] + 'c'"
   ]
  },
  {
   "cell_type": "markdown",
   "metadata": {},
   "source": [
    "### Methods"
   ]
  },
  {
   "cell_type": "markdown",
   "metadata": {},
   "source": [
    "Methods are, by all means, functions.\n",
    "What's special about them is that they come \"embedded\" with each object and are guaranteed to work with that object.\n",
    "Methods are accessed by writing the object, appending a full-stop (`.`) and then writing the name of the method.\n",
    "For example, `float.as_integer_ratio()`.\n",
    "\n",
    "We have already used a method above.\n",
    "Each `str` object has a method `format()`, which subsitutes placeholders with content from other variables.\n",
    "For example, we can print a message using a value from a variable."
   ]
  },
  {
   "cell_type": "code",
   "execution_count": null,
   "metadata": {},
   "outputs": [],
   "source": [
    "print(\"The variable 'a' has value {}.\".format(a))"
   ]
  },
  {
   "cell_type": "markdown",
   "metadata": {},
   "source": [
    "Another example, every `complex` object comes with two important methods: `real` and `imag`.\n",
    "Their meaning is self explanatory."
   ]
  },
  {
   "cell_type": "code",
   "execution_count": null,
   "metadata": {},
   "outputs": [],
   "source": [
    "print(\"The variable 'c' is of type {} and contains the value {}.\".format(type(c), c))\n",
    "print(\"The real part of 'c' is {}, while the imaginary part is {}.\".format(c.real, c.imag))"
   ]
  },
  {
   "cell_type": "markdown",
   "metadata": {},
   "source": [
    "### Functions and anonymous functions"
   ]
  },
  {
   "cell_type": "markdown",
   "metadata": {},
   "source": [
    "Functions are useful because they pack code in one convenient _callable_.\n",
    "We can define a function using the `def` statement."
   ]
  },
  {
   "cell_type": "code",
   "execution_count": null,
   "metadata": {},
   "outputs": [],
   "source": [
    "def sqrt(x):\n",
    "    return x ** (1/2)"
   ]
  },
  {
   "cell_type": "markdown",
   "metadata": {},
   "source": [
    "Notice two things.\n",
    "First, the statement `def` is followed by the name of the function we are defining and by the list of input arguments.\n",
    "Then, there is a colon (`:`).\n",
    "Second, all the code that belongs to the function is indented with four whitespaces (not more, not less and, more importantly, not tabs (`\\t`).\n",
    "\n",
    "The `return` statement tells Python to return the value to the caller of the function.\n",
    "This way, if we write `y = sqrt(2)`, the value of `y` is the returned value of the function `sqrt`.\n",
    "If we were to forget the `return` statement, the value of `y` would be `None`, because the function would not be explicitly instructed to return anything."
   ]
  },
  {
   "cell_type": "markdown",
   "metadata": {},
   "source": [
    "Functions can defined in a recursive way.\n",
    "An example of such behavior would be the following function: it returns the `n`-th element of the Fibonacci sequence."
   ]
  },
  {
   "cell_type": "code",
   "execution_count": null,
   "metadata": {},
   "outputs": [],
   "source": [
    "def fibonacci(n):\n",
    "   if n <= 1:\n",
    "       return n\n",
    "   else:\n",
    "       return(fibonacci(n-1) + fibonacci(n-2))\n",
    "    \n",
    "[fibonacci(n) for n in range(10)]"
   ]
  },
  {
   "cell_type": "markdown",
   "metadata": {},
   "source": [
    "<sup>\n",
    "    The last line is a <i>list comprehension</i>.\n",
    "    It defines a list with a <code>for</code> loop in one line.\n",
    "</sup>"
   ]
  },
  {
   "cell_type": "markdown",
   "metadata": {},
   "source": [
    "Finally, functions can be [anonymous](https://en.wikipedia.org/wiki/Anonymous_function).\n",
    "These are functions that are not bound to an identifier (i.e., a name).\n",
    "This is useful when passing such anonymous function as input arguments to other functions."
   ]
  },
  {
   "cell_type": "code",
   "execution_count": null,
   "metadata": {},
   "outputs": [],
   "source": [
    "some_integers = list( range(10) )\n",
    "even_integers = list( filter(lambda x: x % 2 == 0, some_integers) )\n",
    "even_integers"
   ]
  },
  {
   "cell_type": "markdown",
   "metadata": {},
   "source": [
    "Anonymous function always follow the syntax `lambda <arg>: <return_value>`.\n",
    "In the example above, the anonymous function returns `True` if the remainder of the floor division operator (also known as `mod` operator, denoted with `%` in Python) is zero."
   ]
  },
  {
   "cell_type": "markdown",
   "metadata": {},
   "source": [
    "### Control flow"
   ]
  },
  {
   "cell_type": "markdown",
   "metadata": {},
   "source": [
    "Control flow is the set of techniques that regulate how code is executed.\n",
    "Notable examples are the `if`, `for` and `while` statements.\n",
    "However, we can also define what happens when we find erratic behavior, such as a \"bad\" input argument.\n",
    "We can even decide what to do in case an error occurs, too!\n",
    "\n",
    "- `if` executes code provided a condition holds.\n",
    "- `for` executes code for a given number of times.\n",
    "- `while` executes code up until a condition is verified.\n",
    "- `raise` issues an exception (an error) and interrupts the execution of a function.\n",
    "- `try` attempts to execute something, allowing for alternative measures in case an error is raised.\n",
    "\n",
    "Obviously, all of these can be nested."
   ]
  },
  {
   "cell_type": "markdown",
   "metadata": {},
   "source": [
    "The `if` statement allows for the `elif` (else, if) and `else` clauses."
   ]
  },
  {
   "cell_type": "code",
   "execution_count": null,
   "metadata": {},
   "outputs": [],
   "source": [
    "if isinstance(a, int) or isinstance(a, float):\n",
    "    if a > 0:\n",
    "        print(\"The variable 'a' has a positive value.\")\n",
    "    elif a < 0:\n",
    "        print(\"The variable 'a' has a negative value.\")\n",
    "    else:\n",
    "        print(\"The variable 'a' has a null value.\")\n",
    "else:\n",
    "    print(\"The variable 'a' contains either a complex number or not a numeric value.\")"
   ]
  },
  {
   "cell_type": "markdown",
   "metadata": {},
   "source": [
    "The `for` statement runs a chunk of code a predetermined number of times."
   ]
  },
  {
   "cell_type": "code",
   "execution_count": null,
   "metadata": {},
   "outputs": [],
   "source": [
    "for i in range(5):\n",
    "    print(\"{}\".format(i))"
   ]
  },
  {
   "cell_type": "markdown",
   "metadata": {},
   "source": [
    "The `while` statement runs a chunk of code as long as a condition is verified."
   ]
  },
  {
   "cell_type": "code",
   "execution_count": null,
   "metadata": {},
   "outputs": [],
   "source": [
    "s = 1\n",
    "while s < 4:\n",
    "    print(\"{}...\".format(s))\n",
    "    s += 1\n",
    "print(\"Stella!\")"
   ]
  },
  {
   "cell_type": "markdown",
   "metadata": {},
   "source": [
    "The `raise` statement interrupts a function and raises an exception (an error).\n",
    "This is particularly useful when we write a function and we want to check that the input argument(s) are suitable (e.g., are of the correct data type)."
   ]
  },
  {
   "cell_type": "code",
   "execution_count": null,
   "metadata": {},
   "outputs": [],
   "source": [
    "def real_nth_root(x, n):\n",
    "    if not ( isinstance(x, int) or isinstance(x, float) ):\n",
    "        raise TypeError(\"Input argument has to be numeric.\")\n",
    "    elif isinstance(x, complex):\n",
    "        raise TypeError(\"Cannot take the real root of a complex number.\")\n",
    "    else:\n",
    "        if not isinstance(n, int):\n",
    "            raise ValueError(\"Cannot take non-integer roots of 'x'.\")\n",
    "        elif x < 0:\n",
    "            raise ValueError(\"Cannot take the real root of a negative number.\")\n",
    "        else:\n",
    "            return x ** (1/n)"
   ]
  },
  {
   "cell_type": "code",
   "execution_count": null,
   "metadata": {},
   "outputs": [],
   "source": [
    "real_nth_root('a', 1)"
   ]
  },
  {
   "cell_type": "code",
   "execution_count": null,
   "metadata": {},
   "outputs": [],
   "source": [
    "real_nth_root(-3, 1)"
   ]
  },
  {
   "cell_type": "code",
   "execution_count": null,
   "metadata": {},
   "outputs": [],
   "source": [
    "real_nth_root(27, 3)"
   ]
  },
  {
   "cell_type": "code",
   "execution_count": null,
   "metadata": {},
   "outputs": [],
   "source": [
    "n = 3.7\n",
    "try: \n",
    "    real_nth_root(27, n)\n",
    "except ValueError:\n",
    "    real_nth_root(27, n//1)"
   ]
  },
  {
   "cell_type": "markdown",
   "metadata": {},
   "source": [
    "<sup>\n",
    "The information displayed when we encounter an error is called <i>stack trace</i> and contains <i>call stack</i>, i.e., the sequence of functions that have been called up until the error occurred. This is useful for debugging: we know where the error originated and why.\n",
    "</sup>"
   ]
  },
  {
   "cell_type": "markdown",
   "metadata": {},
   "source": [
    "#### Operations with numeric values"
   ]
  },
  {
   "cell_type": "markdown",
   "metadata": {},
   "source": [
    "| Operator/Method | Meaning | Example | Notes |\n",
    "|:----------------|:--------|:--------|:------|\n",
    "| `+` | Sum | `1 + 1` = `2` | |\n",
    "| `-` | Subtraction | `1 - 1` = `0` |  |\n",
    "| `*` | Multiplication | `1 * 2` = `2` |  |\n",
    "| `/` | Division | `3 / 2` = `1.5` | Always returns `float` | \n",
    "| `//` | Floor division | `3 // 2` = `1` | Always returns `int` |\n",
    "| `%` | Remainder of floor division (mod) | `5 % 2` = `1` |  |\n",
    "| `**` | Exponentiation | `3 ** 2` = `9` | Convention: `0 ** 0` = `1` |\n",
    "| `abs()` | Absolute value | `abs(-3)` = `3` | Returns magnitude for `complex` |\n",
    "| `complex.conjugate()` | Conjugate number (for complex) | `(4-3j).conjugate()` = `4+3j` | |\n",
    "| `>` | Greater than | `3 > 1` = `True` | |\n",
    "| `>=` | Greater than or equal | `4 >= 4` = `True` | |\n",
    "| `<` | Less than | `3 < 1` = `False` | |\n",
    "| `<=` | Less than or equal | `4 <= 4` = `True` | |\n",
    "| `==` | Equal | `3 == 3.0` = `True` | Works with `str`, too |\n",
    "| `!=` | Not equal | `3.1 == 3.0` = `False` | Works with `str`, too | \n",
    "| `is` | Object identity | `3 is 3.0` = `False` | Works with all objects |"
   ]
  },
  {
   "cell_type": "markdown",
   "metadata": {},
   "source": [
    "#### Operations with non-numeric values"
   ]
  },
  {
   "cell_type": "markdown",
   "metadata": {},
   "source": [
    "| Operator/Method | Meaning | Example |\n",
    "|:----------------|:--------|:--------|\n",
    "| `and` | Applies logical _and_ to booleans | `True and False` = `False` |\n",
    "| `or` | Applies logical _or_ to booleans | `True or False` = `True` |\n",
    "| `not` | Applies logical negation to booleans | `not True` = `False` |\n",
    "| `zip` | Zips together two lists | `zip(['a', 'b'], [1, 2])` = `[('a', 1), ('b', 2)]` |\n",
    "| `map` | Applies function to all elements of iterable | `map(lambda x: -x, [1, 2])` = `[-1, -2]` |\n",
    "| `filter` | Returns only elements from iterable respecting a condition | `filter(lambda x: x>0, [-1, 0, 1])` = `[1]` |\n",
    "| `list.append(<arg>)` | Appends `<arg>` to the end of the list | `([1, 2]).append(3)` = `[1, 2, 3]` |\n",
    "| `list.pop(n)` | Returns `n`-th element of list, removes it from list | `([1, 2, 3]).pop(-1)` = `3` (leaves `[1, 2]`) |\n",
    "| `dict.pop(<key>)` | Same as `list.pop(n)` | |\n",
    "| `list.remove(<arg>)` | Removes `<arg>` from list, returns nothing | `([1, 2]).remove(2)` = `None` (leaves `[1]`) |"
   ]
  },
  {
   "cell_type": "markdown",
   "metadata": {},
   "source": [
    "### A hands-on example: approximating $e$"
   ]
  },
  {
   "cell_type": "markdown",
   "metadata": {},
   "source": [
    "Let's approximate Euler's constant $e$.\n",
    "One definition is\n",
    "\n",
    "$$\n",
    "e \\equiv \\lim_{n \\to \\infty} {\\left( 1 + \\frac{1}{n} \\right)}^n.\n",
    "$$\n",
    "\n",
    "We cannot possibly compute such limit in a computer, because taking $n$ to infinity requires infinite time, and nobody ain't got that.\n",
    "\n",
    "What we can do, is compute the following quantity:\n",
    "\n",
    "$$\n",
    "\\hat{e}^{(m)} = {\\left( 1 + \\frac{1}{m} \\right)}^m\n",
    "$$\n",
    "\n",
    "for given values of $m$.\n",
    "Then, we compare $e^{(m)}$ and $e^{(m+1)}$.\n",
    "If their difference is \"big enough\", then we are far from the convergence point (the limit).\n",
    "If their difference is \"small enough\", then we can claim to have approximated $e$.\n",
    "\n",
    "A way to do this is the following."
   ]
  },
  {
   "cell_type": "code",
   "execution_count": null,
   "metadata": {},
   "outputs": [],
   "source": [
    "from time import time  # see modules, below\n",
    "\n",
    "def approx_e(tol=1e-6, return_full_sequence=False, print_info=False, step_increase=1):\n",
    "    improvement = 1.0\n",
    "    m = 1\n",
    "    results = [1.0]\n",
    "    \n",
    "    t0 = time()\n",
    "    \n",
    "    while improvement > tol:\n",
    "        tentative = (1 + (1/m))**m\n",
    "        results.append(tentative)\n",
    "        improvement = abs( results[-1] - results[-2] )\n",
    "        m += step_increase\n",
    "    \n",
    "    t1 = time()\n",
    "    \n",
    "    if print_info:\n",
    "        print(\"No. of iterations: {}.\\nTime elapsed: {:.3f} seconds.\".format(m, t1-t0))\n",
    "    \n",
    "    if not return_full_sequence:\n",
    "        return results[-1]\n",
    "    else:\n",
    "        return results"
   ]
  },
  {
   "cell_type": "markdown",
   "metadata": {},
   "source": [
    "The function `approx_e` takes some arguments.\n",
    "Python allows us to specify default arguments as above, by declaring the name of the input argument and assigning a default value (`def foo(in1=default1, in2=default2)`)."
   ]
  },
  {
   "cell_type": "code",
   "execution_count": null,
   "metadata": {},
   "outputs": [],
   "source": [
    "approx_e(print_info=True)"
   ]
  },
  {
   "cell_type": "code",
   "execution_count": null,
   "metadata": {},
   "outputs": [],
   "source": [
    "approx_e(tol=1e-10, print_info=True)"
   ]
  },
  {
   "cell_type": "code",
   "execution_count": null,
   "metadata": {},
   "outputs": [],
   "source": [
    "approx_e(tol=1e-50, print_info=True)"
   ]
  },
  {
   "cell_type": "markdown",
   "metadata": {},
   "source": [
    "### The need for modules"
   ]
  },
  {
   "cell_type": "markdown",
   "metadata": {},
   "source": [
    "Modules are sets of functions and classes that are oriented towards a given goal.\n",
    "Say you have a bunch of functions that altogether serve one purpose (e.g., connect to a website and download stuff acccording to some criteria).\n",
    "Then your bunch may be collected into a module.\n",
    "Packages are sets of modules.\n",
    "\n",
    "Here are some packages we, as economists, will encounter most often:\n",
    "\n",
    "- [`numpy`](https://www.numpy.org/) (N-dimensional arrays)\n",
    "- [`scipy`](https://www.scipy.org/) (mathematical and statistical recipes)\n",
    "- [`pandas`](https://pandas.pydata.org/) (dataframes, as in R or Stata)\n",
    "- [`matplotlib`](https://matplotlib.org/) (plotting)\n",
    "- [`beautifulsoup4`](https://www.crummy.com/software/BeautifulSoup/) (HTML web scraping)\n",
    "- [`selenium`](https://docs.seleniumhq.org/) (Chrome-driven web scraping)\n",
    "- [`bokeh`](https://bokeh.pydata.org/) (interactive data visualization)\n",
    "\n",
    "How you install these packages in your computer depends on your Operating System.\n",
    "If you have a Windows or macOS machine, then you are most likely using the Anaconda distribution, which bundles most packages and hence they should already be on your computer.\n",
    "If you use a Debian-based Linux distribution, you may want to check out your package manager for these modules.\n",
    "\n",
    "If your package distribution (e.g., Anaconda, APT) does not give you access to a given module, you can use `pip`, which is Python's integrated package manager."
   ]
  },
  {
   "cell_type": "markdown",
   "metadata": {},
   "source": [
    "#### How do we use modules/packages?"
   ]
  },
  {
   "cell_type": "markdown",
   "metadata": {},
   "source": [
    "At the very beginning of your `.py` file, you should include `import` statements.\n",
    "These statements instruct the Python interpreter to use definitions that are found in those packages.\n",
    "Note that you can also use shorthands for accessing functions inside modules.\n",
    "\n",
    "In what follows, we see some notable packages and some of their functions.\n",
    "The point here is not to teach everything you need about all the packages.\n",
    "This is just to show minimal working examples, so to get familiar with syntax and some basic functions."
   ]
  },
  {
   "cell_type": "markdown",
   "metadata": {},
   "source": [
    "### NumPy"
   ]
  },
  {
   "cell_type": "markdown",
   "metadata": {},
   "source": [
    "Python does not know what a vector or a matrix are.\n",
    "The goal of NumPy is to add support for multi-dimensional arrays, together with basic mathematical functions.\n",
    "In other words, NumPy brings basic Matlab-like functionality to Python.\n",
    "\n",
    "Here are a few examples of how to use NumPy.\n",
    "\n",
    "First, we have to tell Python that it has to load the package using an `import` statement.\n",
    "We also use a shorthand to refer to NumPy functions in upcoming calls."
   ]
  },
  {
   "cell_type": "code",
   "execution_count": null,
   "metadata": {},
   "outputs": [],
   "source": [
    "import numpy as np"
   ]
  },
  {
   "cell_type": "markdown",
   "metadata": {},
   "source": [
    "Next, we create some arrays from scratch, using the `list` datatype as closest representation to what we want."
   ]
  },
  {
   "cell_type": "code",
   "execution_count": null,
   "metadata": {},
   "outputs": [],
   "source": [
    "a = np.array([1, 2, 3])\n",
    "a"
   ]
  },
  {
   "cell_type": "markdown",
   "metadata": {},
   "source": [
    "This is a one-dimensional vector in NumPy.\n",
    "It has no concept of row or column."
   ]
  },
  {
   "cell_type": "code",
   "execution_count": null,
   "metadata": {},
   "outputs": [],
   "source": [
    "a.shape"
   ]
  },
  {
   "cell_type": "markdown",
   "metadata": {},
   "source": [
    "We can create two-dimensional arrays where one of the dimensions has size one in order to create row- or column-oriented vectors."
   ]
  },
  {
   "cell_type": "code",
   "execution_count": null,
   "metadata": {},
   "outputs": [],
   "source": [
    "a.reshape([3, 1])"
   ]
  },
  {
   "cell_type": "code",
   "execution_count": null,
   "metadata": {},
   "outputs": [],
   "source": [
    "a.reshape([1, 3])"
   ]
  },
  {
   "cell_type": "markdown",
   "metadata": {},
   "source": [
    "Here we also see how a matrix can be constructed starting from lists.\n",
    "We do this by nesting lists: the \"outermost\" list groups rows in the matrix, while the \"innermost\" list groups elements in each row (effectively characterizing columns)."
   ]
  },
  {
   "cell_type": "code",
   "execution_count": null,
   "metadata": {},
   "outputs": [],
   "source": [
    "A = np.array([[100, 200, 300, 400],\n",
    "              [ 50,  75,- 10,- 15],\n",
    "              [  9,   8,   7,   6]], dtype=float)\n",
    "A"
   ]
  },
  {
   "cell_type": "markdown",
   "metadata": {},
   "source": [
    "Note that I specified the datatype (`dtype`) of all entries of the matrix `A` to be floating point numbers (as opposed to integers).\n",
    "We can add static typing to our variables to improve performance of our algorithms, so that Python will not have to spend CPU cycles trying to infer the type of objects it is working with."
   ]
  },
  {
   "cell_type": "code",
   "execution_count": null,
   "metadata": {},
   "outputs": [],
   "source": [
    "A.shape"
   ]
  },
  {
   "cell_type": "markdown",
   "metadata": {},
   "source": [
    "To access elements within a matrix we use the square brackets."
   ]
  },
  {
   "cell_type": "code",
   "execution_count": null,
   "metadata": {},
   "outputs": [],
   "source": [
    "A[0, 3] = np.nan\n",
    "A"
   ]
  },
  {
   "cell_type": "markdown",
   "metadata": {},
   "source": [
    "Note that indexing in Python is `0`-based: the number `0` represents the first element in an iterable object (e.g., a list, a matrix, etc.).\n",
    "This means that for a matrix with dimensions `N`-by-`M`, we can refer to specific items using integers ranging from `0` to `N-1` for the rows, from `0` to `M-1` for the columns.\n",
    "\n",
    "Note that Python supports \"backward\" indexing:"
   ]
  },
  {
   "cell_type": "code",
   "execution_count": null,
   "metadata": {},
   "outputs": [],
   "source": [
    "A[-1, -2]"
   ]
  },
  {
   "cell_type": "markdown",
   "metadata": {},
   "source": [
    "The previous command looks for the element in the _last_ row, _second-to-last_ column of `A`."
   ]
  },
  {
   "cell_type": "markdown",
   "metadata": {},
   "source": [
    "NumPy supports a number of standard functions to create arrays that are somewhat regular.\n",
    "Notable examples are empty matrices (`np.empty`), arrays full of zeros (`np.zeros`), arrays full of ones (`np.ones`), linearly, of logarithmically-spaced vectors (`np.linspace` and `np.logspace`), mesh grids (`np.mesh`) and so on."
   ]
  },
  {
   "cell_type": "code",
   "execution_count": null,
   "metadata": {},
   "outputs": [],
   "source": [
    "n = 10+1\n",
    "xLo = 0\n",
    "xHi = 2\n",
    "X = np.linspace(xLo, xHi, n)\n",
    "X"
   ]
  },
  {
   "cell_type": "markdown",
   "metadata": {},
   "source": [
    "It also provides mathematical functions that Python does not know, such as `np.sqrt`, `np.sin`, `np.log`, etc."
   ]
  },
  {
   "cell_type": "code",
   "execution_count": null,
   "metadata": {},
   "outputs": [],
   "source": [
    "Y = np.sqrt(X)\n",
    "np.hstack( [ X.reshape([-1, 1]), Y.reshape([-1, 1]) ] )"
   ]
  },
  {
   "cell_type": "markdown",
   "metadata": {},
   "source": [
    "Notably, NumPy also provides functions to draw random variates from known distributions via the `random` sub-package.\n",
    "\n",
    "For example, to create a `3`-by-`3` matrix where each element is drawn from a $\\mathcal{N}(0, 5)$..."
   ]
  },
  {
   "cell_type": "code",
   "execution_count": null,
   "metadata": {},
   "outputs": [],
   "source": [
    "B = np.random.normal(loc=0, scale=5, size=(3, 3))\n",
    "B"
   ]
  },
  {
   "cell_type": "markdown",
   "metadata": {},
   "source": [
    "For now, this is all we need to know: NumPy brings multidimensional arrays and basic mathematical functions to Python, essentially approximating what Matlab can do (without its toolboxes).\n",
    "\n",
    "However, we're missing mathematical and statistical routines (e.g., root-finding solver, statistical describer for arrays).\n",
    "This is where SciPy comes in."
   ]
  },
  {
   "cell_type": "markdown",
   "metadata": {},
   "source": [
    "### SciPy"
   ]
  },
  {
   "cell_type": "markdown",
   "metadata": {},
   "source": [
    "SciPy is a package that contains many mathematical and statistical routines.\n",
    "Examples include\n",
    "- [`scipy.sparse`](https://docs.scipy.org/doc/scipy/reference/sparse.html) (support for [sparse matrices](https://en.wikipedia.org/wiki/Sparse_matrix))\n",
    "- [`scipy.linalg`](https://docs.scipy.org/doc/scipy/reference/linalg.html) (linear algebra tools)\n",
    "- [`scipy.fftpack`](https://docs.scipy.org/doc/scipy/reference/fftpack.html) (tools dealing with the Fast Fourier Transform)\n",
    "- [`scipy.optimize`](https://docs.scipy.org/doc/scipy/reference/optimize.html) (optimization and root-finding routines)\n",
    "- [`scipy.stats`](https://docs.scipy.org/doc/scipy/reference/stats.html) (statistical functions, including random number generators)\n",
    "- [`scipy.interpolate`](https://docs.scipy.org/doc/scipy/reference/interpolate.html) (interpolation facilities)\n",
    "- [`scipy.signal`](https://docs.scipy.org/doc/scipy/reference/signal.html) (stuff for signal processing)\n",
    "\n",
    "It is common to import sub-packages from SciPy rather than importing the upper-level SciPy package.\n",
    "\n",
    "For example, we can compute the eigenvalues `l` and (left) eigenvectors `v` of the matrix `B`:"
   ]
  },
  {
   "cell_type": "code",
   "execution_count": null,
   "metadata": {},
   "outputs": [],
   "source": [
    "from scipy import linalg as la\n",
    "\n",
    "l, v = la.eig(B)\n",
    "l"
   ]
  },
  {
   "cell_type": "markdown",
   "metadata": {},
   "source": [
    "With the `stats` package we can describe arrays:"
   ]
  },
  {
   "cell_type": "code",
   "execution_count": null,
   "metadata": {},
   "outputs": [],
   "source": [
    "from scipy import stats as st\n",
    "\n",
    "description = st.describe( np.random.uniform(low=-1, high=1, size=(3, 5)) )"
   ]
  },
  {
   "cell_type": "code",
   "execution_count": null,
   "metadata": {},
   "outputs": [],
   "source": [
    "description"
   ]
  },
  {
   "cell_type": "code",
   "execution_count": null,
   "metadata": {},
   "outputs": [],
   "source": [
    "description.nobs"
   ]
  },
  {
   "cell_type": "code",
   "execution_count": null,
   "metadata": {},
   "outputs": [],
   "source": [
    "description.skewness"
   ]
  },
  {
   "cell_type": "markdown",
   "metadata": {},
   "source": [
    "It would be very long and complicated to showcase the functions in SciPy, as there are a lot.\n",
    "We will rather encounter SciPy functions as we go through the course.\n",
    "An exhastive list of sub-packages can be found [here](https://docs.scipy.org/doc/scipy/reference/#api-reference)."
   ]
  },
  {
   "cell_type": "markdown",
   "metadata": {},
   "source": [
    "### Pandas"
   ]
  },
  {
   "cell_type": "code",
   "execution_count": null,
   "metadata": {},
   "outputs": [],
   "source": [
    "import pandas as pd"
   ]
  },
  {
   "cell_type": "markdown",
   "metadata": {},
   "source": [
    "Pandas is a package that defines a handy `DataFrame` object.\n",
    "If you are familiar with R, you already know what this object is.\n",
    "If you are familiar with Stata, instead, this package allows you to nicely tabulate data in the same way.\n",
    "\n",
    "To explore some examples, let's use a sample dataset.\n",
    "A popular choice is the Tips dataset, which includes information about tips restaurants collect from customers.\n",
    "This is available in CSV format online.\n",
    "We can import CSV data using the `pandas.read_csv()` function."
   ]
  },
  {
   "cell_type": "code",
   "execution_count": null,
   "metadata": {},
   "outputs": [],
   "source": [
    "tips = pd.read_csv('https://raw.githubusercontent.com/pandas-dev/pandas/master/pandas/tests/data/tips.csv')"
   ]
  },
  {
   "cell_type": "code",
   "execution_count": null,
   "metadata": {},
   "outputs": [],
   "source": [
    "tips.describe()"
   ]
  },
  {
   "cell_type": "markdown",
   "metadata": {},
   "source": [
    "We can summarize specific variables."
   ]
  },
  {
   "cell_type": "code",
   "execution_count": null,
   "metadata": {},
   "outputs": [],
   "source": [
    "tips['sex'].value_counts()"
   ]
  },
  {
   "cell_type": "markdown",
   "metadata": {},
   "source": [
    "We can collapse the data grouping by categories."
   ]
  },
  {
   "cell_type": "code",
   "execution_count": null,
   "metadata": {},
   "outputs": [],
   "source": [
    "tips.groupby('smoker').sum()"
   ]
  },
  {
   "cell_type": "markdown",
   "metadata": {},
   "source": [
    "We can also create fancy plots on the fly."
   ]
  },
  {
   "cell_type": "code",
   "execution_count": null,
   "metadata": {},
   "outputs": [],
   "source": [
    "tips.boxplot(column=['total_bill', 'tip'], by='sex', figsize=(10,5))  # figsize in inches"
   ]
  },
  {
   "cell_type": "code",
   "execution_count": null,
   "metadata": {},
   "outputs": [],
   "source": [
    "tips.plot.scatter(x='total_bill', y='tip', figsize=(10,5))"
   ]
  },
  {
   "cell_type": "code",
   "execution_count": null,
   "metadata": {},
   "outputs": [],
   "source": [
    "tips.groupby('day').sum().plot.bar(y=['tip', 'total_bill'], figsize=(10,5))"
   ]
  },
  {
   "cell_type": "code",
   "execution_count": null,
   "metadata": {},
   "outputs": [],
   "source": [
    "tips.to_numpy()"
   ]
  },
  {
   "cell_type": "markdown",
   "metadata": {},
   "source": [
    "Looking at all features of pandas is outside the scope of this tutorial."
   ]
  },
  {
   "cell_type": "markdown",
   "metadata": {},
   "source": [
    "### Matplotlib"
   ]
  },
  {
   "cell_type": "markdown",
   "metadata": {},
   "source": [
    "Whenever you have complicated objects in your code, it is quite convenient to visualize them.\n",
    "Matplotlib provides a way to plot 2D objects, and is of (limited) use for 3D plotting.\n",
    "\n",
    "Above we computed the values implied by `np.sqrt` on a set `X`.\n",
    "What we can do is plot them."
   ]
  },
  {
   "cell_type": "code",
   "execution_count": null,
   "metadata": {},
   "outputs": [],
   "source": [
    "from matplotlib import pyplot as plt"
   ]
  },
  {
   "cell_type": "markdown",
   "metadata": {},
   "source": [
    "The `pyplot` sub-package has all (or almost all) the front-end functions we want to use for 2D plotting.\n",
    "We will rarely need functions in other sub-packages of Matplotlib.\n",
    "\n",
    "As in Matlab, we distinguish two main objects in a plot: the _figure_ and the _axes_.\n",
    "We can think of the figure as the box that contains the chart, while we can think of the axes as the main graphical objects that constitute the plot (this is a MASSIVE over-simplification, but we will be fine for the scope of this course)."
   ]
  },
  {
   "cell_type": "code",
   "execution_count": null,
   "metadata": {},
   "outputs": [],
   "source": [
    "fig, ax = plt.subplots(figsize=(8, 6))"
   ]
  },
  {
   "cell_type": "markdown",
   "metadata": {},
   "source": [
    "What we just did here is to create the two objects figure and axes.\n",
    "We also specified the size, in inches, that the figure will be characterized by.\n",
    "This is useful when you will need to save the figure to a file on disk.\n",
    "\n",
    "As we can see, Matplotlib (together with Jupyter, the renderer for this notebook) gave back a graphical representation of what we have: nothing.\n",
    "We have to instruct the axes object to put together the vectors `X` and `Y` that we defined above."
   ]
  },
  {
   "cell_type": "code",
   "execution_count": null,
   "metadata": {},
   "outputs": [],
   "source": [
    "ax.plot(X, Y, color='red', linewidth=1.0, linestyle='solid')"
   ]
  },
  {
   "cell_type": "markdown",
   "metadata": {},
   "source": [
    "Now our plot has the data to be visualized.\n",
    "However, the axes object has no graphical ability, in the sense that the screen is not showing the plot.\n",
    "We have to go back to the figure object"
   ]
  },
  {
   "cell_type": "code",
   "execution_count": null,
   "metadata": {},
   "outputs": [],
   "source": [
    "fig"
   ]
  },
  {
   "cell_type": "markdown",
   "metadata": {},
   "source": [
    "This most certainly resembles the graph of $y=\\sqrt{x}$, but it is a bit rough.\n",
    "This happens because we specified `n = 11` points for the grid for `X`.\n",
    "To make the graph smoother (hence more appealing to the eyes), we have to recompute the function on a denser set of points."
   ]
  },
  {
   "cell_type": "code",
   "execution_count": null,
   "metadata": {},
   "outputs": [],
   "source": [
    "n=1000+1\n",
    "X = np.linspace(xLo, xHi, n)\n",
    "Y = np.sqrt(X)\n",
    "\n",
    "ax.plot(X, Y, color='blue', linewidth=1.5, linestyle='solid')\n",
    "fig"
   ]
  },
  {
   "cell_type": "markdown",
   "metadata": {},
   "source": [
    "As we can see, the new blue line is much smoother than the red line, and this happens because we increase the number of points at which we evaluate the function.\n",
    "Note that the \"smoothing\" effect is most noticeable where the function is \"most concave\" (or convex).\n",
    "\n",
    "We can also decorate the plot by adding axes labels and a title."
   ]
  },
  {
   "cell_type": "code",
   "execution_count": null,
   "metadata": {},
   "outputs": [],
   "source": [
    "ax.set_xlabel(r'$x$')  # using LaTeX syntax\n",
    "ax.set_ylabel(r'$y$')  # using LaTeX syntax\n",
    "ax.set_title(r'$y=f(x)\\equiv\\sqrt{x}$')  # the 'r' prepending the string escapes backslashes\n",
    "fig"
   ]
  },
  {
   "cell_type": "markdown",
   "metadata": {},
   "source": [
    "We can also add arbitrary horizontal and vertical lines, which is useful if we want to highlight specific points in the plot."
   ]
  },
  {
   "cell_type": "code",
   "execution_count": null,
   "metadata": {},
   "outputs": [],
   "source": [
    "ax.axvline(1, color='black', linestyle='dashed', linewidth=1)\n",
    "ax.axhline(1, color='black', linestyle='dotted', linewidth=1)\n",
    "fig"
   ]
  },
  {
   "cell_type": "markdown",
   "metadata": {},
   "source": [
    "Finally, a notable feature here is saving a figure to disk, which is useful if you want to include the plot in a paper or a slide.\n",
    "We can do this by using `fig.savefig('destination_folder/filename.extension')`, where `extension` can be PDF, EPS, PNG, JPG, etc.\n",
    "Matplotlib automatically recognizes the extension (as long as it is a valid and supported graphic format) and takes care of all the encoding necessary.\n",
    "\n",
    "This is all we need for plotting with Python (at least at the moment).\n",
    "\n",
    "There is a small catch regarding the use of Matplotlib in conjunction with other tools.\n",
    "This webpage is generated by a tool call Jupyter.\n",
    "The interpreter executing the Python commands is called IPython, which is an enhanced command-line (interactive) interpreter that also runs in Spyder (the IDE we use in class).\n",
    "IPython by default loads special support for graphs, such that the plot is visualized inside the console whenever a figure object is created or called.\n",
    "This is not standard behavior for Matplotlib alone.\n",
    "If you are developing code without IPython (most commonly, without Jupyter/Spyder), you can spawn a window containing the plot by using the `plt.show()` command.\n",
    "This creates a stand-alone window with the plot and pauses the execution of any remaining code after it until the window is closed (unless you use `plt.show(block=False)`, which is still an experimental feature of Matplotlib).\n",
    "\n",
    "\n",
    "\n",
    "P.s.: do you have LaTeX installed on your machine and want to use LaTeX fonts in your plots for beautiful papers and slides?\n",
    "Use `matplotlib.rc('text', usetex=True)`."
   ]
  },
  {
   "cell_type": "markdown",
   "metadata": {},
   "source": [
    "### Classes (objects)"
   ]
  },
  {
   "cell_type": "markdown",
   "metadata": {},
   "source": [
    "The notable feature of Python relative to Matlab and Stata is that we can define our own objects.\n",
    "Think of an object as a container for custom data and custom functions which work for any instance of the custom data.\n",
    "If we know something about the data and what can be done with it, we can standardize the procedures by defining a `class`.\n",
    "\n",
    "Here is a (crude) example."
   ]
  },
  {
   "cell_type": "code",
   "execution_count": null,
   "metadata": {},
   "outputs": [],
   "source": [
    "class OLS(object):\n",
    "\n",
    "    def __init__(self, y, x, const=True):\n",
    "\n",
    "        self.y = y\n",
    "        self.n = y.shape[0]\n",
    "\n",
    "        if const:\n",
    "            self.X = np.concatenate((np.ones((self.n, 1)), x), axis=1)\n",
    "        else:\n",
    "            self.X = x\n",
    "\n",
    "        self.k = self.X.shape[1]\n",
    "\n",
    "        if self.n < 10000:\n",
    "            Q, R = la.qr(self.X, mode='economic')\n",
    "            self.xxi = la.solve(R.T @ R, np.eye(self.k))\n",
    "        else:\n",
    "            self.xxi = la.solve(self.X.T @ self.X, np.eye(self.k))\n",
    "\n",
    "        self.beta = self.xxi @ (self.X.T @ self.y)\n",
    "        self.u = self.y - self.X @ self.beta\n",
    "        self.sigma2 = (self.u.T @ self.u) / (self.n - self.k)\n",
    "        self.se_beta = np.sqrt(self.sigma2 * np.diag(self.xxi).reshape((-1,1)))\n",
    "\n",
    "    def r2(self, adj=False):\n",
    "        rss = ( np.squeeze( self.u.T @ self.u ) ).item()\n",
    "        tss = ( np.squeeze( self.y.T @ self.y ) ).item()\n",
    "        r2 = 1 - rss/tss\n",
    "\n",
    "        if not adj:\n",
    "            return r2\n",
    "        else:\n",
    "            return 1 - (1-r2) * ((self.n - 1) / (self.n - self.k))"
   ]
  },
  {
   "cell_type": "markdown",
   "metadata": {},
   "source": [
    "Here, the class `OLS` has two methods: `__init__` and `r2`.\n",
    "The first method is common to all classes: it \n",
    "1. defines what happens everytime we create an instance of the class, and \n",
    "2. allows the user to properly provide instance data to the instance of the object.\n",
    "The way we use the object is simply by calling it by name.\n",
    "\n",
    "Everything that is assigned to `self` is accessible from the outside.\n",
    "Let's see an example."
   ]
  },
  {
   "cell_type": "code",
   "execution_count": null,
   "metadata": {},
   "outputs": [],
   "source": [
    "# Creating random data (x, y), where y is approximately a linear function of x\n",
    "n = 100\n",
    "xLo = 0\n",
    "xHi = 2\n",
    "x = np.random.uniform(low=xLo, high=xHi, size=(n,1))\n",
    "b = np.array([5, -2], dtype=float)\n",
    "y = b[0] + b[1] * x + np.random.normal(size=(n,1))\n",
    "    \n",
    "mdl = OLS(y, x, const=True)"
   ]
  },
  {
   "cell_type": "markdown",
   "metadata": {},
   "source": [
    "Here, `mdl` is an instance of the object `OLS`.\n",
    "This object has one (non-private) method `r2`.\n",
    "The instance data of `mdl` is everything that we assigned to `self` in the definition of `OLS`.\n",
    "For example, `n`, `k`, `beta` and `se_beta` are some of the instance data of `mdl`."
   ]
  },
  {
   "cell_type": "code",
   "execution_count": null,
   "metadata": {},
   "outputs": [],
   "source": [
    "mdl.beta"
   ]
  },
  {
   "cell_type": "code",
   "execution_count": null,
   "metadata": {},
   "outputs": [],
   "source": [
    "mdl.se_beta"
   ]
  },
  {
   "cell_type": "code",
   "execution_count": null,
   "metadata": {},
   "outputs": [],
   "source": [
    "mdl.r2()"
   ]
  },
  {
   "cell_type": "markdown",
   "metadata": {},
   "source": [
    "Now, just for training with Matplotlib..."
   ]
  },
  {
   "cell_type": "code",
   "execution_count": null,
   "metadata": {},
   "outputs": [],
   "source": [
    "bhat = np.squeeze( mdl.beta )\n",
    "\n",
    "titleStr = r'$\\beta_0 \\approx {:.1f}, \\beta_1 \\approx {:.1f}$'.format(\n",
    "    float(bhat[0]),\n",
    "    float(bhat[1])\n",
    ")\n",
    "\n",
    "fig, ax = plt.subplots(figsize=(12,6))\n",
    "ax.scatter(x, y, color='red', alpha=0.5, label=r'$(x, y)$')\n",
    "ax.plot(x, np.polyval(np.flip(bhat), x), color='black', label=r'$y=\\beta_0+\\beta_1x$')\n",
    "ax.grid(alpha=0.2)\n",
    "ax.set_title(titleStr)\n",
    "ax.legend()\n",
    "plt.show()"
   ]
  },
  {
   "cell_type": "markdown",
   "metadata": {},
   "source": [
    "## Conclusion"
   ]
  },
  {
   "cell_type": "markdown",
   "metadata": {},
   "source": [
    "We have essentially reconstructed a Matlab-like environment in Python by assembling our own [stack](https://en.wikipedia.org/wiki/Solution_stack).\n",
    "With Python, we can approximate the behavior of many commercial software packages.\n",
    "For example, with [Pandas](https://pandas.pydata.org/) and [Statsmodels](http://www.statsmodels.org/stable/) we can get closer to what R or Stata can do.\n",
    "This shows a bit how flexible Python can be, and presents one argument in favor of using Python as main working tool.\n",
    "\n",
    "In the next TA sessions we will not focus on Python anymore and we are going to do some Macroeconomics using Python as numerical tool."
   ]
  }
 ],
 "metadata": {
  "kernelspec": {
   "display_name": "Python 3",
   "language": "python",
   "name": "python3"
  },
  "language_info": {
   "codemirror_mode": {
    "name": "ipython",
    "version": 3
   },
   "file_extension": ".py",
   "mimetype": "text/x-python",
   "name": "python",
   "nbconvert_exporter": "python",
   "pygments_lexer": "ipython3",
   "version": "3.7.6"
  }
 },
 "nbformat": 4,
 "nbformat_minor": 2
}
