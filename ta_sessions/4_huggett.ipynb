{
 "cells": [
  {
   "cell_type": "markdown",
   "metadata": {},
   "source": [
    "# From policy functions to General Equilibrium"
   ]
  },
  {
   "cell_type": "markdown",
   "metadata": {},
   "source": [
    "So far we solved for an individual's problem.\n",
    "The main product of the solution is a (set of) policy functions.\n",
    "However, we did not bring these policy functions to the general equilibrium of the economy.\n",
    "This TA session is about filling this gap.\n",
    "We use the paper of [Huggett (1993)](https://www.sciencedirect.com/science/article/pii/016518899390024M) as an example to do this.\n",
    "\n",
    "This session is organized in two parts: first we see methodologically how to bring an individual's problem to General Equilibrium.\n",
    "Second, we replicate Huggett (1993) and we summarize the methodology and the findings of the paper."
   ]
  },
  {
   "cell_type": "code",
   "execution_count": 1,
   "metadata": {},
   "outputs": [],
   "source": [
    "import numpy as np\n",
    "from time import time\n",
    "from scipy import optimize as opt\n",
    "from matplotlib import pyplot as plt"
   ]
  },
  {
   "cell_type": "markdown",
   "metadata": {},
   "source": [
    "## A simple exchange economy in equilibrium\n",
    "\n",
    "Consider a riskless simple exchange economy where the representative household solves the following:\n",
    "\n",
    "\\begin{align*}\n",
    "    \\max_{c_t, a_{t+1}} &\\; \\sum_{t=0}^{\\infty} \\beta^t \\dfrac{c_t^{1-\\gamma}}{1-\\gamma} \\\\\n",
    "    \\text{s.t.} &\\; \n",
    "        \\begin{cases}\n",
    "            c_t + a_{t+1} \\leq y_t + (1 + r_t) a_t \\\\\n",
    "            a_{t+1} \\geq - \\mathcal{A} \\\\\n",
    "            a_0 \\text{ given},\n",
    "        \\end{cases}\n",
    "\\end{align*}\n",
    "\n",
    "where $a_t$ is asset holdings that pay a net return $r_t$ and $\\mathcal{A} > 0$ is the natural debt limit.\n",
    "Note that here we allow for negative asset holdings, which we interpret as debt.\n",
    "\n",
    "\n",
    "### Closed-form solution\n",
    "\n",
    "In this economy, for given initial condition $a_0$ and endowment stream $\\{ y_t \\}_{t=0}^{\\infty}$, we define the general equilibrium to be a sequence of allocations $\\{ c_t^*, a_{t+1}^* \\}_{t=0}^{\\infty}$ and prices $\\{ r_t^* \\}_{t=0}^{\\infty}$ such that there is no debt in the economy, that is $a_{t+1}^* = 0$ for all periods $t$.\n",
    "\n",
    "The first-order conditions of the problem are\n",
    "\n",
    "\\begin{align*}\n",
    "    \\begin{cases}\n",
    "        {\\left( \\dfrac{c_t}{c_{t+1}} \\right)}^{-\\gamma} = \\beta (1 + r_{t+1}) \\\\\n",
    "        c_t + a_{t+1} = y_t + (1 + r_t) a_t.\n",
    "    \\end{cases}\n",
    "\\end{align*}\n",
    "\n",
    "In equilibrium, where $a_t = 0$, we have\n",
    "\n",
    "\\begin{align*}\n",
    "    \\begin{cases}\n",
    "        r_{t+1}^* = \\dfrac{1}{\\beta} \\cdot {\\left( \\dfrac{y_t}{y_{t+1}} \\right)}^{-\\gamma} - 1 \\\\\n",
    "        c_t^* = y_t \n",
    "    \\end{cases}\n",
    "\\end{align*}\n",
    "\n",
    "This problem is not particularly interesting, economically speaking.\n",
    "However, it is very simple to implement numerically.\n",
    "The presence of a closed-form solution allows us to check the accuracy of the numerical outcome.\n",
    "\n",
    "\n",
    "### Numerical solution\n",
    "\n",
    "We take care of the numerical implementation by re-writing the problem in recursive form.\n",
    "\n",
    "\\begin{align*}\n",
    "    V(a) = \\max_{c(a), a'(a)} &\\; \\dfrac{c^{1-\\gamma}}{1-\\gamma} + \\beta V(a') \\\\\n",
    "    \\text{s.t.} &\\;\n",
    "        \\begin{cases}\n",
    "            c + a' \\leq y + (1 + r) a \\\\\n",
    "            a' \\geq - \\mathcal{A}.\n",
    "        \\end{cases}\n",
    "\\end{align*}\n",
    "\n",
    "We proceed by calibrating the model.\n",
    "We set parameters $\\beta$ and $\\gamma$ to standard values in the literature."
   ]
  },
  {
   "cell_type": "code",
   "execution_count": 2,
   "metadata": {},
   "outputs": [],
   "source": [
    "beta = 0.97\n",
    "gamma = 1.5"
   ]
  },
  {
   "cell_type": "markdown",
   "metadata": {},
   "source": [
    "We express all the variables in the model relative to output by imposing $y_t = 1$ for all periods $t$."
   ]
  },
  {
   "cell_type": "code",
   "execution_count": 3,
   "metadata": {},
   "outputs": [],
   "source": [
    "y = 1.0"
   ]
  },
  {
   "cell_type": "markdown",
   "metadata": {},
   "source": [
    "In principle, $\\mathcal{A}$ should at least be equal to the natural debt limit (we're not interested in occasionally binding constraints here).\n",
    "In practice, as we want the constraint not to be binding, we just set $\\mathcal{A}$ to a huge number and we verify in the solution that the policy function $a'(a)$ does not exhibit constrained behavior on low values of $a$.\n",
    "The way we code this limit is by creating a sufficiently broad grid of asset holdings.\n",
    "The lowest value on the grid will be interpreted as the borrowing constraint."
   ]
  },
  {
   "cell_type": "code",
   "execution_count": 4,
   "metadata": {},
   "outputs": [],
   "source": [
    "n = 300 + 1\n",
    "a = np.linspace(-5, 5, num=n)  # ensuring there's a value that is exactly zero, see later"
   ]
  },
  {
   "cell_type": "markdown",
   "metadata": {},
   "source": [
    "Given the analytical solution of the model and the calibration, we know that the equilibrium interest rate is"
   ]
  },
  {
   "cell_type": "code",
   "execution_count": 5,
   "metadata": {},
   "outputs": [
    {
     "name": "stdout",
     "output_type": "stream",
     "text": [
      "r* = 0.03093\n"
     ]
    }
   ],
   "source": [
    "rSol = 1 / beta - 1\n",
    "print('r* = {:.5f}'.format(rSol))"
   ]
  },
  {
   "cell_type": "markdown",
   "metadata": {},
   "source": [
    "However, assume that for some reason we do not have the closed-form solution available.\n",
    "This is the case with more complicated models (e.g., the baseline Neo-Keynesian model).\n",
    "Therefore, we need to solve the problem numerically.\n",
    "\n",
    "The way we solve the model is the following.\n",
    "Observe that we can solve the individual's problem for a given value of the interest rate $r$.\n",
    "This will return a policy function for asset holdings, which we denote here with $a'(a; r)$.\n",
    "Let $z(r) \\equiv a'(0; r)$ denote the excess asset demand function.\n",
    "We pick $a'(0; r)$ because we defined our equilibrium as $a_t = 0$ for all $t$, essentially requiring a steady state where $a'(0; r) = 0$.\n",
    "In equilibrium, we must have $z(r) = 0$.\n",
    "For any guess of $r$, $z(r)$ will be generally different from zero.\n",
    "What we do is to keep solving the problem with different guesses of $r$ until we find $z(r) = 0$.\n",
    "At each step of this procedure, we improve the search of the right value of $r$ by using the excess asset holding demand.\n",
    "If $z(r) > 0$, we have excess demand and we must lower $r$.\n",
    "If $z(r) < 0$, we have insufficient demand and we must set a higher $r$.\n",
    "\n",
    "Python's **classes** turn out to be useful in this context.\n",
    "Let us set up an `Agent` that solves the problem."
   ]
  },
  {
   "cell_type": "code",
   "execution_count": 6,
   "metadata": {},
   "outputs": [],
   "source": [
    "class Agent:\n",
    "    \n",
    "    def __init__(self, beta, gamma, a, y):\n",
    "        self.beta = beta\n",
    "        self.gamma = gamma\n",
    "        self.y = y\n",
    "        self.a = a\n",
    "        \n",
    "    def __call__(self, r, tol=1e-6):\n",
    "        n = a.size\n",
    "        v = np.zeros((n,1))\n",
    "        v_new = np.zeros((n,1))\n",
    "        dr = np.zeros((n,1), dtype=int)\n",
    "        criterion = 1\n",
    "        n_iter = 0\n",
    "        t0 = time()\n",
    "        while criterion > tol:\n",
    "            n_iter += 1\n",
    "            for i in range(n):\n",
    "                c = self.y + self.a[i] * (1 + r) - self.a\n",
    "                c[c<=0] = np.nan\n",
    "                u = c ** (1 - self.gamma) / (1 - self.gamma)\n",
    "                obj = u + self.beta * v[:, -1]\n",
    "                v_new[i] = np.nanmax( obj )\n",
    "                dr[i] = obj.tolist().index(v_new[i])\n",
    "            v = np.block([v, v_new])\n",
    "            criterion = np.max(np.abs(v[:, -1] - v[:, -2]))\n",
    "        t1 = time()\n",
    "        a_opt = self.a[dr]\n",
    "        self.v = v\n",
    "        print('VFI took {0:.3f} seconds, {1} iterations (r={2:.3f}%).'.format(t1-t0, n_iter, r*100))\n",
    "        # c_opt = self.y + self.a * (1 + r) - a_opt\n",
    "        return a_opt"
   ]
  },
  {
   "cell_type": "markdown",
   "metadata": {},
   "source": [
    "There it is.\n",
    "Everytime we call `Agent(r)`, we solve the model with VFI for a given interest rate $r$.\n",
    "\n",
    "\n",
    "### The point of projection methods\n",
    "\n",
    "Now we pass to the heart of projection methods.\n",
    "Remember that we defined the excess asset demand function as $z(r) \\equiv a'(0; r)$.\n",
    "Suppose that we have a guess for the equilibrium interest rate $r$ and denote it with $r^{(n)}$.\n",
    "\n",
    "- If $z(r) > 0$, then $r^{(n)}$ is too high and $r^{(n+1)}$ needs to be lower\n",
    "- If $z(r) < 0$, then $r^{(n)}$ is too low and $r^{(n+1)}$ needs to be higher\n",
    "- If $z(r) = 0$, then $r^{(n)}$ is approximately equal to $r^*$ and we stop the search algorithm\n",
    "\n",
    "In essence, we are finding the zero of the excess demand function $z(r)$, which we know is monotonic and increasing with $r$.\n",
    "The module [`scipy.optimize`](https://docs.scipy.org/doc/scipy/reference/optimize.html) provides zero-finding routines.\n",
    "Here we use the [`scipy.optimize.ridder`](https://docs.scipy.org/doc/scipy/reference/generated/scipy.optimize.ridder.html#scipy.optimize.ridder) function to solve our problem.\n",
    "This routine searches the zero of a continuous function $f(x)$ in a closed interval $[a, b]$, such that $f(a) \\cdot f(b) < 0$.\n",
    "We therefore need to provide bounds to the search algorithm."
   ]
  },
  {
   "cell_type": "code",
   "execution_count": 7,
   "metadata": {},
   "outputs": [],
   "source": [
    "rLo, rHi = np.array([0.75, 1.25]) * rSol"
   ]
  },
  {
   "cell_type": "markdown",
   "metadata": {},
   "source": [
    "Now, we initialize the representative agent `ra` with the parameters of the model."
   ]
  },
  {
   "cell_type": "code",
   "execution_count": 8,
   "metadata": {},
   "outputs": [],
   "source": [
    "ra = Agent(beta, gamma, a, y)"
   ]
  },
  {
   "cell_type": "code",
   "execution_count": 9,
   "metadata": {},
   "outputs": [
    {
     "name": "stdout",
     "output_type": "stream",
     "text": [
      "VFI took 24.092 seconds, 480 iterations (r=2.320%).\n",
      "VFI took 22.583 seconds, 478 iterations (r=3.866%).\n",
      "VFI took 22.679 seconds, 481 iterations (r=3.093%).\n",
      "VFI took 22.360 seconds, 481 iterations (r=3.093%).\n"
     ]
    }
   ],
   "source": [
    "where_a_is_zero = a.tolist().index(0)\n",
    "z = lambda x: ra(x)[where_a_is_zero]\n",
    "rStar = opt.ridder(z, rLo, rHi)"
   ]
  },
  {
   "cell_type": "markdown",
   "metadata": {},
   "source": [
    "We see that the zero-finding algorithm quickly found the solution, in the sense that it did not need to try many candidate values of `r` before finding the solution.\n",
    "We can also verify here how close the numerical solution is to the closed-form one."
   ]
  },
  {
   "cell_type": "code",
   "execution_count": 10,
   "metadata": {},
   "outputs": [
    {
     "name": "stdout",
     "output_type": "stream",
     "text": [
      "Closed-form solution: r = 0.03092783505154650391943960130447521805763244628906\n",
      "  Numerical solution: r = 0.03092783505154650391943960130447521805763244628906\n"
     ]
    }
   ],
   "source": [
    "print('Closed-form solution: r = {:.50f}'.format(rSol))\n",
    "print('  Numerical solution: r = {:.50f}'.format(rStar))"
   ]
  },
  {
   "cell_type": "markdown",
   "metadata": {},
   "source": [
    "Quite close indeed.\n",
    "\n",
    "This is a quick example just to showcase how projection methods work.\n",
    "A remark here is that we could have made everything tremendously faster by using PFI.\n",
    "With this example we already get a sense of how long projection methods might take.\n",
    "We might need to solve the individual's problem many times before we can solve for the general equilibrium of a model."
   ]
  },
  {
   "cell_type": "markdown",
   "metadata": {},
   "source": [
    "## [Huggett (1993)](https://www.sciencedirect.com/science/article/pii/016518899390024M)\n",
    "\n",
    "Now consider a similar version of the problem above, where endowments are exogenously stochastic.\n",
    "Let there be a unit mass of consumers, where each one solves the following:\n",
    "\n",
    "\\begin{align*}\n",
    "    V(a, y) = \\max_{c(a, y), a'(a, y)} &\\; \\dfrac{c^{1-\\gamma}}{1-\\gamma} + \\beta \\mathbf{E} \\left( V(a', y') | a, y \\right) \\\\\n",
    "    \\text{s.t.} &\\;\n",
    "        \\begin{cases}\n",
    "            c + a' \\leq y + (1 + r) a \\\\\n",
    "            y' = (1-\\rho) \\mu + \\rho y + \\varepsilon' \\\\\n",
    "            \\varepsilon' \\sim \\mathcal{N} (0, \\sigma^2) \\\\\n",
    "            a' \\geq - \\mathcal{B},\n",
    "        \\end{cases}\n",
    "\\end{align*}\n",
    "\n",
    "This problem is different than the one above in two ways.\n",
    "First, we assume that there is a borrowing constraint where agents cannot borrow more than $\\mathcal{B}$ and we assume that this constraint may bind.\n",
    "Second, we assume that every individual is subject to idiosyncratic endowment shocks.\n",
    "The stochastic process for the endowment shocks induces a distribution of agents.\n",
    "In particular, the unconditional income level is distributed as $\\mathcal{N} \\left( \\mu, \\sigma^2/(1-\\rho^2) \\right)$.\n",
    "\n",
    "Note that we are not in a representative agent setup, because every individual receives idiosyncratic shocks to their beginning-of-period endowments.\n",
    "While agents are all ex-ante identical, resolution of uncertainty at every period makes everybody different.\n",
    "This model is a Bewley-type model because we are not solving $N$ problems, one for each of $N$ agents.\n",
    "Instead, we are exploiting the Law of Large Numbers in [Uhlig (1996)](https://doi.org/10/cx9dg6) to solve one agent's problem to obtain information about the whole cross-section of consumers.\n",
    "\n",
    "\n",
    "### Intuition and main results (a reverse-engineering view)\n",
    "\n",
    "Back in the early 90's many researchers in Macroeconomics where working on the Equity Premium Puzzle (EPP).\n",
    "This puzzle consists in the fact that macroeconomic models typically predict risk premia that are much lower than those we observe in reality.\n",
    "The risk premium is normally defined as the spread between a risky asset and a risk-free asset.\n",
    "\n",
    "The intuition in Huggett (1993) is the following.\n",
    "Consider the risk premium (return on risky return minus return on safe asset) predicted by a model.\n",
    "The risk premium might be too low not only because risky assets have low returns, but also because the risk-free rate is too high.\n",
    "Hence, we could devise a way to lower the return on the risk-free asset.\n",
    "This paper does exactly this.\n",
    "\n",
    "How can we lower a return that is normally endogenous?\n",
    "In this economy, some consumers will save and some consumers will borrow.\n",
    "We reach the equilibrium when we have zero net debt in the economy.\n",
    "If we want to decrease the interest rate that we observe in equilibrium, we can either make lenders save more (hence increasing demand of assets) or make borrowers borrow less (hence decreasing the supply of assets).\n",
    "Given that constraining the behavior of lenders is typically not an intuitive, nor popular choice, we are left with constraining the behavior of borrowers.\n",
    "Note that to do this, we need to depart from the representative agent world, as we need to keep track of who saves and who borrows.\n",
    "\n",
    "The results of the paper are not surprising, given the intuition above.\n",
    "Huggett's model predicts a lower return on safe assets.\n",
    "(Assets are safe because there is full commitment to repayment, that is there is no default).\n",
    "The endogenous interest rate in the incomplete market economy is lower (but not that much lower) compared to the comparable economy with complete markets.\n",
    "The implication of the result is that research should focus on explaining high returns on risky assets, rather than low returns on safe assets.\n",
    "\n",
    "\n",
    "### Replicating the paper\n",
    "\n",
    "    coming soon"
   ]
  }
 ],
 "metadata": {
  "kernelspec": {
   "display_name": "Python 3",
   "language": "python",
   "name": "python3"
  },
  "language_info": {
   "codemirror_mode": {
    "name": "ipython",
    "version": 3
   },
   "file_extension": ".py",
   "mimetype": "text/x-python",
   "name": "python",
   "nbconvert_exporter": "python",
   "pygments_lexer": "ipython3",
   "version": "3.8.8"
  }
 },
 "nbformat": 4,
 "nbformat_minor": 4
}
