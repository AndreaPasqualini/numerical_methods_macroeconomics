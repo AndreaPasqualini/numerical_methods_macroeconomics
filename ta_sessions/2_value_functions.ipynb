{
 "cells": [
  {
   "cell_type": "markdown",
   "metadata": {},
   "source": [
    "# Value Functions and Numerical Solutions"
   ]
  },
  {
   "cell_type": "markdown",
   "metadata": {},
   "source": [
    "Here you will learn how to deal with Value Functions that characterize infinite-horizon problems."
   ]
  },
  {
   "cell_type": "markdown",
   "metadata": {},
   "source": [
    "## A simple consumption-savings problem"
   ]
  },
  {
   "cell_type": "markdown",
   "metadata": {},
   "source": [
    "In Economics (warning: not only Macro!) you will often encounter problems that look like the following:\n",
    "\n",
    "\\begin{align*}\n",
    "    V(k) = \\max_{c, k'} &\\; \\left( u(c) + \\beta V(k') \\right) \\\\\n",
    "        \\text{s.t.} &\\; \\begin{cases}\n",
    "            c + k' \\leq f(k) + (1 - \\delta) k \\\\\n",
    "            f(k) = k^\\alpha \\\\\n",
    "            c \\geq 0.\n",
    "        \\end{cases}\n",
    "\\end{align*}\n",
    "\n",
    "Sometimes these problems are not easy to solve, and more often they are just the fundamental step on top of which a bigger problem sits.\n",
    "\n",
    "In this TA session, we will learn how to numerically tackle such problem.\n",
    "We will use the following packages:"
   ]
  },
  {
   "cell_type": "code",
   "execution_count": 1,
   "metadata": {},
   "outputs": [],
   "source": [
    "import numpy as np  # N-dimensional arrays (e.g., vectors, matrices)\n",
    "from matplotlib import pyplot as plt  # for some graphics\n",
    "from time import time  # to keep track of... time!"
   ]
  },
  {
   "cell_type": "markdown",
   "metadata": {},
   "source": [
    "There are three ways we can tackle this problem:\n",
    "\n",
    "- Value Function Iteration (VFI);\n",
    "- Policy Function Iteration (PFI); and\n",
    "- \"Direct\" projection.\n",
    "\n",
    "In this file, we will see all three of them and we will go through the steps of "
   ]
  },
  {
   "cell_type": "markdown",
   "metadata": {},
   "source": [
    "## Value Function Iteration"
   ]
  },
  {
   "cell_type": "markdown",
   "metadata": {},
   "source": [
    "Value Function Iteration (VFI) consists of iterating the contraction operator $\\mathbf{T} V(\\cdot)$ many times.\n",
    "As you know from theory, if $V(\\cdot)$ is indeed a contraction mapping, then we can construct a sequence ${\\left( V^{(n)}(k) \\right)}_{n=0}^{\\infty}$ such that $V^{(n+1)}(k) = \\mathbf{T} V^{(n)}(k)$.\n",
    "The sequence is convergent and the limit is $V(k)$.\n",
    "\n",
    "All we do numerically is to blindly apply the procedure.\n",
    "The catch in this setting is that $V(k)$ is a function.\n",
    "This means that we have to apply the procedure to all values $V$, one for each (interesting) value of $k$.\n",
    "\n",
    "How do we do this?\n",
    "\n",
    "- Define a set of points $k \\in \\mathcal{K} \\equiv \\{ k_1, k_2, ..., k_{n_k} \\}$ for which the problem makes sense\n",
    "- Start from a guess $V^{(0)}(k)$, defined for each value of $k$.\n",
    "- At each iteration $n$:\n",
    "    - Compute $c = k^\\alpha + (1 - \\delta) k - k'$, one for each $k$ and for all possible values of $k'$\n",
    "    - Rule out invalid values of $c$ (e.g., $c < 0$)\n",
    "    - Maximize the quantity $u(c) + \\beta V^{(n)}(k)$\n",
    "    - The max will be $V^{(n+1)}(k)$, the argmax will be $k'$\n",
    "    - If $\\max_k(|V^{(n+1)}(k) - V^{(n)}(k)|) > \\varepsilon$, then go to iteration $n+1$, otherwise stop the loop (for some arbitrary, small and positive real number $\\varepsilon$).\n",
    "\n",
    "Before entering the specific commands that constitute the algorithm, we need to calibrate the model.\n",
    "This means choosing parameter values according to some criterion.\n",
    "As we are not interested here in how to calibrate, we will just skip the rationale behind the numbers and we just trust some given values."
   ]
  },
  {
   "cell_type": "code",
   "execution_count": 2,
   "metadata": {},
   "outputs": [],
   "source": [
    "gamma = 1.5  # the CRRA parameter\n",
    "delta = 0.1  # capital depreciation\n",
    "beta = 0.95  # discount rate\n",
    "alpha = 0.3  # exponetiator in production function\n",
    "\n",
    "tolerance = 1e-6  # the \\varepsilon in the text above\n",
    "\n",
    "u = lambda c : c ** (1 - gamma) / (1 - gamma)  # the utility function"
   ]
  },
  {
   "cell_type": "markdown",
   "metadata": {},
   "source": [
    "Now we start coding the main part of the algorithm.\n",
    "\n",
    "- _Define a set of points $k \\in {k_1, k_2, ..., k_{n_k}}$ for which the problem makes sense_\n",
    "\n",
    "We want to choose a grid for capital.\n",
    "A natural choice in the context of the Neoclassical Growth Model (the one we're dealing with here) is to center the interesting values of capital around the steady state value."
   ]
  },
  {
   "cell_type": "code",
   "execution_count": 3,
   "metadata": {},
   "outputs": [],
   "source": [
    "N = 1000  # number of grid points\n",
    "\n",
    "k_ss = ((1 - (1-delta) * beta) / (alpha * beta)) ** (1 / (alpha-1))\n",
    "\n",
    "k_lo, k_hi = np.array([0.1, 1.9]) * k_ss  # using the unpacking feature of Python\n",
    "K = np.linspace(start=k_lo, stop=k_hi, num=N)"
   ]
  },
  {
   "cell_type": "markdown",
   "metadata": {},
   "source": [
    "Next up, we want to formulate a guess $v^{(0)}(k)$.\n",
    "\n",
    "- _Start from a guess $V^{(0)}(k)$, defined for each value of $k$_\n",
    "\n",
    "As we are exploiting the contraction mapping theorem, we know that the initial guess is irrelevant for convergence of the algorithm.\n",
    "The worst that might happen is that the algorithm will take a few extra iterations.\n",
    "\n",
    "Also, it is good practice to preallocate RAM space for the variables we will be working with.\n",
    "\n",
    "In what follows, we map $V^{(n)}(k)$ to the variable `V_old` and $V^{(n+1)}(k)$ to `V`.\n",
    "It is also useful to define a vector `dr` (Decision Rule) that will contain the indices for the policy function (this will be clearer later).\n",
    "Note that both `V_old` and `V` should have as many elements as the cardinality of the discretized state space (here, we only have one state variable, with `N` grid points)."
   ]
  },
  {
   "cell_type": "code",
   "execution_count": 4,
   "metadata": {},
   "outputs": [],
   "source": [
    "V_old = np.zeros((N,))\n",
    "V = np.zeros((N,))\n",
    "dr = np.zeros((N,), dtype=int)"
   ]
  },
  {
   "cell_type": "markdown",
   "metadata": {},
   "source": [
    "Now we want to define the convergence criterion and a threshold value for this criterion.\n",
    "It will be clearer later, so we now skip the explanation of the parameter choice.\n",
    "The only thing worth noting here is that we map the parameter $\\varepsilon$ above to the variable `tolerance`."
   ]
  },
  {
   "cell_type": "code",
   "execution_count": 5,
   "metadata": {},
   "outputs": [],
   "source": [
    "criterion = 1\n",
    "tolerance = 1e-6"
   ]
  },
  {
   "cell_type": "markdown",
   "metadata": {},
   "source": [
    "This is the moment we enter the loop.\n",
    "As we need to run the iterations \"until\" a certain condition is met, we use the `while` statement.\n",
    "In the code that follows, each line of the `while` code block corresponds to a bullet point among the following:\n",
    "\n",
    "- _Compute $c = k^\\alpha + (1 - \\delta) k - k'$, one for each $k$_\n",
    "- _Rule out invalid values of $c$ (e.g., $c < 0$)_\n",
    "- _Maximize the quantity $u(c) + \\beta V^(n)(k)$_\n",
    "- _The max will be $V^{(n+1)}(k)$, the argmax will be $k'$_\n",
    "- _If $\\max_k(|V^{(n+1)}(k) - V^{(n)}(k)|) > \\varepsilon$, then go to iteration $n+1$, otherwise stop the loop_"
   ]
  },
  {
   "cell_type": "code",
   "execution_count": 6,
   "metadata": {},
   "outputs": [
    {
     "name": "stdout",
     "output_type": "stream",
     "text": [
      "VFI algorithm took 285 iterations and 25.18 seconds.\n"
     ]
    }
   ],
   "source": [
    "n_iter = 0\n",
    "t0 = time()\n",
    "\n",
    "while criterion > tolerance:\n",
    "    n_iter += 1\n",
    "    for i in range(N):\n",
    "        C = (K[i] ** alpha) + (1 - delta) * K[i] - K\n",
    "        negative_C = C < 0\n",
    "        C[negative_C] = np.nan\n",
    "        objective = u(C) + beta * V_old\n",
    "        V[i] = np.nanmax(objective)\n",
    "        dr[i] = np.nanargmax(objective)\n",
    "    criterion = np.max(np.abs(V - V_old))\n",
    "    V_old[:] = V\n",
    "\n",
    "t1 = time()\n",
    "\n",
    "print('VFI algorithm took {0:0d} iterations and {1:.2f} seconds.'.format(n_iter, t1 - t0))"
   ]
  },
  {
   "cell_type": "markdown",
   "metadata": {},
   "source": [
    "Here it is.\n",
    "We solved the problem.\n",
    "As you can see, it took a while to the algorithm to converge.\n",
    "This time is highly dependent on the number of grid points that you use to discretize your state space.\n",
    "If your are interested in algorithms (intended as a domain of mathematics and computer science), VFI is a _NP-hard_ problem --- much like asking a computer to solve chess.\n",
    "\n",
    "Now it is time to figure out why we ended up solving this problem.\n",
    "The interesting object here is the set of policy functions.\n",
    "In our example, we have two of them: $c(k)$ and $k'(k)$.\n",
    "VFI per se focuses on getting $V(k)$, which is not very interesting (unless you do welfare analysis).\n",
    "\n",
    "Note that `np.argmax` returns an index over the set of possible values of $k$.\n",
    "So, the contents of `dr` will be integer number ranging from `0` to `N-1`. \n",
    "These are not the values of $k'(k)$, so we need to obtain them.\n",
    "\n",
    "Obtaining the policy function $c(k)$ is trivial once you have $k'(k)$: just use the budget constraint."
   ]
  },
  {
   "cell_type": "code",
   "execution_count": 7,
   "metadata": {},
   "outputs": [],
   "source": [
    "K_opt = K[dr]\n",
    "C_opt = K ** alpha + (1-delta) * K - K_opt"
   ]
  },
  {
   "cell_type": "markdown",
   "metadata": {},
   "source": [
    "How do we read these vectors?\n",
    "The value `K_opt[i]` will be the optimal value $k'$ for a given capital stock level `K[i]`.\n",
    "So, what maps values of `K_opt` into values of `K` is the position in the vector.\n",
    "This will be clear with the plots.\n",
    "\n",
    "Now it is time to check our results.\n",
    "We do plots here to verify that we obtained a sensible solution.\n",
    "What do we expect?\n",
    "\n",
    "- A concave value function $V(k)$\n",
    "- A set of concave policy functions $c(k)$ and $k'(k)$\n",
    "- The policy function for capital $k'(k)$ should cross the 45-degree line at the steady state value of capital `k_ss`\n",
    "\n",
    "There are obviously other mathematical features we could use to validate our results, but we will abstract from them in this example."
   ]
  },
  {
   "cell_type": "code",
   "execution_count": 11,
   "metadata": {},
   "outputs": [
    {
     "data": {
      "image/png": "[encoded data removed]",
      "text/plain": [
       "<matplotlib.figure.Figure at 0x7f483475ba90>"
      ]
     },
     "metadata": {},
     "output_type": "display_data"
    }
   ],
   "source": [
    "fig = plt.subplots(figsize=(8, 5))\n",
    "ax = [None, None, None]\n",
    "pltgrid = (2, 4)\n",
    "\n",
    "ax[0] = plt.subplot2grid(pltgrid, (0, 0), rowspan=2, colspan=2)\n",
    "ax[1] = plt.subplot2grid(pltgrid, (0, 2), colspan=2)\n",
    "ax[2] = plt.subplot2grid(pltgrid, (1, 2), colspan=2)\n",
    "\n",
    "ax[0].plot(K, V,     linewidth=2, color='red',   label=r'$V(k)$')\n",
    "ax[1].plot(K, K_opt, linewidth=2, color='red',   label=r\"$k'(k)$\", zorder=2)\n",
    "ax[2].plot(K, C_opt, linewidth=2, color='red',   label=r'$c(k)$')\n",
    "ax[1].plot(K, K,     linewidth=1, color='black', linestyle='dashed', zorder=1)\n",
    "\n",
    "ax[0].set_title('Value function')\n",
    "ax[1].set_title('Capital accumulation decision')\n",
    "ax[2].set_title('Consumption decision')\n",
    "\n",
    "for a in range(3):\n",
    "    ax[a].axvline(k_ss, linewidth=1, color='black', linestyle='dotted', zorder=1)\n",
    "    ax[a].grid(alpha=0.3)\n",
    "    ax[a].set_xlabel('$k$')\n",
    "    ax[a].legend()\n",
    "\n",
    "plt.tight_layout()  # packing well the plots, graphically speaking"
   ]
  },
  {
   "cell_type": "markdown",
   "metadata": {},
   "source": [
    "The plots confirm our expectations, so we trust that this is the correct solution.\n",
    "\n",
    "Few notes on these plots.\n",
    "First, if you decrease the number of grid points for the state space to, say, `50`, then you should expect your plots to look more like \"staircases\" than smooth lines.\n",
    "\n",
    "Second, regardless of how many grid points you set, the solution you get will always be an approximation.\n",
    "This is so because the parameter `tolerance` ($\\varepsilon$ in the notation above) is positive and fixed.\n",
    "The \"true\" solution we are approximating can only be obtained by making `tolerance` go to zero.\n",
    "However, we cannot do this in a computer.\n",
    "Numerically speaking, we can still argue that we got the solution.\n",
    "\n",
    "Third, my (limited) experience showed that many policy functions we are interested in are \"almost linear\".\n",
    "A bit more formally (but I really do not want to be formal on this statement), a second-order Taylor expansion of the \"true\" policy function is often enough, and the associated approximation error is small even \"far away\" from the point of approximation.\n",
    "This is obviously not the case in models with binding constraints, or where the policy functions exhibit clear nonlinear behavior (e.g., discrete choice models).\n",
    "So, depending on the model you want to solve numerically, a perturbation method might be much quicker than a projection method, without \"much loss of generality.\"\n",
    "\n",
    "(You cannot help it: if you go numerical, you get your hands dirty and will be approximate also in your language)"
   ]
  },
  {
   "cell_type": "markdown",
   "metadata": {},
   "source": [
    "## Policy Function Iteration"
   ]
  },
  {
   "cell_type": "markdown",
   "metadata": {},
   "source": [
    "Policy Function Iteration (PFI) is an alternative way to obtain the policy function out of a Bellman problem.\n",
    "This method also goes by the name of **Howard improvement**.\n",
    "\n",
    "\n",
    "### Why does should this be better?\n",
    "\n",
    "Here I just provide an intuitive reminder of what you saw in class.\n",
    "Remember the intuition behind a Bellman equation: it characterizes the solution to an infinite horizon problem, by focusing on only two periods (labelled \"today\" and \"tomorrow\") and by assuming that \"tomorrow\" the agent implements the policy function, whichever that turns out to be in the future state.\n",
    "So, VFI literally implements this intuition and iterates on \"today\", \"tomorrow\", \"the day after tomorrow\" and so on, always recalculating the policy function at each step, for each pair of consequent periods.\n",
    "\n",
    "PFI, instead, works under the assumption that the policy function is always the same, for all periods, without the \"pair of consequent periods\" story.\n",
    "This is the reason for which PFI _might_ allow for time gains relative to VFI.\n",
    "\n",
    "Is PFI actually faster than VFI?\n",
    "\n",
    "- Yes, if $\\beta$ is close to unity (just because VFI is slower with $\\beta$ approaching unity).\n",
    "- No, if you cannot take smart shortcuts and you are required to invert large matrices.\n",
    "\n",
    "One catch of PFI is that it is less table than VFI.\n",
    "By this, we mean that PFI is sensitive to the initial guess: having a good initial guess not only allows for faster convergence to the solution, but is sometimes necessary to converge to the \"right\" solution in the first place.\n",
    "In other words, starting with a \"bad\" initial guess might prevent the algorithm from converging, or it might converge to something that is not the solution.\n",
    "Obviously, the \"more nonlinear\" your problem is, and the more stability becomes a concern.\n",
    "\n",
    "\n",
    "### How does this work?\n",
    "\n",
    "Start with a guess for the policy function itself.\n",
    "You can verify if this guess solves the problem, often by using a first-order condition of the Bellman problem.\n",
    "If the guess is not good enough, then you can use the analytical (partial) characterization of the solution to update the guess.\n",
    "Rinse and repeat until convergence.\n",
    "\n",
    "\n",
    "#### Hint of theoretical approach... ?????\n",
    "\n",
    "Something here, maybe, one day in the future...?\n",
    "\n",
    "\n",
    "#### PFI in the Neoclassical Growth Model\n",
    "\n",
    "In the Neoclassical Growth Model, this is relatively easy.\n",
    "An equation that characterizes the solution is the Euler equation, evaluated in equilibrium (that is, plugging in the efficiency condition of the firm already):\n",
    "$$ {\\left[ \\dfrac{c(k)}{c(k')} \\right]}^{-\\sigma} = \\beta \\cdot \\alpha {[k']}^{\\alpha - 1} + [1 - \\delta] $$\n",
    "\n",
    "Here we immediately see that we have a problem.\n",
    "We are tackling this by guessing the form of $c(k)$, but at the same time we assume that $c(k')$ is known.\n",
    "This is quite an assumption, because assuming that $c(k)$ is known implies knowing $k'(k)$, which in turn implies a value for $c(k'(k))$.\n",
    "As we need to take into account that $c(k')$ actually is $c(k'(k))$, we resort to interpolation to guess how $c(k)$ (guessed!) implies $k'(k)$ (guessed!).\n",
    "\n",
    "So, start with a guess $c^{(0)}(k)$"
   ]
  },
  {
   "cell_type": "code",
   "execution_count": 14,
   "metadata": {},
   "outputs": [],
   "source": [
    "C0 = 0.1 * np.ones((N,))  # simply an initial guess (better be good here!)"
   ]
  },
  {
   "cell_type": "markdown",
   "metadata": {},
   "source": [
    "Now, at each iteration $n$, given $c(k)$, which would be $c_t$ in sequential notation:\n",
    "\n",
    "- Compute the implied $k'(k)$\n",
    "- Fit a polynomial for the pairs $\\{ (k, c) \\}$ (essentially, extrapolating points for $c(k)$\n",
    "- Use the polynomial to infer $c(k')$, which would be $c_{t+1}$ in sequential notation\n",
    "- Use the Euler equation to compute an update for the policy function $c^{(n+1)}(k)$:\n",
    "$$ c^{(n+1)}(k) = c^{(n)}(k') \\cdot {\\left[ \\beta \\cdot \\alpha {[k']}^{\\alpha - 1} + [1 - \\delta] \\right]}^{-\\frac{1}{\\sigma}} $$\n",
    "- If $\\max_k \\left( | c^{(n+1)}(k) - c^{(n)}(k) | \\right) > \\varepsilon$, then go to iteration $n+1$, otherwise interrupt the loop."
   ]
  },
  {
   "cell_type": "code",
   "execution_count": 16,
   "metadata": {},
   "outputs": [
    {
     "name": "stdout",
     "output_type": "stream",
     "text": [
      "PFI algorithm took 62 iterations and 0.06 seconds.\n"
     ]
    }
   ],
   "source": [
    "n_iter = 0     # resetting iteration counter\n",
    "criterion = 1  # resetting criterion\n",
    "t0 = time()    # resetting starting time\n",
    "\n",
    "while criterion > tolerance:\n",
    "    n_iter += 1\n",
    "    K_opt = (K ** alpha - C0) + (1 - delta) * K\n",
    "    pc = np.polyfit(K, C0, 5)\n",
    "    Ctp1 = np.polyval(pc, K_opt)\n",
    "    opr = alpha * K_opt ** (alpha-1) + 1 - delta  # in RBC, this is (1 + r)\n",
    "    C1 = Ctp1 * (beta * opr) ** (-1 / gamma)\n",
    "    criterion = np.max(np.abs(C1 - C0))\n",
    "    C0[:] = C1\n",
    "\n",
    "t1 = time()\n",
    "print('PFI algorithm took {0:0d} iterations and {1:.2f} seconds.'.format(n_iter, t1 - t0))"
   ]
  },
  {
   "cell_type": "markdown",
   "metadata": {},
   "source": [
    "That just took a fraction of the time required for VFI!\n",
    "\n",
    "This is the case here because we actually never compute $V^{(n)}(k)$, and we just update the policy function.\n",
    "\n",
    "As you might have noticed, this code snippet kept the same parametrization of VFI above, including the same grid for the state space.\n",
    "Hence, any difference in time is just due to the algorithm.\n",
    "\n",
    "Again, let's plot the results to check that we obtained the right thing:"
   ]
  },
  {
   "cell_type": "code",
   "execution_count": 20,
   "metadata": {
    "scrolled": false
   },
   "outputs": [
    {
     "data": {
      "image/png": "[encoded data removed]",
      "text/plain": [
       "<matplotlib.figure.Figure at 0x7f4834714860>"
      ]
     },
     "metadata": {},
     "output_type": "display_data"
    }
   ],
   "source": [
    "fig, ax = plt.subplots(nrows=1, ncols=2, figsize=(8,5))\n",
    "\n",
    "ax[0].plot(K, K_opt, color='red', linewidth=2, zorder=2, label=r\"$k'(k)$\")\n",
    "ax[1].plot(K, C1, color='red', linewidth=2, zorder=2, label=r'$c(k)$')\n",
    "ax[0].plot(K, K, color='black', linewidth=1, linestyle='dashed', zorder=1)\n",
    "\n",
    "ax[0].set_title('Capital accumulation decision')\n",
    "ax[1].set_title('Consumption decision')\n",
    "\n",
    "for a in range(2):\n",
    "    ax[a].axvline(k_ss, color='black', linewidth=1, linestyle='dotted', zorder=1)\n",
    "    ax[a].legend()\n",
    "    ax[a].grid(alpha=0.3)\n",
    "    ax[a].set_xlabel(r'$k$')\n",
    "\n",
    "plt.tight_layout()"
   ]
  },
  {
   "cell_type": "markdown",
   "metadata": {},
   "source": [
    "Note one thing here: we miss the value function.\n",
    "Is this important? \n",
    "In most cases no, but if you want to carry out welfare analysis, you will need to compute $V(k)$.\n",
    "\n",
    "To be sure: you can always compute the value function after PFI, but it will not be the by-product of the algorithm per se."
   ]
  },
  {
   "cell_type": "markdown",
   "metadata": {},
   "source": [
    "## Direct Projection"
   ]
  },
  {
   "cell_type": "markdown",
   "metadata": {},
   "source": [
    "Sometimes, if your nonlinear model is simple enough, you can just feed it to an equation solver.\n",
    "\n",
    "Most software packages like SciPy, Matlab, Mathematica and so on include those equation solvers by default.\n",
    "\n",
    "However, this approach is _very_ sensitive to the initial condition, so that those equation solvers might be much more unstable than the previous methods.\n",
    "\n",
    "### How can we do it?\n",
    "\n",
    "This is simple: the module `scipy.optimize` contains a function called `fsolve`.\n",
    "Find the documentation [here](https://docs.scipy.org/doc/scipy/reference/generated/scipy.optimize.fsolve.html)."
   ]
  },
  {
   "cell_type": "code",
   "execution_count": 22,
   "metadata": {},
   "outputs": [],
   "source": [
    "from scipy.optimize import fsolve"
   ]
  },
  {
   "cell_type": "markdown",
   "metadata": {},
   "source": [
    "Start from an initial guess $c^{(0)}(k)$.\n",
    "Make sure this is good enough."
   ]
  },
  {
   "cell_type": "code",
   "execution_count": 39,
   "metadata": {},
   "outputs": [],
   "source": [
    "C0 = 0.4 + 0.35 * K - 0.02 * K**2"
   ]
  },
  {
   "cell_type": "markdown",
   "metadata": {},
   "source": [
    "Define a Python function that returns the error associated to the Euler equation."
   ]
  },
  {
   "cell_type": "code",
   "execution_count": 40,
   "metadata": {},
   "outputs": [],
   "source": [
    "def euler(C0, K, alpha, beta, gamma, delta):\n",
    "    k1 = K**alpha - C0 + (1-delta) * K\n",
    "    pc = np.polyfit(K, C0, 1)\n",
    "    Ctp1 = np.polyval(pc, k1)\n",
    "    opr = alpha * k1 ** (alpha-1) + 1 - delta\n",
    "    resid = C0 - Ctp1 * (beta * opr) ** (-1/gamma)\n",
    "    return resid"
   ]
  },
  {
   "cell_type": "markdown",
   "metadata": {},
   "source": [
    "This function compares the LHS and the RHS of the Euler equation and tells how much far apart they are.\n",
    "The idea is to make them equal.\n",
    "\n",
    "An equation solver takes an equation in form of a `function` handle and tries several values of the first argument (here, `C0`), until the equation is satisfied.\n",
    "The solver returns the value of the first argument that solves the equation."
   ]
  },
  {
   "cell_type": "code",
   "execution_count": 41,
   "metadata": {},
   "outputs": [
    {
     "name": "stdout",
     "output_type": "stream",
     "text": [
      "Direct projection took 1.69 seconds.\n"
     ]
    }
   ],
   "source": [
    "t0 = time()\n",
    "\n",
    "C1 = fsolve(euler, C0, args=(K, alpha, beta, gamma, delta))\n",
    "K_opt = K ** alpha - C1 + (1-delta) * K\n",
    "\n",
    "t1 = time()\n",
    "\n",
    "print('Direct projection took {:.2f} seconds.'.format(t1-t0))"
   ]
  },
  {
   "cell_type": "markdown",
   "metadata": {},
   "source": [
    "Let's see what we have from this solution method."
   ]
  },
  {
   "cell_type": "code",
   "execution_count": 42,
   "metadata": {},
   "outputs": [
    {
     "data": {
      "image/png": "[encoded data removed]",
      "text/plain": [
       "<matplotlib.figure.Figure at 0x7f48344ec438>"
      ]
     },
     "metadata": {},
     "output_type": "display_data"
    }
   ],
   "source": [
    "fig, ax = plt.subplots(nrows=1, ncols=2, figsize=(8, 5))\n",
    "\n",
    "ax[0].plot(K, K_opt, color='red', linewidth=2, zorder=2, label=r\"$k'(k)$\")\n",
    "ax[1].plot(K, C1, color='red',    linewidth=2, zorder=2, label=r'$c(k)$')\n",
    "ax[0].plot(K, K, color='black',   linewidth=1, linestyle='dashed', zorder=1)\n",
    "\n",
    "ax[0].set_title('Capital accumulation decision')\n",
    "ax[1].set_title('Consumption decision')\n",
    "\n",
    "for a in range(2):\n",
    "    ax[a].axvline(k_ss, color='black', linewidth=1, linestyle='dotted', zorder=1)\n",
    "    ax[a].legend()\n",
    "    ax[a].grid(alpha=0.3)\n",
    "    ax[a].set_xlabel(r'$k$')\n",
    "\n",
    "plt.tight_layout()"
   ]
  },
  {
   "cell_type": "markdown",
   "metadata": {},
   "source": [
    "This method works, but as we can see it is less perfect that the others.\n",
    "The capital accumulation decision misses the correct value for the steady state.\n",
    "Moreover, if you change the initial guess `C0`, you will see that the method might fail, or give different results (Economists call this a lack of robustness, Computer Scientists call this instability)."
   ]
  },
  {
   "cell_type": "code",
   "execution_count": null,
   "metadata": {},
   "outputs": [],
   "source": []
  }
 ],
 "metadata": {
  "kernelspec": {
   "display_name": "Python 3",
   "language": "python",
   "name": "python3"
  },
  "language_info": {
   "codemirror_mode": {
    "name": "ipython",
    "version": 3
   },
   "file_extension": ".py",
   "mimetype": "text/x-python",
   "name": "python",
   "nbconvert_exporter": "python",
   "pygments_lexer": "ipython3",
   "version": "3.6.6"
  }
 },
 "nbformat": 4,
 "nbformat_minor": 2
}
