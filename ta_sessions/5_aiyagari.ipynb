{
 "cells": [
  {
   "cell_type": "markdown",
   "metadata": {},
   "source": [
    "# [Aiyagari (1994)](https://doi.org/10.2307/2118417)\n",
    "\n",
    "In this TA session we take a look at the Aiyagari model."
   ]
  },
  {
   "cell_type": "code",
   "execution_count": null,
   "metadata": {},
   "outputs": [],
   "source": [
    "import numpy as np\n",
    "from scipy import linalg as la\n",
    "from scipy import interpolate as ip\n",
    "from matplotlib import pyplot as plt"
   ]
  },
  {
   "cell_type": "markdown",
   "metadata": {},
   "source": [
    "The Aiyagari model is composed of two blocks: a demand side with a unit measure of ex-ante identical households and a supply side with a representative firm.\n",
    "We start with the easiest block, which is the supply one.\n",
    "Consider a firm that rents aggregate capital $K$ and hires aggregate labor $L$ to produce the consumption good $Y$.\n",
    "At every period, the firm decides how much to produce given _constant_ prices $r$ and $w$:\n",
    "\\begin{align*}\n",
    "    \\max_{Y, K, L} &\\; Y - r K - w L \\\\\n",
    "    \\text{s.t.} &\\; Y = K^{\\alpha} L^{1-\\alpha}\n",
    "\\end{align*}\n",
    "Note that all variables (including prices) are assumed to be constant over time.\n",
    "The representative firm is assumed to operate in perfect competition (price-taking behavior).\n",
    "As a consequence, the first-order conditions are\n",
    "\\begin{align*}\n",
    "    r &= \\alpha K^{\\alpha-1} L^{1-\\alpha} \\\\\n",
    "    w &= (1-\\alpha) K^{\\alpha} L^{-\\alpha}.\n",
    "\\end{align*}\n",
    "\n",
    "The households decide how much to consume $c_t$ and how much capital $k_{t+1}$ to accumulate.\n",
    "Every households's labor endowment $l_t$ is exogenous and follows a Gaussian AR(1) process.\n",
    "They choose how much to consume and how much capital to accumulate:\n",
    "\\begin{align*}\n",
    "    \\max_{c_t, k_{t+1}} &\\; \\mathbf{E}_0 \\sum_{t=0}^{\\infty} \\beta^t \\dfrac{c_t^{1-\\gamma}}{1-\\gamma} \\\\\n",
    "    \\text{s.t.} &\\;\n",
    "        \\begin{cases}\n",
    "            c_t + k_{t+1} \\leq w l_t + (1 + r_t) k_t \\\\\n",
    "            k_{t+1} \\geq 0 \\\\\n",
    "            l_t = (1-\\rho) \\mu + \\rho l_{t-1} + \\varepsilon_t \\\\\n",
    "            \\varepsilon_t \\overset{iid}{\\sim} \\mathcal{N}(0, \\sigma^2) \\\\\n",
    "            k_0 \\text{ given}.\n",
    "        \\end{cases}\n",
    "\\end{align*}\n",
    "\n",
    "\n",
    "## Intuition and main results\n",
    "\n",
    "This paper connects to [Huggett (1993)](https://www.sciencedirect.com/science/article/pii/016518899390024M).\n",
    "Instead of trying to explain the Equity Premium Puzzle, Aiyagari tries to dig deeper on the excess consumption smoothness observed in the data.\n",
    "One explanation is about precautionary savings, which was shown to arise because of prudence.\n",
    "Aiyagari's paper contributes to the literature by showing that precautionary savings emerge in the aggregate because of financially constrained households.\n",
    "\n",
    "The main results are the following.\n",
    "It turns out that precautionary savings cannot explain the bulk of aggregate savings observed in the data.\n",
    "Prudence (related to the third derivative of utility function) is not always a necessary condition for precautionary savings: borrowing constraints might be enough.\n",
    "Borrowing constraints are a better explanation for precautionary savings because they abstract from preferences: this means that a policy-maker might do something to affect individuals' behavior.\n",
    "Finally, this paper is among the first ones to numerically solve for the general equilibrium of a model with idiosyncratic uncertainty.\n",
    "\n",
    "\n",
    "## Replicating the paper\n",
    "\n",
    "The way we replicate Aiyagari is not fundamentally different from Huggett's paper.\n",
    "The main steps are the same: we start with a guess for a sufficient statistics of the equilibrium (a price in Huggett, an aggregate allocation in Aiyagari), we solve for the households' problem and we verify that the policy functions together with the endogenous distribution of agents square with market clearing.\n",
    "If the net supply function is not zero, then we update the proposal for the equilibrium.\n",
    "\n",
    "More formally, the algorithm is the following:\n",
    "\n",
    "- Enter iteration $j$ with a guess for aggregate capital $K^{(j)}$:\n",
    "    1. From the firm's FOC, compute prices $r$ and $w$\n",
    "    1. Solve the households' problem for the policy functions $g^{(j)}(k, l)$\n",
    "    1. Compute the stationary endogenous distribution $\\lambda^{(j)}(k, l)$\n",
    "    1. Compute the implied aggregate capital holdings\n",
    "       $$\n",
    "           K^{(*)} = \\sum_k \\sum_l g^{(k)}(k,l) \\cdot \\lambda^{(j)}(k,l)\n",
    "       $$\n",
    "    1. Obtain a new proposal for aggregate capital $K^{(j+1)} = \\kappa K^{(j)} + (1-\\kappa) K^{(*)}$ with some dampening parameter $\\kappa \\in (0, 1)$\n",
    "- If $|K^{(j+1)} - K^{(j)}|$ is close to zero, terminate the loop, otherwise enter iteration $j+1$.\n",
    "\n",
    "Numerically speaking, it is the case that if $\\kappa$ is close to zero, then the algorithm will explore a large candidate interval for $K$, taking long jumps between a proposal and the next one.\n",
    "The goal of $\\kappa$ is to slow down the updating, which in practice amounts to speeding up the convergence time."
   ]
  },
  {
   "cell_type": "markdown",
   "metadata": {},
   "source": [
    "### Helper functions (wrappers)\n",
    "\n",
    "Before jumping to the actual replication, it makes sense to define certain functions that will simplify the code below.\n",
    "This is generally good practice when coding our own applications, because it allows us to clearly identify problems, should there be any.\n",
    "Moreover, working on small functions also increases the chances to re-use them later on.\n",
    "\n",
    "Here we define the following functions:\n",
    "\n",
    "- `rouwenhorst`: to discretize an AR(1) process\n",
    "- `cash_in_hand`: takes wage, labor endowment, capital holdings and the interest rate to compute how much liquidity a household has\n",
    "- `aggregate_kl`: takes the distribution of households $\\lambda(k,l)$ and the grid $(k,l)$ to compute aggregate capital $K$ and labor $L$\n",
    "- `factor_prices`: takes aggregate capital $K$ and aggregate labor $L$ and returns the interest rate $r$ and the wage $w$ using the firm's FOC\n",
    "- `euler`: takes next period's consumption $c(k')$ and the RHS of the Euler equation and returns current period's consumption $c(k)$, considering whether the household is credit-constrained or not"
   ]
  },
  {
   "cell_type": "code",
   "execution_count": null,
   "metadata": {},
   "outputs": [],
   "source": [
    "def rouwenhorst(N, mu, rho, sigma):\n",
    "\n",
    "    def compute_P(p, N):\n",
    "        if N == 2:\n",
    "            P = np.array([[p, 1-p],\n",
    "                          [1-p, p]])\n",
    "        else:\n",
    "            Q = compute_P(p, N-1)\n",
    "            A = np.zeros((N, N))\n",
    "            B = np.zeros((N, N))\n",
    "            A[:N-1, :N-1] += Q\n",
    "            A[1:N, 1:N] += Q\n",
    "            B[:N-1, 1:N] += Q\n",
    "            B[1:N, :N-1] += Q\n",
    "            P = p * A + (1 - p) * B\n",
    "            P[1:-1, :] /= 2\n",
    "        return P\n",
    "\n",
    "    p = (1 + rho) / 2\n",
    "    P = compute_P(p, N)\n",
    "    f = np.sqrt(N-1) * (sigma / np.sqrt(1-rho**2))\n",
    "    s = np.linspace(-f, f, N) + mu\n",
    "    return s, P"
   ]
  },
  {
   "cell_type": "code",
   "execution_count": null,
   "metadata": {},
   "outputs": [],
   "source": [
    "def factor_prices(K, L, param):\n",
    "    a = param['alpha']\n",
    "    r = a * (K/L) ** (a-1)\n",
    "    w = (1 - a) * (K/L) ** (a)\n",
    "    return r, w"
   ]
  },
  {
   "cell_type": "code",
   "execution_count": null,
   "metadata": {},
   "outputs": [],
   "source": [
    "def aggregate_kl(states, dist, param):\n",
    "    K = dist @ states # wrong\n",
    "    L = dist @ states # wrong\n",
    "    return K, L"
   ]
  },
  {
   "cell_type": "code",
   "execution_count": null,
   "metadata": {},
   "outputs": [],
   "source": [
    "def cash_in_hand(k, l, r, w):\n",
    "    cash = w * l + (1 + r) * k\n",
    "    return cash"
   ]
  },
  {
   "cell_type": "markdown",
   "metadata": {},
   "source": [
    "### Parametrization and grids\n",
    "\n",
    "We start by setting up the numerical framework.\n",
    "This consists of creating a grid for capital holdings and setting parameter values (including the grid for exogenous labor endowments)."
   ]
  },
  {
   "cell_type": "code",
   "execution_count": null,
   "metadata": {},
   "outputs": [],
   "source": [
    "param = {\n",
    "    'alpha': 0.5,\n",
    "    'beta': 0.96,\n",
    "    'gamma': 1.0,\n",
    "    'phi': 1.0,\n",
    "    'mu': 0.0,\n",
    "    'rho': 0.53,\n",
    "    'sigma': 0.296,\n",
    "    'kMin': 0.0,\n",
    "    'kMax': 40.0,\n",
    "    'kNum': 100,\n",
    "    'lNum': 9,\n",
    "    'kappa': 0.2\n",
    "}\n",
    "\n",
    "kMin = 0  # also the borrowing constraint\n",
    "kMax = 40\n",
    "kNum = 100\n",
    "k = np.linspace(kMin, kMax, kNum)\n",
    "lLog = rouwenhorst(param['lNum'], param['mu'], param['rho'], param['sigma'])\n",
    "l = np.exp(lLog)\n",
    "\n",
    "kk, ll = np.meshgrid(k, l)"
   ]
  },
  {
   "cell_type": "markdown",
   "metadata": {},
   "source": [
    "Next, we proceed to define a function that implements policy function iteration.\n",
    "We define this as a function of prices $r$ and $w$.\n",
    "We do so because we need to solve the households' problem for various proposal values of prices."
   ]
  },
  {
   "cell_type": "code",
   "execution_count": null,
   "metadata": {},
   "outputs": [],
   "source": [
    "def solve_pfi(r, w, param, tol=1e-6):\n",
    "    cash = cash_in_hand(r, w, state)\n",
    "    diff = 1.0\n",
    "    while diff > tol:\n",
    "        c0 = euler(cash, param)\n",
    "        diff = la.norm(c1 - c0)\n",
    "        c1 = param['kappa'] * cs + (1 - param['kappa']) * c0"
   ]
  }
 ],
 "metadata": {
  "kernelspec": {
   "display_name": "Python 3",
   "language": "python",
   "name": "python3"
  },
  "language_info": {
   "codemirror_mode": {
    "name": "ipython",
    "version": 3
   },
   "file_extension": ".py",
   "mimetype": "text/x-python",
   "name": "python",
   "nbconvert_exporter": "python",
   "pygments_lexer": "ipython3",
   "version": "3.6.7"
  }
 },
 "nbformat": 4,
 "nbformat_minor": 2
}
