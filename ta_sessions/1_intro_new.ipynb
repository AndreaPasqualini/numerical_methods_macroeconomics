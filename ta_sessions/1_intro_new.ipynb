{
 "cells": [
  {
   "cell_type": "markdown",
   "metadata": {},
   "source": [
    "# Introduction to Numerical Methods in Macroeconomics and Python"
   ]
  },
  {
   "cell_type": "markdown",
   "metadata": {},
   "source": [
    "**Table of Contents:**\n",
    "\n",
    "- [Numerical Methods: what are they and why do we need them](#Numerical-Methods:-what-are-they-and-why-do-we-need-them)\n",
    "    - [Perturbation methods](#Perturbation-methods)\n",
    "    - [Projection methods](#Projection-methods)\n",
    "- [Python](#Python)\n",
    "    - [Introduction](#Introduction)\n",
    "    - [The need for modules](#The-need-for-modules)\n",
    "    - [Numpy](#Numpy)\n",
    "    - [Scipy](#Scipy)\n",
    "    - [Matplotlib](#Matplotlib)\n",
    "- [Other external resources](#Other-external-resources)"
   ]
  },
  {
   "cell_type": "markdown",
   "metadata": {},
   "source": [
    "## Numerical Methods: what are they and why do we need them"
   ]
  },
  {
   "cell_type": "markdown",
   "metadata": {},
   "source": [
    "In Macroeconomics we are often asked to solve for the equilibrium of a model.\n",
    "A model consists of a system of (often nonlinear) equations in some unknowns.\n",
    "Because of nonlinearities, it is often difficult or impossible to obtain closed-form solutions.\n",
    "We do not want to keep talking about models we can solve analytically, because that would be quite a restricted set of models.\n",
    "Therefore, we need numerical methods to explore the solutions to complicated models.\n",
    "\n",
    "These TA sessions focus on exploring some popular numerical methods that are useful in Macroeconomics.\n",
    "We will focus on discrete-time models, as these present non-trivial challenges relative to models in continuous-time.\n",
    "\n",
    "Broadly speaking, we can categorize solutions methods in two families:\n",
    "\n",
    "- perturbation methods; and\n",
    "- projection methods."
   ]
  },
  {
   "cell_type": "markdown",
   "metadata": {},
   "source": [
    "### Perturbation methods"
   ]
  },
  {
   "cell_type": "markdown",
   "metadata": {},
   "source": [
    "For nonlinear models that feature smooth functions, we can get fast and efficient solutions by approximating the system of equations around some specific point.\n",
    "We can write any rational-expectations model in the following way:\n",
    "$$\n",
    "f \\left( X_{t-1}, X_{t}, X_{t+1} \\right) = 0,\n",
    "$$\n",
    "where I assumed that the model is deterministic.\n",
    "Stochastic models with rational expectations are similarly written (notably with an expectation operator), and are similarly treated.\n",
    "The solution to such a system of equations (assuming it exists and it is unique) is written as\n",
    "$$\n",
    "X_{t+1} = g \\left( X_{t}, X_{t-1} \\right),\n",
    "$$\n",
    "where $g(\\cdot)$ is a set of policy functions.\n",
    "\n",
    "What we can do with such a system is to take a Taylor expansion of $f(\\cdot)$ around a point.\n",
    "It is common to consider the first-order approximation around the steady state of the model (denote it with $\\hat{f}$).\n",
    "Instead of solving $f=0$, we can solve $\\hat{f}=0$.\n",
    "As this new system is linear, we know we can easily solve it: the solution will be a linear policy function $\\hat{g}$ that will hold only in an arbitrary (small) neighborhood of the steady state.\n",
    "\n",
    "For example, we know how to analytically solve the textbook version of the RBC model with full capital depreciation (i.e., $\\delta=1$).\n",
    "If $\\delta \\neq 1$, then we need to use numerical methods.\n",
    "\n",
    "In this course, we will not deal with perturbation methods.\n",
    "We will go hands-on with them in the next Macro course.\n",
    "\n",
    "If we introduce discontinuities or non-differentiable equations in the model (e.g., borrowing constraints or discrete control variables), we cannot reliably take the Taylor expansion of a model.\n",
    "This justifies the interest in projection methods to solve models."
   ]
  },
  {
   "cell_type": "markdown",
   "metadata": {},
   "source": [
    "### Projection methods"
   ]
  },
  {
   "cell_type": "markdown",
   "metadata": {},
   "source": [
    "Projection methods try to force their way through a solution, mostly through a trial-and-error procedure.\n",
    "The intuition is very similar to the [Newton algorithm](https://en.wikipedia.org/wiki/Newton%27s_method) to find roots of a function: you start with a proposal for the solution, you check if it works.\n",
    "If it does not, then you use some (educated) criterion to create a new proposal.\n",
    "You repeat the procedure until you arrive to the solution.\n",
    "\n",
    "The difficulty in the case of Macroeconomics is that the proposals we are dealing with are not points in a space of scalars, but are points in a space of functions.\n",
    "This might not be clear at first, as we are going to work with numerical representations of functions.\n",
    "\n",
    "The easiest application of the projection method is probably the Aiyagari (1994) model.\n",
    "In such model, we should find a capital-remuneration rate $r_t$ such that all markets (goods, labor, capital) are in equilibrium.\n",
    "We will see the details in a dedicated TA session, but here is the gist of it.\n",
    "We enter the $n$-th iteration with a proposal $r_{t}^{(n)}$.\n",
    "We check if it clears the capital market.\n",
    "If it does not because there is excess demand, we know we should have $r_{t}^{(n+1)} > r_{t}^{(n)}$.\n",
    "If it does not because there is excess supply, we know we should have $r_{t}^{(n+1)} < r_{t}^{(n)}$.\n",
    "\n",
    "A common critique to projection methods is the following: it is often the case that we cannot verify the solution we reach is unique (e.g., sunspots).\n",
    "So it might happen that you have models where the procedure never converges anywhere, or where the procedure converges to \"weird\" solutions.\n",
    "A way to deal with this is to carry out extensive (and sometimes painful) sensitivity analysis."
   ]
  },
  {
   "cell_type": "markdown",
   "metadata": {},
   "source": [
    "## Python"
   ]
  },
  {
   "cell_type": "markdown",
   "metadata": {},
   "source": [
    "### Introduction"
   ]
  },
  {
   "cell_type": "markdown",
   "metadata": {},
   "source": [
    "Python is a programming language.\n",
    "It is not a mathematics-oriented language in and of itself.\n",
    "It is a general-purpose language, meaning we can do pretty much what we want with it.\n",
    "Here is a list of what humanity did with Python:\n",
    "\n",
    "- Dropbox (Source: [Dropbox Blog](https://blogs.dropbox.com/tech/2018/09/how-we-rolled-out-one-of-the-largest-python-3-migrations-ever/))\n",
    "- Image editing ([The GNU Image Manipulation Program](https://www.gimp.org/))\n",
    "- Vector graphics ([Inkscape](https://inkscape.org/))\n",
    "- 3D modeling ([Blender](https://www.blender.org/))\n",
    "- Desktop publishing ([Scribus](https://www.scribus.net/))\n",
    "- Web pages ([Reddit](https://www.reddit.com/), Source: [Reddit Blog](https://redditblog.com/2005/12/05/on-lisp/))\n",
    "\n",
    "We could spend ages trying to understand all the details on how Python works, and it is very easy for me to get lost in technical explanations.\n",
    "Instead, let's have a look at the very simple things Python allows us to do."
   ]
  },
  {
   "cell_type": "code",
   "execution_count": 2,
   "metadata": {},
   "outputs": [
    {
     "data": {
      "text/plain": [
       "-4"
      ]
     },
     "execution_count": 2,
     "metadata": {},
     "output_type": "execute_result"
    }
   ],
   "source": [
    "2 + 1 - 7"
   ]
  },
  {
   "cell_type": "code",
   "execution_count": 3,
   "metadata": {},
   "outputs": [
    {
     "data": {
      "text/plain": [
       "1.5"
      ]
     },
     "execution_count": 3,
     "metadata": {},
     "output_type": "execute_result"
    }
   ],
   "source": [
    "3 * 2 / 4"
   ]
  },
  {
   "cell_type": "code",
   "execution_count": 4,
   "metadata": {},
   "outputs": [
    {
     "name": "stdout",
     "output_type": "stream",
     "text": [
      "Hello world!\n"
     ]
    }
   ],
   "source": [
    "print('Hello world!')"
   ]
  },
  {
   "cell_type": "code",
   "execution_count": 5,
   "metadata": {},
   "outputs": [
    {
     "name": "stdout",
     "output_type": "stream",
     "text": [
      "'This' is a string\n"
     ]
    }
   ],
   "source": [
    "print(\"'This' is a string\")"
   ]
  },
  {
   "cell_type": "code",
   "execution_count": 6,
   "metadata": {},
   "outputs": [
    {
     "name": "stdout",
     "output_type": "stream",
     "text": [
      "The Answer to the Ultimate Question of Life, The Universe, and Everything is 6 * 9 = 42 (although 6 * 9 = 54)\n"
     ]
    }
   ],
   "source": [
    "print('The Answer to the Ultimate Question of Life, The Universe, and Everything is 6 * 9 = 42 (although 6 * 9 = {})'.format(6*9))"
   ]
  },
  {
   "cell_type": "code",
   "execution_count": 7,
   "metadata": {},
   "outputs": [
    {
     "name": "stdout",
     "output_type": "stream",
     "text": [
      "This ---> ['a', 'b', 'c']\n",
      "is a list\n"
     ]
    }
   ],
   "source": [
    "print('This ---> {}\\nis a list'.format(['a', 'b', 'c']))"
   ]
  },
  {
   "cell_type": "code",
   "execution_count": 10,
   "metadata": {},
   "outputs": [
    {
     "name": "stdout",
     "output_type": "stream",
     "text": [
      "This ---> ('a', 'b', 'c')\n",
      "is a tuple\n"
     ]
    }
   ],
   "source": [
    "print('This ---> {}\\nis a tuple'.format(('a', 'b', 'c')))"
   ]
  },
  {
   "cell_type": "code",
   "execution_count": 12,
   "metadata": {},
   "outputs": [
    {
     "name": "stdout",
     "output_type": "stream",
     "text": [
      "This ---> {'a': 1, 'b': 2, 'c': 3}\n",
      "is a dictionary\n"
     ]
    }
   ],
   "source": [
    "print('This ---> {}\\nis a dictionary'.format({'a': 1, 'b': 2, 'c': 3}))"
   ]
  },
  {
   "cell_type": "markdown",
   "metadata": {},
   "source": [
    "### The need for modules"
   ]
  },
  {
   "cell_type": "markdown",
   "metadata": {},
   "source": [
    "    incomplete"
   ]
  },
  {
   "cell_type": "markdown",
   "metadata": {},
   "source": [
    "### Numpy"
   ]
  },
  {
   "cell_type": "markdown",
   "metadata": {},
   "source": [
    "    incomplete"
   ]
  },
  {
   "cell_type": "markdown",
   "metadata": {},
   "source": [
    "### Scipy"
   ]
  },
  {
   "cell_type": "markdown",
   "metadata": {},
   "source": [
    "    incomplete"
   ]
  },
  {
   "cell_type": "markdown",
   "metadata": {},
   "source": [
    "### Matplotlib"
   ]
  },
  {
   "cell_type": "markdown",
   "metadata": {},
   "source": [
    "    incomplete"
   ]
  }
 ],
 "metadata": {
  "kernelspec": {
   "display_name": "Python 3",
   "language": "python",
   "name": "python3"
  },
  "language_info": {
   "codemirror_mode": {
    "name": "ipython",
    "version": 3
   },
   "file_extension": ".py",
   "mimetype": "text/x-python",
   "name": "python",
   "nbconvert_exporter": "python",
   "pygments_lexer": "ipython3",
   "version": "3.6.8"
  }
 },
 "nbformat": 4,
 "nbformat_minor": 2
}
