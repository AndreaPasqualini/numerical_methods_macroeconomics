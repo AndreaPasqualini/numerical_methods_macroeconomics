{
 "cells": [
  {
   "cell_type": "markdown",
   "metadata": {},
   "source": [
    "# Setting up Python for Data Science (and Macro)"
   ]
  },
  {
   "cell_type": "markdown",
   "metadata": {},
   "source": [
    "These are instructions you might want to follow if you want to set up your local machine (e.g., your laptop) to run Python.\n",
    "I will also include details about the main packages we need.\n",
    "\n",
    "The following instructions hold for Windows, Mac OS and Linux."
   ]
  },
  {
   "cell_type": "markdown",
   "metadata": {},
   "source": [
    "## Installing Python through Anaconda"
   ]
  },
  {
   "cell_type": "markdown",
   "metadata": {},
   "source": [
    "Python alone cannot do much.\n",
    "It's a bit like installing a new OS on a computer: can you do stuff with it?\n",
    "Yes, but not much: you'll need additional applications.\n",
    "With Python, we need [modules](https://docs.python.org/3/tutorial/modules.html).\n",
    "\n",
    "As [it is not easy to manage modules](https://en.wikipedia.org/wiki/Dependency_hell) manually, we're going to need a [package manager](https://en.wikipedia.org/wiki/Package_manager).\n",
    "The one we choose for this setup is [Anaconda](https://www.anaconda.com/), which is popular among people who need to do numerical and stastical work (some prefer calling it data science).\n",
    "\n",
    "Go to https://www.anaconda.com/download/ and download the file that is relevant for your OS.\n",
    "You should choose the Python 3.x version, as the 2.x is [legacy (read: old) software](https://en.wikipedia.org/wiki/Legacy_system) that is there for compatibility (i.e., targeting audiences different from us).\n",
    "You can find instructions on how to install Anaconda for [Windows](https://docs.anaconda.com/anaconda/install/windows/), [macOS](https://docs.anaconda.com/anaconda/install/mac-os/) and [Linux](https://docs.anaconda.com/anaconda/install/linux/).\n",
    "\n",
    "As the typical Anaconda installation includes all the packages we'll need, **we're done**.\n",
    "To confirm this is the case, search for [Spyder](https://www.spyder-ide.org/) among your applications and launch it: this will be our [IDE](https://en.wikipedia.org/wiki/Integrated_development_environment) for the rest of the course.\n",
    "\n",
    "If one day you want to get rid of Anaconda, you can just follow the [instructions to uninstall](https://docs.anaconda.com/anaconda/install/uninstall/) it."
   ]
  },
  {
   "cell_type": "markdown",
   "metadata": {},
   "source": [
    "## [Pro] A leaner way: Miniconda"
   ]
  },
  {
   "cell_type": "markdown",
   "metadata": {},
   "source": [
    "The magic behind Anaconda is called `conda`. \n",
    "It is a small [CLI](https://en.wikipedia.org/wiki/Command-line_interface) program that manages all the modules and makes sure they work together (it also manages [virtual environments](https://docs.python.org/3/library/venv.html), but that's a feature we're not going to use).\n",
    "If you care about your local machine being lean and avoiding unnecessary software, then you might want to check it out.\n",
    "\n",
    "You can find the appropriate installer at https://conda.io/miniconda.html.\n",
    "Again, you should choose Python 3.x instead of 2.x.\n",
    "\n",
    "For instructions on how to install (as well as uninstall, if ever interested), refer to the official documentation for [Windows](https://conda.io/docs/user-guide/install/windows.html), [macOS](https://conda.io/docs/user-guide/install/macos.html) and [Linux](https://conda.io/docs/user-guide/install/linux.html).\n",
    "Once you installed the conda system, you will access it through a terminal (aka, command prompt or PowerShell in Windows).\n",
    "\n",
    "Using the syntax `conda install pkg1 pkg2 pkg3 ...`, you can install what we need.\n",
    "We are going to use the following packages for the course:\n",
    "\n",
    "- `numpy` (N-dimensional numeric arrays);\n",
    "- `scipy` (mathematical and statistical recipes);\n",
    "- `matplotlib` (plotting); and\n",
    "- `spyder` (IDE).\n",
    "\n",
    "Additionally, you might be interested in the following packages\n",
    "\n",
    "- `jupyter` (the web-based app to produce this very document);\n",
    "- `pandas` (Stata-like features to manage real-world data);\n",
    "- `sympy` (symbolic mathematics);\n",
    "- `numba` (LLVM interface and parallel computing); and\n",
    "- `xlrd` (interface to Excel files).\n",
    "\n",
    "Regardless of your choice, `conda` will pull also in other necessary dependencies.\n",
    "\n",
    "To understand the difference between Anaconda and Miniconda, you can look at the list of packages included in Anaconda (entirely omitted in Miniconda) for [Windows](https://docs.anaconda.com/anaconda/packages/py3.7_win-64/), [macOS](https://docs.anaconda.com/anaconda/packages/py3.7_osx-64/) and [Linux](https://docs.anaconda.com/anaconda/packages/py3.7_linux-64/)."
   ]
  },
  {
   "cell_type": "markdown",
   "metadata": {},
   "source": [
    "## [Pro] Other useful tools"
   ]
  },
  {
   "cell_type": "markdown",
   "metadata": {},
   "source": [
    "If you think you'll often deal with programming, you might want to have a look at the following great software:\n",
    "\n",
    "- [Sublime Text](https://www.sublimetext.com/) (an extensible, lean text editor for any programming language);\n",
    "- [Visual Studio Code](https://code.visualstudio.com/) (an extensible text editor with IDE-like features for the more popular programming languages);\n",
    "- [JetBrains PyCharm](https://www.jetbrains.com/pycharm/) (a full-fledged Python IDE, with all you need to develop _anything_ in Python);\n",
    "- [Git](https://git-scm.com/) (a versioning system for source code management; free hosting at [GitHub](https://github.com/), [BitBucket](https://bitbucket.org/) or [GitLab](https://about.gitlab.com/));\n",
    "- [SQLite Browser](https://sqlitebrowser.org/) (a [GUI](https://en.wikipedia.org/wiki/Graphical_user_interface) for exploring SQL databases)."
   ]
  }
 ],
 "metadata": {
  "kernelspec": {
   "display_name": "Python 3",
   "language": "python",
   "name": "python3"
  },
  "language_info": {
   "codemirror_mode": {
    "name": "ipython",
    "version": 3
   },
   "file_extension": ".py",
   "mimetype": "text/x-python",
   "name": "python",
   "nbconvert_exporter": "python",
   "pygments_lexer": "ipython3",
   "version": "3.6.7"
  }
 },
 "nbformat": 4,
 "nbformat_minor": 2
}
