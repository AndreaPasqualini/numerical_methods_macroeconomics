{
 "cells": [
  {
   "cell_type": "markdown",
   "id": "distributed-toolbox",
   "metadata": {},
   "source": [
    "# Web Scraping"
   ]
  },
  {
   "cell_type": "code",
   "execution_count": null,
   "id": "eight-baseball",
   "metadata": {},
   "outputs": [],
   "source": [
    "from time import time\n",
    "import pandas as pd\n",
    "import requests                 # HTTP programming\n",
    "from bs4 import BeautifulSoup   # HTML parsing\n",
    "from selenium import webdriver  # Browser automation\n",
    "from selenium.common.exceptions import NoSuchElementException"
   ]
  },
  {
   "cell_type": "code",
   "execution_count": null,
   "id": "incoming-lodge",
   "metadata": {},
   "outputs": [],
   "source": [
    "latest_xkcd_comic = 2436\n",
    "oldest_xkcd_comic = 2350"
   ]
  },
  {
   "cell_type": "markdown",
   "id": "lucky-corporation",
   "metadata": {},
   "source": [
    "## HTTP programming"
   ]
  },
  {
   "cell_type": "code",
   "execution_count": null,
   "id": "revolutionary-tissue",
   "metadata": {},
   "outputs": [],
   "source": [
    "class xkcdComicJson:\n",
    "    \"\"\"\n",
    "    Uses the JSON interface at https://xkcd.com/ for retrieving information about a single xkcd comic.\n",
    "    \"\"\"\n",
    "\n",
    "    def __init__(self, comic_no):\n",
    "        pass\n",
    "        \n",
    "    def save_img_to_disk(self, directory='./'):\n",
    "        response = requests.get(self.img_url)\n",
    "        response.raise_for_status()\n",
    "        if directory[-1] != '/':\n",
    "            directory += '/'\n",
    "        with open(directory + f'{self.number}-{self.img_name}', mode='wb') as f:\n",
    "            f.write(response.content)"
   ]
  },
  {
   "cell_type": "code",
   "execution_count": null,
   "id": "animated-viking",
   "metadata": {},
   "outputs": [],
   "source": [
    "df_json_rows = []\n",
    "t0 = time()\n",
    "for no in range(oldest_xkcd_comic, latest_xkcd_comic+1):\n",
    "    comic = xkcdComicJson(no)\n",
    "    df_json_rows.append(comic.json)\n",
    "    # comic.save_img_to_disk()\n",
    "t1 = time()\n",
    "time_json = t1 - t0\n",
    "df_json = pd.DataFrame(df_json_rows)\n",
    "print(\"Data download completed in {:.3f} seconds.\".format(time_json))"
   ]
  },
  {
   "cell_type": "markdown",
   "id": "vietnamese-amplifier",
   "metadata": {},
   "source": [
    "<sup>We never grow a `pandas.DataFrame` iteratively, row by row. An accurate and detailed account on the reason is found [here](https://stackoverflow.com/a/56746204).</sup>"
   ]
  },
  {
   "cell_type": "code",
   "execution_count": null,
   "id": "organic-necklace",
   "metadata": {},
   "outputs": [],
   "source": [
    "df_json.tail()"
   ]
  },
  {
   "cell_type": "markdown",
   "id": "cheap-institution",
   "metadata": {},
   "source": [
    "## HTML parsing"
   ]
  },
  {
   "cell_type": "code",
   "execution_count": null,
   "id": "funky-warrant",
   "metadata": {},
   "outputs": [],
   "source": [
    "class xkcdComicSoup:\n",
    "    \"\"\"\n",
    "    Uses Beautiful Soup to parse the HTML page for a given comic.\n",
    "    \"\"\"\n",
    "    \n",
    "    def __init__(self, comic_no):\n",
    "        pass\n",
    "    \n",
    "    def save_img_to_disk(self, directory='./'):\n",
    "        if directory[-1] != '/':\n",
    "            directory += '/'\n",
    "        with open(directory + f'{self.number}-{self.img_name}', mode='wb') as f:\n",
    "            f.write(self.img_response.content)"
   ]
  },
  {
   "cell_type": "code",
   "execution_count": null,
   "id": "rental-printing",
   "metadata": {},
   "outputs": [],
   "source": [
    "df_soup_rows = []\n",
    "t0 = time()\n",
    "for no in range(oldest_xkcd_comic, latest_xkcd_comic+1):\n",
    "    comic = xkcdComicSoup(no)\n",
    "    row = {\n",
    "        'number':   comic.number,\n",
    "        'date':     comic.date,\n",
    "        'title':    comic.title,\n",
    "        'caption':  comic.caption,\n",
    "        'img_name': comic.img_name,\n",
    "        'img':      comic.img_url\n",
    "    }\n",
    "    df_soup_rows.append(row)\n",
    "    # comic.save_img_to_disk()\n",
    "t1 = time()\n",
    "time_soup = t1 - t0\n",
    "df_soup = pd.DataFrame(df_soup_rows)\n",
    "print(\"Data download completed in {:.3f} seconds.\".format(time_soup))"
   ]
  },
  {
   "cell_type": "code",
   "execution_count": null,
   "id": "dirty-dating",
   "metadata": {},
   "outputs": [],
   "source": [
    "df_soup.tail()"
   ]
  },
  {
   "cell_type": "markdown",
   "id": "trying-captain",
   "metadata": {},
   "source": [
    "## Browser Automation"
   ]
  },
  {
   "cell_type": "code",
   "execution_count": null,
   "id": "public-roommate",
   "metadata": {},
   "outputs": [],
   "source": [
    "browser = webdriver.Firefox(executable_path='C:/Users/Andrea/Documents/geckodriver.exe')"
   ]
  },
  {
   "cell_type": "code",
   "execution_count": null,
   "id": "above-liver",
   "metadata": {},
   "outputs": [],
   "source": [
    "df_dom_rows = []\n",
    "t0 = time()\n",
    "browser.get('https://xkcd.com')  # point the browser to the homepage\n",
    "number = 3000\n",
    "\n",
    "while number > oldest_xkcd_comic:\n",
    "    # Find the number of the comic\n",
    "    pass\n",
    "    \n",
    "    # Find the title of the comic\n",
    "    pass\n",
    "    \n",
    "    # Find the caption of the comic\n",
    "    pass\n",
    "    \n",
    "    # Find the URL of the comic image\n",
    "    pass\n",
    "    \n",
    "    # Find the name of the PNG file\n",
    "    pass\n",
    "    \n",
    "    # Collect information for dataset\n",
    "    row = {\n",
    "        'number': number,\n",
    "        'title': title,\n",
    "        'caption': caption,\n",
    "        'img_name': img_name,\n",
    "        'img': img_url\n",
    "    }\n",
    "    \n",
    "    # Append information to list\n",
    "    df_dom_rows.append(row)\n",
    "    \n",
    "    # Go to the previous comic\n",
    "    pass\n",
    "    \n",
    "browser.quit()  # close the automated browser window\n",
    "t1 = time()\n",
    "time_dom = t1-t0\n",
    "print(\"Data download completed in {:.3f} seconds.\".format(time_dom))"
   ]
  },
  {
   "cell_type": "code",
   "execution_count": null,
   "id": "common-gravity",
   "metadata": {},
   "outputs": [],
   "source": [
    "df_dom = pd.DataFrame(df_dom_rows)\n",
    "df_dom.head()"
   ]
  },
  {
   "cell_type": "code",
   "execution_count": null,
   "id": "understood-living",
   "metadata": {},
   "outputs": [],
   "source": [
    "print('Comics retrieved: {:0d}.'.format(latest_xkcd_comic - oldest_xkcd_comic))\n",
    "print('HTTP programming took   {:.3f} seconds.'.format(time_json))\n",
    "print('HTML parsing took       {:.3f} seconds.'.format(time_soup))\n",
    "print('Browser automation took {:.3f} seconds.'.format(time_dom))"
   ]
  }
 ],
 "metadata": {
  "kernelspec": {
   "display_name": "Python 3",
   "language": "python",
   "name": "python3"
  },
  "language_info": {
   "codemirror_mode": {
    "name": "ipython",
    "version": 3
   },
   "file_extension": ".py",
   "mimetype": "text/x-python",
   "name": "python",
   "nbconvert_exporter": "python",
   "pygments_lexer": "ipython3",
   "version": "3.8.8"
  }
 },
 "nbformat": 4,
 "nbformat_minor": 5
}
