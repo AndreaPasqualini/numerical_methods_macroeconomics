{
 "cells": [
  {
   "cell_type": "markdown",
   "metadata": {},
   "source": [
    "# Script for Class #3"
   ]
  },
  {
   "cell_type": "code",
   "execution_count": null,
   "metadata": {},
   "outputs": [],
   "source": [
    "import numpy as np\n",
    "from scipy import linalg as la\n",
    "from scipy import stats as st\n",
    "from matplotlib import pyplot as plt\n",
    "from time import time\n",
    "\n",
    "from IPython.display import set_matplotlib_formats\n",
    "%matplotlib inline\n",
    "set_matplotlib_formats('svg')\n",
    "plt.rcParams['figure.figsize'] = [10, 5]"
   ]
  },
  {
   "cell_type": "markdown",
   "metadata": {},
   "source": [
    "### Tauchen (1986)"
   ]
  },
  {
   "cell_type": "code",
   "execution_count": null,
   "metadata": {},
   "outputs": [],
   "source": [
    "def tauchen(n, m, mu, rho, sigma):\n",
    "    pass"
   ]
  },
  {
   "cell_type": "markdown",
   "metadata": {},
   "source": [
    "### Tauchen and Hussey (1991)"
   ]
  },
  {
   "cell_type": "code",
   "execution_count": null,
   "metadata": {},
   "outputs": [],
   "source": [
    "def tauchussey(n, mu, rho, sigma):\n",
    "    pass"
   ]
  },
  {
   "cell_type": "markdown",
   "metadata": {},
   "source": [
    "### Rouwenhorst (see Kopecky and Suen, 2010)"
   ]
  },
  {
   "cell_type": "code",
   "execution_count": null,
   "metadata": {},
   "outputs": [],
   "source": [
    "def rouwenhorst(n, mu, rho, sigma):\n",
    "    pass"
   ]
  },
  {
   "cell_type": "markdown",
   "metadata": {},
   "source": [
    "### Ergodic distribution of a discrete Markov chain"
   ]
  },
  {
   "cell_type": "code",
   "execution_count": null,
   "metadata": {},
   "outputs": [],
   "source": [
    "def ergodic_distribution(Pi):\n",
    "    pass"
   ]
  },
  {
   "cell_type": "markdown",
   "metadata": {},
   "source": [
    "## VFI and solution to the stochastic neo-classical growth model"
   ]
  },
  {
   "cell_type": "code",
   "execution_count": null,
   "metadata": {},
   "outputs": [],
   "source": [
    "alpha = 0.3\n",
    "beta = 0.95\n",
    "delta = 0.1\n",
    "gamma = 1.5\n",
    "u = lambda c : c**(1-gamma) / (1-gamma)\n",
    "\n",
    "mu = 0\n",
    "rho = 0.7\n",
    "sigma = 0.1"
   ]
  },
  {
   "cell_type": "code",
   "execution_count": null,
   "metadata": {},
   "outputs": [],
   "source": [
    "Nk = 500\n",
    "\n",
    "k_dss = ((1 - (1-delta) * beta) / (alpha * beta)) ** (1 / (alpha-1))\n",
    "k_lo, k_hi = np.array([0.1, 2.5]) * k_dss\n",
    "\n",
    "K = np.linspace(k_lo, k_hi, num=Nk)"
   ]
  },
  {
   "cell_type": "code",
   "execution_count": null,
   "metadata": {},
   "outputs": [],
   "source": [
    "Na = 2\n",
    "\n",
    "A, P = rouwenhorst(Na, mu, rho, sigma)\n",
    "A = np.exp(A)"
   ]
  },
  {
   "cell_type": "code",
   "execution_count": null,
   "metadata": {},
   "outputs": [],
   "source": [
    "print('    Low productivity: exp(a) = {:.3f}\\n'.format(A[0]) + \n",
    "      '   High productivity: exp(a) = {:.3f}\\n'.format(A[-1]) +\n",
    "      'Average productivity: exp(a) = {:.3f}'.format(np.exp(mu + sigma**2/2)))"
   ]
  },
  {
   "cell_type": "markdown",
   "metadata": {},
   "source": [
    "Note that the average productivity is not unity.\n",
    "Because productivity is [log-normal](https://en.wikipedia.org/wiki/Log-normal_distribution), the average is $\\exp(\\mu + \\sigma^2/2)$."
   ]
  },
  {
   "cell_type": "code",
   "execution_count": null,
   "metadata": {},
   "outputs": [],
   "source": [
    "U = np.zeros((Nk, Na))\n",
    "V0 = np.zeros((Nk, Na))\n",
    "V1 = np.zeros((Nk, Na))\n",
    "DRk = np.zeros((Nk, Na), dtype=int)\n",
    "\n",
    "criterion = 1.\n",
    "tolerance = 1e-6\n",
    "n_iter = 0"
   ]
  },
  {
   "cell_type": "code",
   "execution_count": null,
   "metadata": {},
   "outputs": [],
   "source": [
    "t0 = time()\n",
    "while criterion > tolerance:\n",
    "    pass\n",
    "t1 = time()\n",
    "\n",
    "K1 = K[DRk]\n",
    "C = np.zeros((Nk, Na))\n",
    "for j in range(Na):\n",
    "    C[:, j] = A[j] * K**alpha + (1 - delta) * K - K1[:, j]\n",
    "\n",
    "k_ss = np.zeros((Na,))\n",
    "for a in range(Na):\n",
    "    k_ss[a] = K[np.abs(K - K1[:, a].reshape((-1,))).argmin()]\n",
    "\n",
    "print('Algorithm took {:.3f} seconds with {} iterations'.format((t1-t0),\n",
    "                                                                n_iter))"
   ]
  },
  {
   "cell_type": "code",
   "execution_count": null,
   "metadata": {},
   "outputs": [],
   "source": [
    "colorstate = ['firebrick', 'green']\n",
    "V_labels = [r'$V(k, a^l)$', r'$V(k, a^h)$']\n",
    "C_labels = [r'$c(k, a^l)$', r'$c(k, a^h)$']\n",
    "K_labels = [r\"$k'(k, a^l)$\", r\"$k'(k, a^h)$\"]\n",
    "\n",
    "fig = plt.subplots(figsize=(8, 6))\n",
    "ax = [None] * 3\n",
    "\n",
    "pltgrid = (2, 2)\n",
    "ax[0] = plt.subplot2grid(pltgrid, (0, 0), rowspan=2)\n",
    "ax[1] = plt.subplot2grid(pltgrid, (0, 1))\n",
    "ax[2] = plt.subplot2grid(pltgrid, (1, 1))\n",
    "\n",
    "for a in range(Na):\n",
    "    ax[0].plot(K, V1[:, a],\n",
    "               linewidth=2,\n",
    "               color=colorstate[a],\n",
    "               label=V_labels[a])\n",
    "    ax[1].plot(K, K1[:, a],\n",
    "               linewidth=2,\n",
    "               color=colorstate[a],\n",
    "               label=K_labels[a],\n",
    "               zorder=2)\n",
    "    ax[2].plot(K, C[:, a],\n",
    "               linewidth=2,\n",
    "               color=colorstate[a],\n",
    "               label=C_labels[a])\n",
    "ax[1].plot(K, K,\n",
    "           linewidth=1,\n",
    "           color='black',\n",
    "           linestyle='dashed',\n",
    "           zorder=1)\n",
    "\n",
    "ax[0].set_title('Value function')\n",
    "ax[1].set_title('Capital accumulation decision')\n",
    "ax[2].set_title('Consumption decision')\n",
    "\n",
    "for a in range(3):\n",
    "    ax[a].axvline(k_ss[0],\n",
    "                  color=colorstate[0],\n",
    "                  linestyle='dotted',\n",
    "                  zorder=1)\n",
    "    ax[a].axvline(k_ss[1],\n",
    "                  color=colorstate[1],\n",
    "                  linestyle='dotted',\n",
    "                  zorder=1)\n",
    "    ax[a].grid(alpha=0.3)\n",
    "    ax[a].set_xlabel('$k$')\n",
    "    ax[a].legend()\n",
    "\n",
    "plt.tight_layout()"
   ]
  },
  {
   "cell_type": "code",
   "execution_count": null,
   "metadata": {},
   "outputs": [],
   "source": [
    "print('          Low steady state: k = {:.3f}\\n'.format(k_ss[0]) +\n",
    "      '         High steady state: k = {:.3f}\\n'.format(k_ss[1]) + \n",
    "      'Deterministic steady state: k = {:.3f}'.format(k_dss))"
   ]
  },
  {
   "cell_type": "markdown",
   "metadata": {},
   "source": [
    "## Simulating the model"
   ]
  },
  {
   "cell_type": "code",
   "execution_count": null,
   "metadata": {},
   "outputs": [],
   "source": [
    "def draw_state(pdf):\n",
    "    pass"
   ]
  },
  {
   "cell_type": "code",
   "execution_count": null,
   "metadata": {},
   "outputs": [],
   "source": [
    "def find_nearest(array, value, give_idx=False):\n",
    "    if array.ndim != 1:\n",
    "        raise ValueError('Input vector must be uni-dimensional')\n",
    "    idx = (np.abs(array - value)).argmin()\n",
    "    if give_idx:\n",
    "        return idx\n",
    "    else:\n",
    "        return array[idx]"
   ]
  },
  {
   "cell_type": "code",
   "execution_count": null,
   "metadata": {},
   "outputs": [],
   "source": [
    "T = 250\n",
    "\n",
    "a = np.zeros((T,), dtype=int)\n",
    "k = np.zeros((T,), dtype=int)"
   ]
  },
  {
   "cell_type": "code",
   "execution_count": null,
   "metadata": {},
   "outputs": [],
   "source": [
    "a[0] = draw_state(ergodic_distribution(P))  # drawing an index for grid A\n",
    "k[0] = find_nearest(K, k_dss, give_idx=True)    # getting index for K"
   ]
  },
  {
   "cell_type": "code",
   "execution_count": null,
   "metadata": {},
   "outputs": [],
   "source": [
    "for t in range(T-1):\n",
    "    pass\n",
    "\n",
    "capital = K[k]\n",
    "shocks = A[a]"
   ]
  },
  {
   "cell_type": "code",
   "execution_count": null,
   "metadata": {},
   "outputs": [],
   "source": [
    "production = np.zeros((T,))\n",
    "investment = np.zeros((T,))\n",
    "consumption = np.zeros((T,))\n",
    "\n",
    "for t in range(T-1):\n",
    "    pass"
   ]
  },
  {
   "cell_type": "code",
   "execution_count": null,
   "metadata": {},
   "outputs": [],
   "source": [
    "production[-1] = shocks[-1] * capital[-1] ** alpha\n",
    "investment[-1] = np.nan\n",
    "consumption[-1] = np.nan"
   ]
  },
  {
   "cell_type": "code",
   "execution_count": null,
   "metadata": {},
   "outputs": [],
   "source": [
    "y_ss = A * k_ss ** alpha\n",
    "i_ss = delta * k_ss  # k_ss - (1 - delta) * k_ss\n",
    "c_ss = y_ss - i_ss"
   ]
  },
  {
   "cell_type": "code",
   "execution_count": null,
   "metadata": {},
   "outputs": [],
   "source": [
    "lows = shocks < 1\n",
    "low_in = [i for i in range(1, T) if (lows[i-1] == False and lows[i] == True)]\n",
    "low_out = [i for i in range(T-1) if (lows[i] == True and lows[i+1] == False)]\n",
    "if lows[0] == True:\n",
    "    low_in.insert(0, 0)\n",
    "if lows[T-1] == True:\n",
    "    low_out.append(T-1)\n",
    "\n",
    "prop_sims = {'color':     'blue',\n",
    "             'linewidth': 1.5,\n",
    "             'zorder':    3,\n",
    "             'label':     'Sample path'}\n",
    "\n",
    "prop_ss_lo = {'color':     colorstate[0],\n",
    "              'linewidth': 1,\n",
    "              'linestyle': 'dashed',\n",
    "              'zorder':    2,\n",
    "              'label':     'Low steady state'}\n",
    "\n",
    "prop_ss_hi = {'color':     colorstate[1],\n",
    "              'linewidth': 1,\n",
    "              'linestyle': 'dashed',\n",
    "              'zorder':    2,\n",
    "              'label':     'High steady state'}\n",
    "\n",
    "fig1, ax1 = plt.subplots(nrows=2, ncols=2, sharex=True, sharey=True,\n",
    "                         figsize=(8, 6))\n",
    "\n",
    "ax1[0, 0].plot(consumption, **prop_sims)\n",
    "ax1[0, 1].plot(investment,  **prop_sims)\n",
    "ax1[1, 0].plot(capital,     **prop_sims)\n",
    "ax1[1, 1].plot(production,  **prop_sims)\n",
    "\n",
    "ax1[0, 0].axhline(c_ss[0], **prop_ss_lo)\n",
    "ax1[0, 0].axhline(c_ss[1], **prop_ss_hi)\n",
    "ax1[0, 1].axhline(i_ss[0], **prop_ss_lo)\n",
    "ax1[0, 1].axhline(i_ss[1], **prop_ss_hi)\n",
    "ax1[1, 0].axhline(k_ss[0], **prop_ss_lo)\n",
    "ax1[1, 0].axhline(k_ss[1], **prop_ss_hi)\n",
    "ax1[1, 1].axhline(y_ss[0], **prop_ss_lo)\n",
    "ax1[1, 1].axhline(y_ss[1], **prop_ss_hi)\n",
    "\n",
    "for i in range(2):\n",
    "    for j in range(2):\n",
    "        ax1[i, j].set_xlabel('Time')\n",
    "        ax1[i, j].legend(framealpha=1)\n",
    "        for a, b in zip(low_in, low_out):\n",
    "            ax1[i, j].axvspan(a, b, color='black', alpha=0.1, zorder=1)\n",
    "\n",
    "ax1[0, 0].set_title('Consumption')\n",
    "ax1[0, 1].set_title('Investment')\n",
    "ax1[1, 0].set_title('Capital')\n",
    "ax1[1, 1].set_title('Production')\n",
    "\n",
    "plt.tight_layout()"
   ]
  }
 ],
 "metadata": {
  "kernelspec": {
   "display_name": "Python 3",
   "language": "python",
   "name": "python3"
  },
  "language_info": {
   "codemirror_mode": {
    "name": "ipython",
    "version": 3
   },
   "file_extension": ".py",
   "mimetype": "text/x-python",
   "name": "python",
   "nbconvert_exporter": "python",
   "pygments_lexer": "ipython3",
   "version": "3.8.5"
  }
 },
 "nbformat": 4,
 "nbformat_minor": 4
}
