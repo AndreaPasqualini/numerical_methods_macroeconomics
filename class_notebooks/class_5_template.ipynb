{
 "cells": [
  {
   "cell_type": "markdown",
   "id": "brutal-variety",
   "metadata": {},
   "source": [
    "# Binning & Transition Dynamics"
   ]
  },
  {
   "cell_type": "code",
   "execution_count": null,
   "id": "missing-mileage",
   "metadata": {},
   "outputs": [],
   "source": [
    "from time import time\n",
    "import numpy as np\n",
    "from scipy import linalg as la\n",
    "from scipy import stats as st\n",
    "from scipy import optimize as opt\n",
    "from matplotlib import pyplot as plt\n",
    "\n",
    "from IPython.display import set_matplotlib_formats\n",
    "%matplotlib inline\n",
    "set_matplotlib_formats('svg')\n",
    "plt.rcParams['figure.figsize'] = [8, 5]"
   ]
  },
  {
   "cell_type": "markdown",
   "id": "dynamic-couple",
   "metadata": {},
   "source": [
    "## Binning (a.k.a., Non-Stochastic Simulations)"
   ]
  },
  {
   "cell_type": "code",
   "execution_count": null,
   "id": "activated-disclaimer",
   "metadata": {},
   "outputs": [],
   "source": [
    "class Huggett:\n",
    "\n",
    "\n",
    "    def __init__(self, a_num, y_num, a_min=-3.0, a_max=15.0, beta=0.97,\n",
    "                  gamma=2.0, mu=0.0, rho=0.53, sigma=0.296, vfi_tol=1e-6):\n",
    "        self.na = a_num\n",
    "        self.ny = y_num\n",
    "        self.ns = a_num * y_num\n",
    "        self.a_min = a_min\n",
    "        self.beta = beta\n",
    "        self.gamma = gamma\n",
    "        self.mu = mu\n",
    "        self.rho = rho\n",
    "        self.sigma = sigma\n",
    "        self.A = np.linspace(a_min, a_max, a_num)\n",
    "        log_Y, self.Pi = self._rouwenhorst(y_num, mu, rho, sigma)\n",
    "        self.Y = np.exp(log_Y)\n",
    "        self.vfi_tol = vfi_tol\n",
    "\n",
    "\n",
    "    def solve_vfi_ip(self, r):\n",
    "        \"\"\"\n",
    "        Solves the households' problem with VFI scaling down the state space.\n",
    "        \"\"\"\n",
    "        na = self.na // 5\n",
    "        A = np.linspace(self.A.min(), self.A.max(), na)\n",
    "        V0 = np.zeros((na, self.ny))\n",
    "        dr = np.zeros((na, self.ny), dtype=int)\n",
    "        crit = 1.0\n",
    "        n_iter = 0\n",
    "        while crit > self.vfi_tol:\n",
    "            n_iter += 1\n",
    "            V1 = np.zeros_like(V0)\n",
    "            U = np.zeros((na, self.ny))\n",
    "            for i in range(na):\n",
    "                for k in range(self.ny):\n",
    "                    C = self.Y[k] + (1 + r) * A[i] - A\n",
    "                    C[C < 0] = np.nan\n",
    "                    U[:, k] = self.u(C)\n",
    "                objective = U + self.beta * ( V0 @ self.Pi.T )\n",
    "                V1[i, :] = np.nanmax(objective, axis=0)\n",
    "                dr[i, :] = np.nanargmax(objective, axis=0)\n",
    "            crit = np.nanmax( np.nanmax( np.abs( V1 - V0 ) ) )\n",
    "            V0[:] = V1\n",
    "        pf_a = A[dr]\n",
    "        A_opt = np.zeros((self.na, self.ny))\n",
    "        for k in range(self.ny):\n",
    "            coeffs = np.polyfit(A, pf_a[:, k], 3)\n",
    "            A_opt[:, k] = np.polyval(coeffs, self.A)\n",
    "        A_opt[A_opt <= self.A.min()] = self.A.min()\n",
    "        return A_opt\n",
    "\n",
    "\n",
    "    def market_clearing(self, r, binning=False, full_output=False):\n",
    "        t0 = time()\n",
    "        pfa = self.solve_vfi_ip(r)\n",
    "        Q = self._compute_Q_smooth(pfa) if binning else self._compute_Q(pfa)\n",
    "        dist = self._ergodic_distribution(Q).reshape((self.ny, self.na)).T\n",
    "        net_excess_demand = np.sum(dist * pfa)\n",
    "        t1 = time()\n",
    "        print('Done!     r = {0:.5f}%     {1:.3f}s.'.format(r*100, t1-t0))\n",
    "        if full_output:\n",
    "            return net_excess_demand, dist\n",
    "        else:\n",
    "            return net_excess_demand\n",
    "\n",
    "\n",
    "    def u(self, c):\n",
    "        return (c ** (1 - self.gamma)) / (1 - self.gamma)\n",
    "\n",
    "\n",
    "    @staticmethod\n",
    "    def _rouwenhorst(n, mu, rho, sigma):\n",
    "        \"\"\"\n",
    "        Discretizes any stationary AR(1) process.\n",
    "        \"\"\"\n",
    "        def compute_P(p, n):\n",
    "            if n == 2:\n",
    "                P = np.array([[p, 1-p], [1-p, p]], dtype=float)\n",
    "            else:\n",
    "                Q = compute_P(p, n-1)\n",
    "                A = np.zeros((n, n))\n",
    "                B = np.zeros((n, n))\n",
    "                A[:n-1, :n-1] += Q\n",
    "                A[1:n, 1:n] += Q\n",
    "                B[:n-1, 1:n] += Q\n",
    "                B[1:n, :n-1] += Q\n",
    "                P = p * A + (1-p) * B\n",
    "                P[1:-1, :] /= 2\n",
    "            return P\n",
    "        p = (1 + rho) / 2\n",
    "        Pi = compute_P(p, n)\n",
    "        f = np.sqrt(n-1) * (sigma / np.sqrt(1 - rho**2))\n",
    "        S = np.linspace(-f, f, n) + mu\n",
    "        return S, Pi\n",
    "\n",
    "\n",
    "    @staticmethod\n",
    "    def _ergodic_distribution(P, tol=1e-12):\n",
    "        \"\"\"\n",
    "        Returns the ergodic distribution of a matrix P by iterating it.\n",
    "        (fast, if P is sparse)\n",
    "        \"\"\"\n",
    "        n = P.shape[0]\n",
    "        p0 = np.zeros((1, n))\n",
    "        p0[0, 0] = 1.0\n",
    "        diff = 1.0\n",
    "        while diff > tol:\n",
    "            p1 = p0 @ P\n",
    "            p0 = p1 @ P\n",
    "            diff = la.norm(p1 - p0)\n",
    "        return p0.reshape((-1, )) / p0.sum()\n",
    "\n",
    "\n",
    "    def _compute_Q(self, pf_a):\n",
    "        \"\"\"\n",
    "        Translates a policy function into a transition matrix.\n",
    "        \"\"\"\n",
    "        n = self.na\n",
    "        blocks = []\n",
    "        for k in range(self.ny):\n",
    "            pa = np.zeros((n, n), dtype=int)\n",
    "            for i in range(n):\n",
    "                j = np.argmin( np.abs( pf_a[i, k] - self.A ) )\n",
    "                pa[i, j] = 1\n",
    "            blocks.append(pa)\n",
    "        PA = la.block_diag(*blocks)\n",
    "        PY = np.kron( self.Pi, np.eye(self.na) )\n",
    "        Q = PY @ PA\n",
    "        return Q\n",
    "\n",
    "\n",
    "    def _compute_Q_smooth(self, pf_a):\n",
    "        \"\"\"\n",
    "        Translates a policy function into a transition matrix, with binning.\n",
    "        \"\"\"\n",
    "        pass"
   ]
  },
  {
   "cell_type": "code",
   "execution_count": null,
   "id": "chemical-shield",
   "metadata": {},
   "outputs": [],
   "source": [
    "mdl = Huggett(a_num=500, y_num=5)\n",
    "rStar, checks = opt.ridder(mdl.market_clearing, 0.020, 0.025, full_output=True)"
   ]
  },
  {
   "cell_type": "code",
   "execution_count": null,
   "id": "filled-canberra",
   "metadata": {},
   "outputs": [],
   "source": [
    "checks"
   ]
  },
  {
   "cell_type": "code",
   "execution_count": null,
   "id": "thermal-darwin",
   "metadata": {},
   "outputs": [],
   "source": [
    "pfa = mdl.solve_vfi_ip(rStar)\n",
    "ned_bin,   dist_bin   = mdl.market_clearing(rStar, binning=True,  full_output=True)\n",
    "ned_nobin, dist_nobin = mdl.market_clearing(rStar, binning=False, full_output=True)"
   ]
  },
  {
   "cell_type": "code",
   "execution_count": null,
   "id": "acoustic-length",
   "metadata": {},
   "outputs": [],
   "source": [
    "fig, ax = plt.subplots(nrows=2, ncols=2, sharex=True)\n",
    "ax[0, 0].plot(mdl.A, dist_nobin.sum(axis=1))\n",
    "ax[1, 0].plot(mdl.A, dist_nobin.sum(axis=1).cumsum())\n",
    "ax[0, 1].plot(mdl.A, dist_bin.sum(axis=1))\n",
    "ax[1, 1].plot(mdl.A, dist_bin.sum(axis=1).cumsum())\n",
    "for j in range(2):\n",
    "    ax[0, j].set_title('Ergodic marginal PDF')\n",
    "    ax[1, j].set_title('Ergodic marginal CDF')\n",
    "    for i in range(2):\n",
    "        ax[i, j].grid(alpha=0.3)\n",
    "plt.tight_layout()\n",
    "plt.show()"
   ]
  },
  {
   "cell_type": "markdown",
   "id": "necessary-indiana",
   "metadata": {},
   "source": [
    "_En passant,_ we have just replicated the paper by Huggett 😉"
   ]
  },
  {
   "cell_type": "code",
   "execution_count": null,
   "id": "comprehensive-china",
   "metadata": {},
   "outputs": [],
   "source": [
    "print(\"  Complete-insurance economy: r = {:.3f}%.\".format(\"???\"))\n",
    "print(\"Incomplete-insurance economy: r = {:.3f}%.\".format(rStar * 100))"
   ]
  },
  {
   "cell_type": "markdown",
   "id": "sixth-darwin",
   "metadata": {},
   "source": [
    "## Transition Dynamics (a.k.a., MIT shocks)"
   ]
  },
  {
   "cell_type": "markdown",
   "id": "closing-large",
   "metadata": {},
   "source": [
    "_Coming soon..._"
   ]
  },
  {
   "cell_type": "markdown",
   "id": "entitled-charter",
   "metadata": {},
   "source": [
    "## The Aiyagari (1994) Model"
   ]
  },
  {
   "cell_type": "markdown",
   "id": "intermediate-institution",
   "metadata": {},
   "source": [
    "See the code provided by Maffezzoli."
   ]
  }
 ],
 "metadata": {
  "kernelspec": {
   "display_name": "Python 3",
   "language": "python",
   "name": "python3"
  },
  "language_info": {
   "codemirror_mode": {
    "name": "ipython",
    "version": 3
   },
   "file_extension": ".py",
   "mimetype": "text/x-python",
   "name": "python",
   "nbconvert_exporter": "python",
   "pygments_lexer": "ipython3",
   "version": "3.8.8"
  }
 },
 "nbformat": 4,
 "nbformat_minor": 5
}
