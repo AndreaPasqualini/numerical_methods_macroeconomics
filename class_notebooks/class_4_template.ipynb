{
 "cells": [
  {
   "cell_type": "markdown",
   "id": "stopped-implement",
   "metadata": {},
   "source": [
    "# Script for Class #4"
   ]
  },
  {
   "cell_type": "code",
   "execution_count": null,
   "id": "third-resource",
   "metadata": {},
   "outputs": [],
   "source": [
    "import numpy as np\n",
    "from scipy import linalg as la\n",
    "from scipy import stats as st\n",
    "from scipy import optimize as opt\n",
    "from matplotlib import pyplot as plt\n",
    "from time import time\n",
    "\n",
    "from IPython.display import set_matplotlib_formats\n",
    "%matplotlib inline\n",
    "set_matplotlib_formats('svg')\n",
    "plt.rcParams['figure.figsize'] = [12, 5]"
   ]
  },
  {
   "cell_type": "markdown",
   "id": "graphic-postage",
   "metadata": {},
   "source": [
    "## Solving for the General Equilibrium when Explicit Prices are Involved"
   ]
  },
  {
   "cell_type": "code",
   "execution_count": null,
   "id": "horizontal-knitting",
   "metadata": {},
   "outputs": [],
   "source": [
    "beta = 0.97\n",
    "gamma = 1.5\n",
    "y = 1.0\n",
    "n = 100 + 1\n",
    "a = np.linspace(-5, 5, num=n)  # ensuring there's a value that is exactly zero, see later"
   ]
  },
  {
   "cell_type": "code",
   "execution_count": null,
   "id": "reserved-criminal",
   "metadata": {},
   "outputs": [],
   "source": [
    "rSol = 1 / beta - 1\n",
    "print('r* = {:.5f}'.format(rSol))"
   ]
  },
  {
   "cell_type": "code",
   "execution_count": null,
   "id": "lightweight-kidney",
   "metadata": {},
   "outputs": [],
   "source": [
    "class Agent:\n",
    "    \n",
    "    def __init__(self, beta, gamma, a, y):\n",
    "        self.beta = beta\n",
    "        self.gamma = gamma\n",
    "        self.y = y\n",
    "        self.a = a\n",
    "        \n",
    "    def __call__(self, r, tol=1e-6):\n",
    "        n = self.a.size\n",
    "        v = np.zeros((n,1))\n",
    "        v_new = np.zeros((n,1))\n",
    "        dr = np.zeros((n,1), dtype=int)\n",
    "        criterion = 1\n",
    "        n_iter = 0\n",
    "        t0 = time()\n",
    "        while criterion > tol:\n",
    "            n_iter += 1\n",
    "            for i in range(n):\n",
    "                c = self.y + self.a[i] * (1 + r) - self.a\n",
    "                c[c<=0] = np.nan\n",
    "                u = c ** (1 - self.gamma) / (1 - self.gamma)\n",
    "                obj = u + self.beta * v[:, -1]\n",
    "                v_new[i] = np.nanmax( obj )\n",
    "                dr[i] = obj.tolist().index(v_new[i])\n",
    "            v = np.block([v, v_new])\n",
    "            criterion = np.max(np.abs(v[:, -1] - v[:, -2]))\n",
    "        t1 = time()\n",
    "        a_opt = self.a[dr]\n",
    "        self.v = v\n",
    "        print('VFI took {0:.3f} seconds, {1} iterations (r={2:.3f}%).'.format(t1-t0, n_iter, r*100))\n",
    "        # c_opt = self.y + self.a * (1 + r) - a_opt\n",
    "        return a_opt"
   ]
  },
  {
   "cell_type": "code",
   "execution_count": null,
   "id": "crucial-feedback",
   "metadata": {},
   "outputs": [],
   "source": [
    "rLo, rHi = np.array([0.75, 1.25]) * rSol\n",
    "ra = Agent(beta, gamma, a, y)"
   ]
  },
  {
   "cell_type": "code",
   "execution_count": null,
   "id": "acquired-agriculture",
   "metadata": {},
   "outputs": [],
   "source": [
    "\"fill me in!\""
   ]
  },
  {
   "cell_type": "code",
   "execution_count": null,
   "id": "representative-tenant",
   "metadata": {},
   "outputs": [],
   "source": [
    "print('Analytical solution: r = {:.50f}'.format(rSol))\n",
    "print(' Numerical solution: r = {:.50f}'.format(rStar))"
   ]
  },
  {
   "cell_type": "markdown",
   "id": "promising-representation",
   "metadata": {},
   "source": [
    "## From Policy Functions to Endogenous Ergodic Distributions"
   ]
  },
  {
   "cell_type": "markdown",
   "id": "simplified-somewhere",
   "metadata": {},
   "source": [
    "Same problem as before, add uncertainty in $Y_t$"
   ]
  },
  {
   "cell_type": "code",
   "execution_count": null,
   "id": "rising-twins",
   "metadata": {},
   "outputs": [],
   "source": [
    "a_num = 100\n",
    "a_min = -5\n",
    "a_max = 5\n",
    "A = np.linspace(a_min, a_max, num=a_num)\n",
    "Y = np.array([0.5, 1.5])\n",
    "Pi = np.array([[0.75, 0.25],\n",
    "               [0.25, 0.75]])\n",
    "# Y = np.array([0.25, 1.00, 1.75])\n",
    "# Pi = np.array([[0.65, 0.25, 0.10],\n",
    "#                [0.20, 0.60, 0.20],\n",
    "#                [0.10, 0.25, 0.65]])\n",
    "beta = 0.97\n",
    "gamma = 2.0"
   ]
  },
  {
   "cell_type": "code",
   "execution_count": null,
   "id": "italic-compensation",
   "metadata": {},
   "outputs": [],
   "source": [
    "def ergodic_distribution(P):\n",
    "    eigvalues, eigvectors = la.eig(P)\n",
    "    real_eigvalues, positions = [], []\n",
    "    for i, l in enumerate(eigvalues):\n",
    "        if np.imag(l) == 0.0:\n",
    "            positions.append(i)\n",
    "            real_eigvalues.append(l)\n",
    "    real_eigvalues = np.array(real_eigvalues)\n",
    "    real_eigvectors = np.real( eigvectors[:, positions] )\n",
    "    unit_eigvalue = np.argmin( np.abs( real_eigvalues - 1 ) )\n",
    "    ergo_dist = real_eigvectors[:, unit_eigvalue]\n",
    "    ergo_dist /= ergo_dist.sum()\n",
    "    return ergo_dist"
   ]
  },
  {
   "cell_type": "code",
   "execution_count": null,
   "id": "universal-spoke",
   "metadata": {},
   "outputs": [],
   "source": [
    "def solve_vfi(r, A, Y, beta, gamma, tol=1e-6):\n",
    "    na = A.size\n",
    "    ny = Y.size\n",
    "    V0 = np.zeros((na, ny))\n",
    "    dr = np.zeros((na, ny), dtype=int)\n",
    "    crit = 1.0\n",
    "    n_iter = 0\n",
    "    t0 = time()\n",
    "    while crit > tol:\n",
    "        n_iter += 1\n",
    "        V1 = np.zeros_like(V0)\n",
    "        U = np.zeros((na, ny))\n",
    "        for i in range(na):\n",
    "            for j in range(ny):\n",
    "                C = Y[j] + (1 + r) * A[i] - A\n",
    "                C[C < 0] = np.nan\n",
    "                U[:, j] = C ** (1 - gamma) / (1 - gamma)\n",
    "            objective = U + beta * V0 @ Pi.T\n",
    "            V1[i, :] = np.nanmax(objective, axis=0)\n",
    "        crit = np.max( np.max( np.abs( V1 - V0 ) ) )\n",
    "        V0[:] = V1\n",
    "    t1 = time()\n",
    "    for i in range(na):\n",
    "        for j in range(ny):\n",
    "            C = Y[j] + (1 + r) * A[i] - A\n",
    "            C[C < 0] = np.nan\n",
    "            U[:, j] = C ** (1 - gamma) / (1 - gamma)\n",
    "        objective = U + beta * V0 @ Pi.T\n",
    "        dr[i, :] = np.nanargmax(objective, axis=0)\n",
    "    pf_a = A[dr]\n",
    "    print('VFI solved with r = {0:.10f}%; {1:.3f} seconds'.format(r*100, t1-t0))\n",
    "    return pf_a"
   ]
  },
  {
   "cell_type": "code",
   "execution_count": null,
   "id": "million-glance",
   "metadata": {},
   "outputs": [],
   "source": [
    "def market_clearing(r, beta=0.97, gamma=2.0, tol=1e-6, full_output=False):\n",
    "    na = A.size\n",
    "    ny = Y.size\n",
    "    ns = na * ny\n",
    "    pa = np.zeros((na, na, ny), dtype=int)\n",
    "    pf_a = solve_vfi(r, A, Y, beta, gamma)\n",
    "    pass"
   ]
  },
  {
   "cell_type": "code",
   "execution_count": null,
   "id": "hundred-thompson",
   "metadata": {},
   "outputs": [],
   "source": [
    "rStar, diagnostics = \"fill me in!\""
   ]
  },
  {
   "cell_type": "code",
   "execution_count": null,
   "id": "focal-powder",
   "metadata": {},
   "outputs": [],
   "source": [
    "diagnostics"
   ]
  },
  {
   "cell_type": "code",
   "execution_count": null,
   "id": "natural-freedom",
   "metadata": {},
   "outputs": [],
   "source": [
    "pass"
   ]
  },
  {
   "cell_type": "code",
   "execution_count": null,
   "id": "favorite-composer",
   "metadata": {},
   "outputs": [],
   "source": [
    "ergo_dist = ergo_dist.reshape((Y.size, A.size)).T\n",
    "marginal_dist_income = ergodic_distribution(Pi)\n",
    "dist_if_y_lo = ergo_dist[:, 0] / marginal_dist_income[0]\n",
    "dist_if_y_hi = ergo_dist[:, -1] / marginal_dist_income[-1]"
   ]
  },
  {
   "cell_type": "code",
   "execution_count": null,
   "id": "collectible-mounting",
   "metadata": {},
   "outputs": [],
   "source": [
    "fig, ax = plt.subplots(nrows=1, ncols=2)\n",
    "ax[0].plot(A, A, color='black', alpha=0.5, linestyle='dashed')\n",
    "ax[0].plot(A, pf_a[:, 0], color='red', linewidth=2, label=\"$A'(A, Y^l)$\")\n",
    "ax[0].plot(A, pf_a[:, 1], color='green', linewidth=2, label=\"$A'(A, Y^h)$\")\n",
    "ax[0].legend()\n",
    "ax[0].set_title('Pol. fun. assets')\n",
    "ax[0].set_xlabel('$A$')\n",
    "ax[0].set_ylabel(\"$A'(A, Y)$\")\n",
    "ax[1].plot(A, dist_if_y_lo, color='red', linewidth=2, label='$\\lambda(A | Y^l)$')\n",
    "ax[1].plot(A, dist_if_y_hi, color='green', linewidth=2, label='$\\lambda(A | Y^h)$')\n",
    "ax[1].legend()\n",
    "ax[1].set_xlabel('$A$')\n",
    "ax[1].set_title('$\\lambda(A | Y)$')\n",
    "plt.tight_layout()\n",
    "plt.show()"
   ]
  },
  {
   "cell_type": "markdown",
   "id": "modern-telling",
   "metadata": {},
   "source": [
    "The last plot on the right makes it look like some probabilities on the endogenous distribution are negative. They are not. The $y$-axis has been scaled-and-shifted by `1e-14+1e-2`, which means that each tick label $i$ on the vertical axis are $i \\times 10^{-14} + 1 \\times 10^{-2}$. Therefore, the zero displayed is actually $0.01$. The label $-1$ actually is $0.004 - 10^{-14} > 0$."
   ]
  }
 ],
 "metadata": {
  "kernelspec": {
   "display_name": "Python 3",
   "language": "python",
   "name": "python3"
  },
  "language_info": {
   "codemirror_mode": {
    "name": "ipython",
    "version": 3
   },
   "file_extension": ".py",
   "mimetype": "text/x-python",
   "name": "python",
   "nbconvert_exporter": "python",
   "pygments_lexer": "ipython3",
   "version": "3.8.5"
  }
 },
 "nbformat": 4,
 "nbformat_minor": 5
}
