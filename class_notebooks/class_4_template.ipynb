{
 "cells": [
  {
   "cell_type": "markdown",
   "id": "unknown-intermediate",
   "metadata": {},
   "source": [
    "# Script for Class #4"
   ]
  },
  {
   "cell_type": "code",
   "execution_count": 1,
   "id": "conditional-grain",
   "metadata": {},
   "outputs": [],
   "source": [
    "import numpy as np\n",
    "from scipy import linalg as la\n",
    "from scipy import stats as st\n",
    "from scipy import optimize as opt\n",
    "from matplotlib import pyplot as plt\n",
    "from time import time\n",
    "\n",
    "from IPython.display import set_matplotlib_formats\n",
    "%matplotlib inline\n",
    "set_matplotlib_formats('svg')\n",
    "plt.rcParams['figure.figsize'] = [12, 5]"
   ]
  },
  {
   "cell_type": "markdown",
   "id": "recovered-hotel",
   "metadata": {},
   "source": [
    "## Solving for the General Equilibrium when Explicit Prices are Involved"
   ]
  },
  {
   "cell_type": "code",
   "execution_count": 2,
   "id": "royal-authority",
   "metadata": {},
   "outputs": [],
   "source": [
    "beta = 0.97\n",
    "gamma = 1.5\n",
    "y = 1.0\n",
    "n = 100 + 1\n",
    "a = np.linspace(-5, 5, num=n)  # ensuring there's a value that is exactly zero, see later"
   ]
  },
  {
   "cell_type": "code",
   "execution_count": 3,
   "id": "alive-infection",
   "metadata": {},
   "outputs": [
    {
     "name": "stdout",
     "output_type": "stream",
     "text": [
      "r* = 0.03093\n"
     ]
    }
   ],
   "source": [
    "rSol = 1 / beta - 1\n",
    "print('r* = {:.5f}'.format(rSol))"
   ]
  },
  {
   "cell_type": "code",
   "execution_count": 4,
   "id": "acute-peace",
   "metadata": {},
   "outputs": [],
   "source": [
    "class Agent:\n",
    "    \n",
    "    def __init__(self, beta, gamma, a, y):\n",
    "        self.beta = beta\n",
    "        self.gamma = gamma\n",
    "        self.y = y\n",
    "        self.a = a\n",
    "        \n",
    "    def __call__(self, r, tol=1e-6):\n",
    "        n = self.a.size\n",
    "        v = np.zeros((n,1))\n",
    "        v_new = np.zeros((n,1))\n",
    "        dr = np.zeros((n,1), dtype=int)\n",
    "        criterion = 1\n",
    "        n_iter = 0\n",
    "        t0 = time()\n",
    "        while criterion > tol:\n",
    "            n_iter += 1\n",
    "            for i in range(n):\n",
    "                c = self.y + self.a[i] * (1 + r) - self.a\n",
    "                c[c<=0] = np.nan\n",
    "                u = c ** (1 - self.gamma) / (1 - self.gamma)\n",
    "                obj = u + self.beta * v[:, -1]\n",
    "                v_new[i] = np.nanmax( obj )\n",
    "                dr[i] = obj.tolist().index(v_new[i])\n",
    "            v = np.block([v, v_new])\n",
    "            criterion = np.max(np.abs(v[:, -1] - v[:, -2]))\n",
    "        t1 = time()\n",
    "        a_opt = self.a[dr]\n",
    "        self.v = v\n",
    "        print('VFI took {0:.3f} seconds, {1} iterations (r={2:.3f}%).'.format(t1-t0, n_iter, r*100))\n",
    "        # c_opt = self.y + self.a * (1 + r) - a_opt\n",
    "        return a_opt"
   ]
  },
  {
   "cell_type": "code",
   "execution_count": 5,
   "id": "figured-locator",
   "metadata": {},
   "outputs": [],
   "source": [
    "rLo, rHi = np.array([0.75, 1.25]) * rSol\n",
    "ra = Agent(beta, gamma, a, y)"
   ]
  },
  {
   "cell_type": "code",
   "execution_count": 6,
   "id": "agricultural-washer",
   "metadata": {},
   "outputs": [
    {
     "ename": "KeyboardInterrupt",
     "evalue": "",
     "output_type": "error",
     "traceback": [
      "\u001b[0;31m---------------------------------------------------------------------------\u001b[0m",
      "\u001b[0;31mKeyboardInterrupt\u001b[0m                         Traceback (most recent call last)",
      "\u001b[0;32m<ipython-input-6-03b927545f41>\u001b[0m in \u001b[0;36m<module>\u001b[0;34m\u001b[0m\n\u001b[1;32m      1\u001b[0m \u001b[0mwhere_a_is_zero\u001b[0m \u001b[0;34m=\u001b[0m \u001b[0ma\u001b[0m\u001b[0;34m.\u001b[0m\u001b[0mtolist\u001b[0m\u001b[0;34m(\u001b[0m\u001b[0;34m)\u001b[0m\u001b[0;34m.\u001b[0m\u001b[0mindex\u001b[0m\u001b[0;34m(\u001b[0m\u001b[0;36m0\u001b[0m\u001b[0;34m)\u001b[0m\u001b[0;34m\u001b[0m\u001b[0;34m\u001b[0m\u001b[0m\n\u001b[1;32m      2\u001b[0m \u001b[0mz\u001b[0m \u001b[0;34m=\u001b[0m \u001b[0;32mlambda\u001b[0m \u001b[0mx\u001b[0m\u001b[0;34m:\u001b[0m \u001b[0mra\u001b[0m\u001b[0;34m(\u001b[0m\u001b[0mx\u001b[0m\u001b[0;34m)\u001b[0m\u001b[0;34m[\u001b[0m\u001b[0mwhere_a_is_zero\u001b[0m\u001b[0;34m]\u001b[0m\u001b[0;34m\u001b[0m\u001b[0;34m\u001b[0m\u001b[0m\n\u001b[0;32m----> 3\u001b[0;31m \u001b[0mrStar\u001b[0m \u001b[0;34m=\u001b[0m \u001b[0mopt\u001b[0m\u001b[0;34m.\u001b[0m\u001b[0mridder\u001b[0m\u001b[0;34m(\u001b[0m\u001b[0mz\u001b[0m\u001b[0;34m,\u001b[0m \u001b[0mrLo\u001b[0m\u001b[0;34m,\u001b[0m \u001b[0mrHi\u001b[0m\u001b[0;34m)\u001b[0m\u001b[0;34m\u001b[0m\u001b[0;34m\u001b[0m\u001b[0m\n\u001b[0m",
      "\u001b[0;32m~/.miniconda3/lib/python3.8/site-packages/scipy/optimize/zeros.py\u001b[0m in \u001b[0;36mridder\u001b[0;34m(f, a, b, args, xtol, rtol, maxiter, full_output, disp)\u001b[0m\n\u001b[1;32m    644\u001b[0m     \u001b[0;32mif\u001b[0m \u001b[0mrtol\u001b[0m \u001b[0;34m<\u001b[0m \u001b[0m_rtol\u001b[0m\u001b[0;34m:\u001b[0m\u001b[0;34m\u001b[0m\u001b[0;34m\u001b[0m\u001b[0m\n\u001b[1;32m    645\u001b[0m         \u001b[0;32mraise\u001b[0m \u001b[0mValueError\u001b[0m\u001b[0;34m(\u001b[0m\u001b[0;34m\"rtol too small (%g < %g)\"\u001b[0m \u001b[0;34m%\u001b[0m \u001b[0;34m(\u001b[0m\u001b[0mrtol\u001b[0m\u001b[0;34m,\u001b[0m \u001b[0m_rtol\u001b[0m\u001b[0;34m)\u001b[0m\u001b[0;34m)\u001b[0m\u001b[0;34m\u001b[0m\u001b[0;34m\u001b[0m\u001b[0m\n\u001b[0;32m--> 646\u001b[0;31m     \u001b[0mr\u001b[0m \u001b[0;34m=\u001b[0m \u001b[0m_zeros\u001b[0m\u001b[0;34m.\u001b[0m\u001b[0m_ridder\u001b[0m\u001b[0;34m(\u001b[0m\u001b[0mf\u001b[0m\u001b[0;34m,\u001b[0m \u001b[0ma\u001b[0m\u001b[0;34m,\u001b[0m \u001b[0mb\u001b[0m\u001b[0;34m,\u001b[0m \u001b[0mxtol\u001b[0m\u001b[0;34m,\u001b[0m \u001b[0mrtol\u001b[0m\u001b[0;34m,\u001b[0m \u001b[0mmaxiter\u001b[0m\u001b[0;34m,\u001b[0m \u001b[0margs\u001b[0m\u001b[0;34m,\u001b[0m \u001b[0mfull_output\u001b[0m\u001b[0;34m,\u001b[0m \u001b[0mdisp\u001b[0m\u001b[0;34m)\u001b[0m\u001b[0;34m\u001b[0m\u001b[0;34m\u001b[0m\u001b[0m\n\u001b[0m\u001b[1;32m    647\u001b[0m     \u001b[0;32mreturn\u001b[0m \u001b[0mresults_c\u001b[0m\u001b[0;34m(\u001b[0m\u001b[0mfull_output\u001b[0m\u001b[0;34m,\u001b[0m \u001b[0mr\u001b[0m\u001b[0;34m)\u001b[0m\u001b[0;34m\u001b[0m\u001b[0;34m\u001b[0m\u001b[0m\n\u001b[1;32m    648\u001b[0m \u001b[0;34m\u001b[0m\u001b[0m\n",
      "\u001b[0;32m<ipython-input-6-03b927545f41>\u001b[0m in \u001b[0;36m<lambda>\u001b[0;34m(x)\u001b[0m\n\u001b[1;32m      1\u001b[0m \u001b[0mwhere_a_is_zero\u001b[0m \u001b[0;34m=\u001b[0m \u001b[0ma\u001b[0m\u001b[0;34m.\u001b[0m\u001b[0mtolist\u001b[0m\u001b[0;34m(\u001b[0m\u001b[0;34m)\u001b[0m\u001b[0;34m.\u001b[0m\u001b[0mindex\u001b[0m\u001b[0;34m(\u001b[0m\u001b[0;36m0\u001b[0m\u001b[0;34m)\u001b[0m\u001b[0;34m\u001b[0m\u001b[0;34m\u001b[0m\u001b[0m\n\u001b[0;32m----> 2\u001b[0;31m \u001b[0mz\u001b[0m \u001b[0;34m=\u001b[0m \u001b[0;32mlambda\u001b[0m \u001b[0mx\u001b[0m\u001b[0;34m:\u001b[0m \u001b[0mra\u001b[0m\u001b[0;34m(\u001b[0m\u001b[0mx\u001b[0m\u001b[0;34m)\u001b[0m\u001b[0;34m[\u001b[0m\u001b[0mwhere_a_is_zero\u001b[0m\u001b[0;34m]\u001b[0m\u001b[0;34m\u001b[0m\u001b[0;34m\u001b[0m\u001b[0m\n\u001b[0m\u001b[1;32m      3\u001b[0m \u001b[0mrStar\u001b[0m \u001b[0;34m=\u001b[0m \u001b[0mopt\u001b[0m\u001b[0;34m.\u001b[0m\u001b[0mridder\u001b[0m\u001b[0;34m(\u001b[0m\u001b[0mz\u001b[0m\u001b[0;34m,\u001b[0m \u001b[0mrLo\u001b[0m\u001b[0;34m,\u001b[0m \u001b[0mrHi\u001b[0m\u001b[0;34m)\u001b[0m\u001b[0;34m\u001b[0m\u001b[0;34m\u001b[0m\u001b[0m\n",
      "\u001b[0;32m<ipython-input-4-cad3482e8675>\u001b[0m in \u001b[0;36m__call__\u001b[0;34m(self, r, tol)\u001b[0m\n\u001b[1;32m     22\u001b[0m                 \u001b[0mu\u001b[0m \u001b[0;34m=\u001b[0m \u001b[0mc\u001b[0m \u001b[0;34m**\u001b[0m \u001b[0;34m(\u001b[0m\u001b[0;36m1\u001b[0m \u001b[0;34m-\u001b[0m \u001b[0mself\u001b[0m\u001b[0;34m.\u001b[0m\u001b[0mgamma\u001b[0m\u001b[0;34m)\u001b[0m \u001b[0;34m/\u001b[0m \u001b[0;34m(\u001b[0m\u001b[0;36m1\u001b[0m \u001b[0;34m-\u001b[0m \u001b[0mself\u001b[0m\u001b[0;34m.\u001b[0m\u001b[0mgamma\u001b[0m\u001b[0;34m)\u001b[0m\u001b[0;34m\u001b[0m\u001b[0;34m\u001b[0m\u001b[0m\n\u001b[1;32m     23\u001b[0m                 \u001b[0mobj\u001b[0m \u001b[0;34m=\u001b[0m \u001b[0mu\u001b[0m \u001b[0;34m+\u001b[0m \u001b[0mself\u001b[0m\u001b[0;34m.\u001b[0m\u001b[0mbeta\u001b[0m \u001b[0;34m*\u001b[0m \u001b[0mv\u001b[0m\u001b[0;34m[\u001b[0m\u001b[0;34m:\u001b[0m\u001b[0;34m,\u001b[0m \u001b[0;34m-\u001b[0m\u001b[0;36m1\u001b[0m\u001b[0;34m]\u001b[0m\u001b[0;34m\u001b[0m\u001b[0;34m\u001b[0m\u001b[0m\n\u001b[0;32m---> 24\u001b[0;31m                 \u001b[0mv_new\u001b[0m\u001b[0;34m[\u001b[0m\u001b[0mi\u001b[0m\u001b[0;34m]\u001b[0m \u001b[0;34m=\u001b[0m \u001b[0mnp\u001b[0m\u001b[0;34m.\u001b[0m\u001b[0mnanmax\u001b[0m\u001b[0;34m(\u001b[0m \u001b[0mobj\u001b[0m \u001b[0;34m)\u001b[0m\u001b[0;34m\u001b[0m\u001b[0;34m\u001b[0m\u001b[0m\n\u001b[0m\u001b[1;32m     25\u001b[0m                 \u001b[0mdr\u001b[0m\u001b[0;34m[\u001b[0m\u001b[0mi\u001b[0m\u001b[0;34m]\u001b[0m \u001b[0;34m=\u001b[0m \u001b[0mobj\u001b[0m\u001b[0;34m.\u001b[0m\u001b[0mtolist\u001b[0m\u001b[0;34m(\u001b[0m\u001b[0;34m)\u001b[0m\u001b[0;34m.\u001b[0m\u001b[0mindex\u001b[0m\u001b[0;34m(\u001b[0m\u001b[0mv_new\u001b[0m\u001b[0;34m[\u001b[0m\u001b[0mi\u001b[0m\u001b[0;34m]\u001b[0m\u001b[0;34m)\u001b[0m\u001b[0;34m\u001b[0m\u001b[0;34m\u001b[0m\u001b[0m\n\u001b[1;32m     26\u001b[0m             \u001b[0mv\u001b[0m \u001b[0;34m=\u001b[0m \u001b[0mnp\u001b[0m\u001b[0;34m.\u001b[0m\u001b[0mblock\u001b[0m\u001b[0;34m(\u001b[0m\u001b[0;34m[\u001b[0m\u001b[0mv\u001b[0m\u001b[0;34m,\u001b[0m \u001b[0mv_new\u001b[0m\u001b[0;34m]\u001b[0m\u001b[0;34m)\u001b[0m\u001b[0;34m\u001b[0m\u001b[0;34m\u001b[0m\u001b[0m\n",
      "\u001b[0;32m<__array_function__ internals>\u001b[0m in \u001b[0;36mnanmax\u001b[0;34m(*args, **kwargs)\u001b[0m\n",
      "\u001b[0;32m~/.miniconda3/lib/python3.8/site-packages/numpy/lib/nanfunctions.py\u001b[0m in \u001b[0;36mnanmax\u001b[0;34m(a, axis, out, keepdims)\u001b[0m\n\u001b[1;32m    432\u001b[0m         \u001b[0;31m# Fast, but not safe for subclasses of ndarray, or object arrays,\u001b[0m\u001b[0;34m\u001b[0m\u001b[0;34m\u001b[0m\u001b[0;34m\u001b[0m\u001b[0m\n\u001b[1;32m    433\u001b[0m         \u001b[0;31m# which do not implement isnan (gh-9009), or fmax correctly (gh-8975)\u001b[0m\u001b[0;34m\u001b[0m\u001b[0;34m\u001b[0m\u001b[0;34m\u001b[0m\u001b[0m\n\u001b[0;32m--> 434\u001b[0;31m         \u001b[0mres\u001b[0m \u001b[0;34m=\u001b[0m \u001b[0mnp\u001b[0m\u001b[0;34m.\u001b[0m\u001b[0mfmax\u001b[0m\u001b[0;34m.\u001b[0m\u001b[0mreduce\u001b[0m\u001b[0;34m(\u001b[0m\u001b[0ma\u001b[0m\u001b[0;34m,\u001b[0m \u001b[0maxis\u001b[0m\u001b[0;34m=\u001b[0m\u001b[0maxis\u001b[0m\u001b[0;34m,\u001b[0m \u001b[0mout\u001b[0m\u001b[0;34m=\u001b[0m\u001b[0mout\u001b[0m\u001b[0;34m,\u001b[0m \u001b[0;34m**\u001b[0m\u001b[0mkwargs\u001b[0m\u001b[0;34m)\u001b[0m\u001b[0;34m\u001b[0m\u001b[0;34m\u001b[0m\u001b[0m\n\u001b[0m\u001b[1;32m    435\u001b[0m         \u001b[0;32mif\u001b[0m \u001b[0mnp\u001b[0m\u001b[0;34m.\u001b[0m\u001b[0misnan\u001b[0m\u001b[0;34m(\u001b[0m\u001b[0mres\u001b[0m\u001b[0;34m)\u001b[0m\u001b[0;34m.\u001b[0m\u001b[0many\u001b[0m\u001b[0;34m(\u001b[0m\u001b[0;34m)\u001b[0m\u001b[0;34m:\u001b[0m\u001b[0;34m\u001b[0m\u001b[0;34m\u001b[0m\u001b[0m\n\u001b[1;32m    436\u001b[0m             warnings.warn(\"All-NaN slice encountered\", RuntimeWarning,\n",
      "\u001b[0;31mKeyboardInterrupt\u001b[0m: "
     ]
    }
   ],
   "source": [
    "where_a_is_zero = a.tolist().index(0)\n",
    "z = lambda x: ra(x)[where_a_is_zero]\n",
    "rStar = opt.ridder(z, rLo, rHi)"
   ]
  },
  {
   "cell_type": "code",
   "execution_count": null,
   "id": "premium-moldova",
   "metadata": {},
   "outputs": [],
   "source": [
    "print('Analytical solution: r = {:.50f}'.format(rSol))\n",
    "print(' Numerical solution: r = {:.50f}'.format(rStar))"
   ]
  },
  {
   "cell_type": "markdown",
   "id": "automatic-moses",
   "metadata": {},
   "source": [
    "## From Policy Functions to Endogenous Ergodic Distributions"
   ]
  },
  {
   "cell_type": "markdown",
   "id": "verbal-butter",
   "metadata": {},
   "source": [
    "Same problem as before, add uncertainty in $Y_t$"
   ]
  },
  {
   "cell_type": "code",
   "execution_count": null,
   "id": "higher-campus",
   "metadata": {},
   "outputs": [],
   "source": [
    "a_num = 100\n",
    "a_min = -5\n",
    "a_max = 5\n",
    "A = np.linspace(a_min, a_max, num=a_num)\n",
    "Y = np.array([0.5, 1.5])\n",
    "Pi = np.array([[0.75, 0.25],\n",
    "               [0.25, 0.75]])\n",
    "# Y = np.array([0.25, 1.00, 1.75])\n",
    "# Pi = np.array([[0.65, 0.25, 0.10],\n",
    "#                [0.20, 0.60, 0.20],\n",
    "#                [0.10, 0.25, 0.65]])\n",
    "beta = 0.97\n",
    "gamma = 2.0"
   ]
  },
  {
   "cell_type": "code",
   "execution_count": null,
   "id": "korean-living",
   "metadata": {},
   "outputs": [],
   "source": [
    "def ergodic_distribution(P):\n",
    "    eigvalues, eigvectors = la.eig(P)\n",
    "    real_eigvalues, positions = [], []\n",
    "    for i, l in enumerate(eigvalues):\n",
    "        if np.imag(l) == 0.0:\n",
    "            positions.append(i)\n",
    "            real_eigvalues.append(l)\n",
    "    real_eigvalues = np.array(real_eigvalues)\n",
    "    real_eigvectors = np.real( eigvectors[:, positions] )\n",
    "    unit_eigvalue = np.argmin( np.abs( real_eigvalues - 1 ) )\n",
    "    ergo_dist = real_eigvectors[:, unit_eigvalue]\n",
    "    ergo_dist /= ergo_dist.sum()\n",
    "    return ergo_dist"
   ]
  },
  {
   "cell_type": "code",
   "execution_count": null,
   "id": "after-harvest",
   "metadata": {},
   "outputs": [],
   "source": [
    "def solve_vfi(r, A, Y, beta, gamma, tol=1e-6):\n",
    "    na = A.size\n",
    "    ny = Y.size\n",
    "    V0 = np.zeros((na, ny))\n",
    "    dr = np.zeros((na, ny), dtype=int)\n",
    "    crit = 1.0\n",
    "    n_iter = 0\n",
    "    t0 = time()\n",
    "    while crit > tol:\n",
    "        n_iter += 1\n",
    "        V1 = np.zeros_like(V0)\n",
    "        U = np.zeros((na, ny))\n",
    "        for i in range(na):\n",
    "            for j in range(ny):\n",
    "                C = Y[j] + (1 + r) * A[i] - A\n",
    "                C[C < 0] = np.nan\n",
    "                U[:, j] = C ** (1 - gamma) / (1 - gamma)\n",
    "            objective = U + beta * V0 @ Pi.T\n",
    "            V1[i, :] = np.nanmax(objective, axis=0)\n",
    "        crit = np.max( np.max( np.abs( V1 - V0 ) ) )\n",
    "        V0[:] = V1\n",
    "    t1 = time()\n",
    "    for i in range(na):\n",
    "        for j in range(ny):\n",
    "            C = Y[j] + (1 + r) * A[i] - A\n",
    "            C[C < 0] = np.nan\n",
    "            U[:, j] = C ** (1 - gamma) / (1 - gamma)\n",
    "        objective = U + beta * V0 @ Pi.T\n",
    "        dr[i, :] = np.nanargmax(objective, axis=0)\n",
    "    pf_a = A[dr]\n",
    "    print('VFI solved with r = {0:.10f}%; {1:.3f} seconds'.format(r*100, t1-t0))\n",
    "    return pf_a"
   ]
  },
  {
   "cell_type": "code",
   "execution_count": null,
   "id": "regular-albania",
   "metadata": {},
   "outputs": [],
   "source": [
    "def market_clearing(r, beta=0.97, gamma=2.0, tol=1e-6, full_output=False):\n",
    "    na = A.size\n",
    "    ny = Y.size\n",
    "    ns = na * ny\n",
    "    pa = np.zeros((na, na, ny), dtype=int)\n",
    "    pf_a = solve_vfi(r, A, Y, beta, gamma)\n",
    "    pass"
   ]
  },
  {
   "cell_type": "code",
   "execution_count": null,
   "id": "absolute-yorkshire",
   "metadata": {},
   "outputs": [],
   "source": [
    "rStar, diagnostics = \"fill me in!\""
   ]
  },
  {
   "cell_type": "code",
   "execution_count": null,
   "id": "stable-davis",
   "metadata": {},
   "outputs": [],
   "source": [
    "diagnostics"
   ]
  },
  {
   "cell_type": "code",
   "execution_count": null,
   "id": "neural-saver",
   "metadata": {},
   "outputs": [],
   "source": [
    "pass"
   ]
  },
  {
   "cell_type": "code",
   "execution_count": null,
   "id": "miniature-jerusalem",
   "metadata": {},
   "outputs": [],
   "source": [
    "ergo_dist = ergo_dist.reshape((Y.size, A.size)).T\n",
    "marginal_dist_income = ergodic_distribution(Pi)\n",
    "dist_if_y_lo = ergo_dist[:, 0] / marginal_dist_income[0]\n",
    "dist_if_y_hi = ergo_dist[:, -1] / marginal_dist_income[-1]"
   ]
  },
  {
   "cell_type": "code",
   "execution_count": null,
   "id": "electric-message",
   "metadata": {},
   "outputs": [],
   "source": [
    "fig, ax = plt.subplots(nrows=1, ncols=2)\n",
    "ax[0].plot(A, A, color='black', alpha=0.5, linestyle='dashed')\n",
    "ax[0].plot(A, pf_a[:, 0], color='red', linewidth=2, label=\"$A'(A, Y^l)$\")\n",
    "ax[0].plot(A, pf_a[:, 1], color='green', linewidth=2, label=\"$A'(A, Y^h)$\")\n",
    "ax[0].legend()\n",
    "ax[0].set_title('Pol. fun. assets')\n",
    "ax[0].set_xlabel('$A$')\n",
    "ax[0].set_ylabel(\"$A'(A, Y)$\")\n",
    "ax[1].plot(A, dist_if_y_lo, color='red', linewidth=2, label='$\\lambda(A | Y^l)$')\n",
    "ax[1].plot(A, dist_if_y_hi, color='green', linewidth=2, label='$\\lambda(A | Y^h)$')\n",
    "ax[1].legend()\n",
    "ax[1].set_xlabel('$A$')\n",
    "ax[1].set_title('$\\lambda(A | Y)$')\n",
    "plt.tight_layout()\n",
    "plt.show()"
   ]
  },
  {
   "cell_type": "markdown",
   "id": "secure-jurisdiction",
   "metadata": {},
   "source": [
    "The last plot on the right makes it look like some probabilities on the endogenous distribution are negative. They are not. The $y$-axis has been scaled-and-shifted by `1e-14+1e-2`, which means that each tick label $i$ on the vertical axis are $i \\times 10^{-14} + 1 \\times 10^{-2}$. Therefore, the zero displayed is actually $0.01$. The label $-1$ actually is $0.004 - 10^{-14} > 0$."
   ]
  }
 ],
 "metadata": {
  "kernelspec": {
   "display_name": "Python 3",
   "language": "python",
   "name": "python3"
  },
  "language_info": {
   "codemirror_mode": {
    "name": "ipython",
    "version": 3
   },
   "file_extension": ".py",
   "mimetype": "text/x-python",
   "name": "python",
   "nbconvert_exporter": "python",
   "pygments_lexer": "ipython3",
   "version": "3.8.8"
  }
 },
 "nbformat": 4,
 "nbformat_minor": 5
}
